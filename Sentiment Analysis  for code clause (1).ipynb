{
 "cells": [
  {
   "cell_type": "markdown",
   "id": "a7681c48",
   "metadata": {},
   "source": [
    "#  Sentiment Analysis in Python\n"
   ]
  },
  {
   "cell_type": "raw",
   "id": "5b290104",
   "metadata": {},
   "source": [
    "Sentiment Analysis in Python\n",
    "In this notebook we will be doing some sentiment analysis in python using two different techniques:\n",
    "\n",
    "1. VADER (Valence Aware Dictionary and sEntiment Reasoner) - Bag of words approach.\n",
    "2. Roberta Pretrained Model from 🤗 .\n",
    "3. Huggingface Pipeline .\n"
   ]
  },
  {
   "cell_type": "markdown",
   "id": "091ea07d",
   "metadata": {},
   "source": [
    "#  Step 0. Read in Data and NLTK Basic"
   ]
  },
  {
   "cell_type": "code",
   "execution_count": 6,
   "id": "bdb416d9",
   "metadata": {},
   "outputs": [],
   "source": [
    "#   improting library .\n",
    "#  Note that we applied ggplot2 styling to a histogram, but the statement plt. style. use('ggplot') can be used to apply \n",
    "#  ggplot2 styling to any plot in Matplotlib\n",
    " \n",
    "import numpy as np\n",
    "import pandas as pd\n",
    "import matplotlib.pyplot as plt\n",
    "import seaborn as sns\n",
    "\n",
    "plt.style.use('ggplot')\n",
    "\n",
    "\n",
    "import nltk"
   ]
  },
  {
   "cell_type": "code",
   "execution_count": 4,
   "id": "0e8be053",
   "metadata": {},
   "outputs": [],
   "source": [
    "df=pd.read_csv('Reviews.csv.zip')"
   ]
  },
  {
   "cell_type": "code",
   "execution_count": 5,
   "id": "762150ef",
   "metadata": {},
   "outputs": [
    {
     "data": {
      "text/html": [
       "<div>\n",
       "<style scoped>\n",
       "    .dataframe tbody tr th:only-of-type {\n",
       "        vertical-align: middle;\n",
       "    }\n",
       "\n",
       "    .dataframe tbody tr th {\n",
       "        vertical-align: top;\n",
       "    }\n",
       "\n",
       "    .dataframe thead th {\n",
       "        text-align: right;\n",
       "    }\n",
       "</style>\n",
       "<table border=\"1\" class=\"dataframe\">\n",
       "  <thead>\n",
       "    <tr style=\"text-align: right;\">\n",
       "      <th></th>\n",
       "      <th>Id</th>\n",
       "      <th>ProductId</th>\n",
       "      <th>UserId</th>\n",
       "      <th>ProfileName</th>\n",
       "      <th>HelpfulnessNumerator</th>\n",
       "      <th>HelpfulnessDenominator</th>\n",
       "      <th>Score</th>\n",
       "      <th>Time</th>\n",
       "      <th>Summary</th>\n",
       "      <th>Text</th>\n",
       "    </tr>\n",
       "  </thead>\n",
       "  <tbody>\n",
       "    <tr>\n",
       "      <th>0</th>\n",
       "      <td>1</td>\n",
       "      <td>B001E4KFG0</td>\n",
       "      <td>A3SGXH7AUHU8GW</td>\n",
       "      <td>delmartian</td>\n",
       "      <td>1</td>\n",
       "      <td>1</td>\n",
       "      <td>5</td>\n",
       "      <td>1303862400</td>\n",
       "      <td>Good Quality Dog Food</td>\n",
       "      <td>I have bought several of the Vitality canned d...</td>\n",
       "    </tr>\n",
       "    <tr>\n",
       "      <th>1</th>\n",
       "      <td>2</td>\n",
       "      <td>B00813GRG4</td>\n",
       "      <td>A1D87F6ZCVE5NK</td>\n",
       "      <td>dll pa</td>\n",
       "      <td>0</td>\n",
       "      <td>0</td>\n",
       "      <td>1</td>\n",
       "      <td>1346976000</td>\n",
       "      <td>Not as Advertised</td>\n",
       "      <td>Product arrived labeled as Jumbo Salted Peanut...</td>\n",
       "    </tr>\n",
       "    <tr>\n",
       "      <th>2</th>\n",
       "      <td>3</td>\n",
       "      <td>B000LQOCH0</td>\n",
       "      <td>ABXLMWJIXXAIN</td>\n",
       "      <td>Natalia Corres \"Natalia Corres\"</td>\n",
       "      <td>1</td>\n",
       "      <td>1</td>\n",
       "      <td>4</td>\n",
       "      <td>1219017600</td>\n",
       "      <td>\"Delight\" says it all</td>\n",
       "      <td>This is a confection that has been around a fe...</td>\n",
       "    </tr>\n",
       "    <tr>\n",
       "      <th>3</th>\n",
       "      <td>4</td>\n",
       "      <td>B000UA0QIQ</td>\n",
       "      <td>A395BORC6FGVXV</td>\n",
       "      <td>Karl</td>\n",
       "      <td>3</td>\n",
       "      <td>3</td>\n",
       "      <td>2</td>\n",
       "      <td>1307923200</td>\n",
       "      <td>Cough Medicine</td>\n",
       "      <td>If you are looking for the secret ingredient i...</td>\n",
       "    </tr>\n",
       "    <tr>\n",
       "      <th>4</th>\n",
       "      <td>5</td>\n",
       "      <td>B006K2ZZ7K</td>\n",
       "      <td>A1UQRSCLF8GW1T</td>\n",
       "      <td>Michael D. Bigham \"M. Wassir\"</td>\n",
       "      <td>0</td>\n",
       "      <td>0</td>\n",
       "      <td>5</td>\n",
       "      <td>1350777600</td>\n",
       "      <td>Great taffy</td>\n",
       "      <td>Great taffy at a great price.  There was a wid...</td>\n",
       "    </tr>\n",
       "    <tr>\n",
       "      <th>...</th>\n",
       "      <td>...</td>\n",
       "      <td>...</td>\n",
       "      <td>...</td>\n",
       "      <td>...</td>\n",
       "      <td>...</td>\n",
       "      <td>...</td>\n",
       "      <td>...</td>\n",
       "      <td>...</td>\n",
       "      <td>...</td>\n",
       "      <td>...</td>\n",
       "    </tr>\n",
       "    <tr>\n",
       "      <th>568449</th>\n",
       "      <td>568450</td>\n",
       "      <td>B001EO7N10</td>\n",
       "      <td>A28KG5XORO54AY</td>\n",
       "      <td>Lettie D. Carter</td>\n",
       "      <td>0</td>\n",
       "      <td>0</td>\n",
       "      <td>5</td>\n",
       "      <td>1299628800</td>\n",
       "      <td>Will not do without</td>\n",
       "      <td>Great for sesame chicken..this is a good if no...</td>\n",
       "    </tr>\n",
       "    <tr>\n",
       "      <th>568450</th>\n",
       "      <td>568451</td>\n",
       "      <td>B003S1WTCU</td>\n",
       "      <td>A3I8AFVPEE8KI5</td>\n",
       "      <td>R. Sawyer</td>\n",
       "      <td>0</td>\n",
       "      <td>0</td>\n",
       "      <td>2</td>\n",
       "      <td>1331251200</td>\n",
       "      <td>disappointed</td>\n",
       "      <td>I'm disappointed with the flavor. The chocolat...</td>\n",
       "    </tr>\n",
       "    <tr>\n",
       "      <th>568451</th>\n",
       "      <td>568452</td>\n",
       "      <td>B004I613EE</td>\n",
       "      <td>A121AA1GQV751Z</td>\n",
       "      <td>pksd \"pk_007\"</td>\n",
       "      <td>2</td>\n",
       "      <td>2</td>\n",
       "      <td>5</td>\n",
       "      <td>1329782400</td>\n",
       "      <td>Perfect for our maltipoo</td>\n",
       "      <td>These stars are small, so you can give 10-15 o...</td>\n",
       "    </tr>\n",
       "    <tr>\n",
       "      <th>568452</th>\n",
       "      <td>568453</td>\n",
       "      <td>B004I613EE</td>\n",
       "      <td>A3IBEVCTXKNOH</td>\n",
       "      <td>Kathy A. Welch \"katwel\"</td>\n",
       "      <td>1</td>\n",
       "      <td>1</td>\n",
       "      <td>5</td>\n",
       "      <td>1331596800</td>\n",
       "      <td>Favorite Training and reward treat</td>\n",
       "      <td>These are the BEST treats for training and rew...</td>\n",
       "    </tr>\n",
       "    <tr>\n",
       "      <th>568453</th>\n",
       "      <td>568454</td>\n",
       "      <td>B001LR2CU2</td>\n",
       "      <td>A3LGQPJCZVL9UC</td>\n",
       "      <td>srfell17</td>\n",
       "      <td>0</td>\n",
       "      <td>0</td>\n",
       "      <td>5</td>\n",
       "      <td>1338422400</td>\n",
       "      <td>Great Honey</td>\n",
       "      <td>I am very satisfied ,product is as advertised,...</td>\n",
       "    </tr>\n",
       "  </tbody>\n",
       "</table>\n",
       "<p>568454 rows × 10 columns</p>\n",
       "</div>"
      ],
      "text/plain": [
       "            Id   ProductId          UserId                      ProfileName  \\\n",
       "0            1  B001E4KFG0  A3SGXH7AUHU8GW                       delmartian   \n",
       "1            2  B00813GRG4  A1D87F6ZCVE5NK                           dll pa   \n",
       "2            3  B000LQOCH0   ABXLMWJIXXAIN  Natalia Corres \"Natalia Corres\"   \n",
       "3            4  B000UA0QIQ  A395BORC6FGVXV                             Karl   \n",
       "4            5  B006K2ZZ7K  A1UQRSCLF8GW1T    Michael D. Bigham \"M. Wassir\"   \n",
       "...        ...         ...             ...                              ...   \n",
       "568449  568450  B001EO7N10  A28KG5XORO54AY                 Lettie D. Carter   \n",
       "568450  568451  B003S1WTCU  A3I8AFVPEE8KI5                        R. Sawyer   \n",
       "568451  568452  B004I613EE  A121AA1GQV751Z                    pksd \"pk_007\"   \n",
       "568452  568453  B004I613EE   A3IBEVCTXKNOH          Kathy A. Welch \"katwel\"   \n",
       "568453  568454  B001LR2CU2  A3LGQPJCZVL9UC                         srfell17   \n",
       "\n",
       "        HelpfulnessNumerator  HelpfulnessDenominator  Score        Time  \\\n",
       "0                          1                       1      5  1303862400   \n",
       "1                          0                       0      1  1346976000   \n",
       "2                          1                       1      4  1219017600   \n",
       "3                          3                       3      2  1307923200   \n",
       "4                          0                       0      5  1350777600   \n",
       "...                      ...                     ...    ...         ...   \n",
       "568449                     0                       0      5  1299628800   \n",
       "568450                     0                       0      2  1331251200   \n",
       "568451                     2                       2      5  1329782400   \n",
       "568452                     1                       1      5  1331596800   \n",
       "568453                     0                       0      5  1338422400   \n",
       "\n",
       "                                   Summary  \\\n",
       "0                    Good Quality Dog Food   \n",
       "1                        Not as Advertised   \n",
       "2                    \"Delight\" says it all   \n",
       "3                           Cough Medicine   \n",
       "4                              Great taffy   \n",
       "...                                    ...   \n",
       "568449                 Will not do without   \n",
       "568450                        disappointed   \n",
       "568451            Perfect for our maltipoo   \n",
       "568452  Favorite Training and reward treat   \n",
       "568453                         Great Honey   \n",
       "\n",
       "                                                     Text  \n",
       "0       I have bought several of the Vitality canned d...  \n",
       "1       Product arrived labeled as Jumbo Salted Peanut...  \n",
       "2       This is a confection that has been around a fe...  \n",
       "3       If you are looking for the secret ingredient i...  \n",
       "4       Great taffy at a great price.  There was a wid...  \n",
       "...                                                   ...  \n",
       "568449  Great for sesame chicken..this is a good if no...  \n",
       "568450  I'm disappointed with the flavor. The chocolat...  \n",
       "568451  These stars are small, so you can give 10-15 o...  \n",
       "568452  These are the BEST treats for training and rew...  \n",
       "568453  I am very satisfied ,product is as advertised,...  \n",
       "\n",
       "[568454 rows x 10 columns]"
      ]
     },
     "execution_count": 5,
     "metadata": {},
     "output_type": "execute_result"
    }
   ],
   "source": [
    "df"
   ]
  },
  {
   "cell_type": "code",
   "execution_count": 7,
   "id": "c125278b",
   "metadata": {},
   "outputs": [
    {
     "data": {
      "text/plain": [
       "(568454, 10)"
      ]
     },
     "execution_count": 7,
     "metadata": {},
     "output_type": "execute_result"
    }
   ],
   "source": [
    "# for shape of dataset rows and columns\n",
    "df.shape"
   ]
  },
  {
   "cell_type": "code",
   "execution_count": 8,
   "id": "5a4e3435",
   "metadata": {},
   "outputs": [
    {
     "data": {
      "text/plain": [
       "Id                         0\n",
       "ProductId                  0\n",
       "UserId                     0\n",
       "ProfileName               16\n",
       "HelpfulnessNumerator       0\n",
       "HelpfulnessDenominator     0\n",
       "Score                      0\n",
       "Time                       0\n",
       "Summary                   27\n",
       "Text                       0\n",
       "dtype: int64"
      ]
     },
     "execution_count": 8,
     "metadata": {},
     "output_type": "execute_result"
    }
   ],
   "source": [
    "df.isnull().sum()"
   ]
  },
  {
   "cell_type": "code",
   "execution_count": 9,
   "id": "e6e801d8",
   "metadata": {},
   "outputs": [
    {
     "data": {
      "text/html": [
       "<div>\n",
       "<style scoped>\n",
       "    .dataframe tbody tr th:only-of-type {\n",
       "        vertical-align: middle;\n",
       "    }\n",
       "\n",
       "    .dataframe tbody tr th {\n",
       "        vertical-align: top;\n",
       "    }\n",
       "\n",
       "    .dataframe thead th {\n",
       "        text-align: right;\n",
       "    }\n",
       "</style>\n",
       "<table border=\"1\" class=\"dataframe\">\n",
       "  <thead>\n",
       "    <tr style=\"text-align: right;\">\n",
       "      <th></th>\n",
       "      <th>Id</th>\n",
       "      <th>ProductId</th>\n",
       "      <th>UserId</th>\n",
       "      <th>ProfileName</th>\n",
       "      <th>HelpfulnessNumerator</th>\n",
       "      <th>HelpfulnessDenominator</th>\n",
       "      <th>Score</th>\n",
       "      <th>Time</th>\n",
       "      <th>Summary</th>\n",
       "      <th>Text</th>\n",
       "    </tr>\n",
       "  </thead>\n",
       "  <tbody>\n",
       "    <tr>\n",
       "      <th>0</th>\n",
       "      <td>1</td>\n",
       "      <td>B001E4KFG0</td>\n",
       "      <td>A3SGXH7AUHU8GW</td>\n",
       "      <td>delmartian</td>\n",
       "      <td>1</td>\n",
       "      <td>1</td>\n",
       "      <td>5</td>\n",
       "      <td>1303862400</td>\n",
       "      <td>Good Quality Dog Food</td>\n",
       "      <td>I have bought several of the Vitality canned d...</td>\n",
       "    </tr>\n",
       "    <tr>\n",
       "      <th>1</th>\n",
       "      <td>2</td>\n",
       "      <td>B00813GRG4</td>\n",
       "      <td>A1D87F6ZCVE5NK</td>\n",
       "      <td>dll pa</td>\n",
       "      <td>0</td>\n",
       "      <td>0</td>\n",
       "      <td>1</td>\n",
       "      <td>1346976000</td>\n",
       "      <td>Not as Advertised</td>\n",
       "      <td>Product arrived labeled as Jumbo Salted Peanut...</td>\n",
       "    </tr>\n",
       "    <tr>\n",
       "      <th>2</th>\n",
       "      <td>3</td>\n",
       "      <td>B000LQOCH0</td>\n",
       "      <td>ABXLMWJIXXAIN</td>\n",
       "      <td>Natalia Corres \"Natalia Corres\"</td>\n",
       "      <td>1</td>\n",
       "      <td>1</td>\n",
       "      <td>4</td>\n",
       "      <td>1219017600</td>\n",
       "      <td>\"Delight\" says it all</td>\n",
       "      <td>This is a confection that has been around a fe...</td>\n",
       "    </tr>\n",
       "    <tr>\n",
       "      <th>3</th>\n",
       "      <td>4</td>\n",
       "      <td>B000UA0QIQ</td>\n",
       "      <td>A395BORC6FGVXV</td>\n",
       "      <td>Karl</td>\n",
       "      <td>3</td>\n",
       "      <td>3</td>\n",
       "      <td>2</td>\n",
       "      <td>1307923200</td>\n",
       "      <td>Cough Medicine</td>\n",
       "      <td>If you are looking for the secret ingredient i...</td>\n",
       "    </tr>\n",
       "    <tr>\n",
       "      <th>4</th>\n",
       "      <td>5</td>\n",
       "      <td>B006K2ZZ7K</td>\n",
       "      <td>A1UQRSCLF8GW1T</td>\n",
       "      <td>Michael D. Bigham \"M. Wassir\"</td>\n",
       "      <td>0</td>\n",
       "      <td>0</td>\n",
       "      <td>5</td>\n",
       "      <td>1350777600</td>\n",
       "      <td>Great taffy</td>\n",
       "      <td>Great taffy at a great price.  There was a wid...</td>\n",
       "    </tr>\n",
       "  </tbody>\n",
       "</table>\n",
       "</div>"
      ],
      "text/plain": [
       "   Id   ProductId          UserId                      ProfileName  \\\n",
       "0   1  B001E4KFG0  A3SGXH7AUHU8GW                       delmartian   \n",
       "1   2  B00813GRG4  A1D87F6ZCVE5NK                           dll pa   \n",
       "2   3  B000LQOCH0   ABXLMWJIXXAIN  Natalia Corres \"Natalia Corres\"   \n",
       "3   4  B000UA0QIQ  A395BORC6FGVXV                             Karl   \n",
       "4   5  B006K2ZZ7K  A1UQRSCLF8GW1T    Michael D. Bigham \"M. Wassir\"   \n",
       "\n",
       "   HelpfulnessNumerator  HelpfulnessDenominator  Score        Time  \\\n",
       "0                     1                       1      5  1303862400   \n",
       "1                     0                       0      1  1346976000   \n",
       "2                     1                       1      4  1219017600   \n",
       "3                     3                       3      2  1307923200   \n",
       "4                     0                       0      5  1350777600   \n",
       "\n",
       "                 Summary                                               Text  \n",
       "0  Good Quality Dog Food  I have bought several of the Vitality canned d...  \n",
       "1      Not as Advertised  Product arrived labeled as Jumbo Salted Peanut...  \n",
       "2  \"Delight\" says it all  This is a confection that has been around a fe...  \n",
       "3         Cough Medicine  If you are looking for the secret ingredient i...  \n",
       "4            Great taffy  Great taffy at a great price.  There was a wid...  "
      ]
     },
     "execution_count": 9,
     "metadata": {},
     "output_type": "execute_result"
    }
   ],
   "source": [
    "# for showing top 5 rows\n",
    "df.head(5)"
   ]
  },
  {
   "cell_type": "code",
   "execution_count": 10,
   "id": "63f58f33",
   "metadata": {},
   "outputs": [
    {
     "data": {
      "text/html": [
       "<div>\n",
       "<style scoped>\n",
       "    .dataframe tbody tr th:only-of-type {\n",
       "        vertical-align: middle;\n",
       "    }\n",
       "\n",
       "    .dataframe tbody tr th {\n",
       "        vertical-align: top;\n",
       "    }\n",
       "\n",
       "    .dataframe thead th {\n",
       "        text-align: right;\n",
       "    }\n",
       "</style>\n",
       "<table border=\"1\" class=\"dataframe\">\n",
       "  <thead>\n",
       "    <tr style=\"text-align: right;\">\n",
       "      <th></th>\n",
       "      <th>Id</th>\n",
       "      <th>ProductId</th>\n",
       "      <th>UserId</th>\n",
       "      <th>ProfileName</th>\n",
       "      <th>HelpfulnessNumerator</th>\n",
       "      <th>HelpfulnessDenominator</th>\n",
       "      <th>Score</th>\n",
       "      <th>Time</th>\n",
       "      <th>Summary</th>\n",
       "      <th>Text</th>\n",
       "    </tr>\n",
       "  </thead>\n",
       "  <tbody>\n",
       "    <tr>\n",
       "      <th>568449</th>\n",
       "      <td>568450</td>\n",
       "      <td>B001EO7N10</td>\n",
       "      <td>A28KG5XORO54AY</td>\n",
       "      <td>Lettie D. Carter</td>\n",
       "      <td>0</td>\n",
       "      <td>0</td>\n",
       "      <td>5</td>\n",
       "      <td>1299628800</td>\n",
       "      <td>Will not do without</td>\n",
       "      <td>Great for sesame chicken..this is a good if no...</td>\n",
       "    </tr>\n",
       "    <tr>\n",
       "      <th>568450</th>\n",
       "      <td>568451</td>\n",
       "      <td>B003S1WTCU</td>\n",
       "      <td>A3I8AFVPEE8KI5</td>\n",
       "      <td>R. Sawyer</td>\n",
       "      <td>0</td>\n",
       "      <td>0</td>\n",
       "      <td>2</td>\n",
       "      <td>1331251200</td>\n",
       "      <td>disappointed</td>\n",
       "      <td>I'm disappointed with the flavor. The chocolat...</td>\n",
       "    </tr>\n",
       "    <tr>\n",
       "      <th>568451</th>\n",
       "      <td>568452</td>\n",
       "      <td>B004I613EE</td>\n",
       "      <td>A121AA1GQV751Z</td>\n",
       "      <td>pksd \"pk_007\"</td>\n",
       "      <td>2</td>\n",
       "      <td>2</td>\n",
       "      <td>5</td>\n",
       "      <td>1329782400</td>\n",
       "      <td>Perfect for our maltipoo</td>\n",
       "      <td>These stars are small, so you can give 10-15 o...</td>\n",
       "    </tr>\n",
       "    <tr>\n",
       "      <th>568452</th>\n",
       "      <td>568453</td>\n",
       "      <td>B004I613EE</td>\n",
       "      <td>A3IBEVCTXKNOH</td>\n",
       "      <td>Kathy A. Welch \"katwel\"</td>\n",
       "      <td>1</td>\n",
       "      <td>1</td>\n",
       "      <td>5</td>\n",
       "      <td>1331596800</td>\n",
       "      <td>Favorite Training and reward treat</td>\n",
       "      <td>These are the BEST treats for training and rew...</td>\n",
       "    </tr>\n",
       "    <tr>\n",
       "      <th>568453</th>\n",
       "      <td>568454</td>\n",
       "      <td>B001LR2CU2</td>\n",
       "      <td>A3LGQPJCZVL9UC</td>\n",
       "      <td>srfell17</td>\n",
       "      <td>0</td>\n",
       "      <td>0</td>\n",
       "      <td>5</td>\n",
       "      <td>1338422400</td>\n",
       "      <td>Great Honey</td>\n",
       "      <td>I am very satisfied ,product is as advertised,...</td>\n",
       "    </tr>\n",
       "  </tbody>\n",
       "</table>\n",
       "</div>"
      ],
      "text/plain": [
       "            Id   ProductId          UserId              ProfileName  \\\n",
       "568449  568450  B001EO7N10  A28KG5XORO54AY         Lettie D. Carter   \n",
       "568450  568451  B003S1WTCU  A3I8AFVPEE8KI5                R. Sawyer   \n",
       "568451  568452  B004I613EE  A121AA1GQV751Z            pksd \"pk_007\"   \n",
       "568452  568453  B004I613EE   A3IBEVCTXKNOH  Kathy A. Welch \"katwel\"   \n",
       "568453  568454  B001LR2CU2  A3LGQPJCZVL9UC                 srfell17   \n",
       "\n",
       "        HelpfulnessNumerator  HelpfulnessDenominator  Score        Time  \\\n",
       "568449                     0                       0      5  1299628800   \n",
       "568450                     0                       0      2  1331251200   \n",
       "568451                     2                       2      5  1329782400   \n",
       "568452                     1                       1      5  1331596800   \n",
       "568453                     0                       0      5  1338422400   \n",
       "\n",
       "                                   Summary  \\\n",
       "568449                 Will not do without   \n",
       "568450                        disappointed   \n",
       "568451            Perfect for our maltipoo   \n",
       "568452  Favorite Training and reward treat   \n",
       "568453                         Great Honey   \n",
       "\n",
       "                                                     Text  \n",
       "568449  Great for sesame chicken..this is a good if no...  \n",
       "568450  I'm disappointed with the flavor. The chocolat...  \n",
       "568451  These stars are small, so you can give 10-15 o...  \n",
       "568452  These are the BEST treats for training and rew...  \n",
       "568453  I am very satisfied ,product is as advertised,...  "
      ]
     },
     "execution_count": 10,
     "metadata": {},
     "output_type": "execute_result"
    }
   ],
   "source": [
    "# for bottom 5 rows\n",
    "df.tail(5)"
   ]
  },
  {
   "cell_type": "code",
   "execution_count": 12,
   "id": "68c6aa92",
   "metadata": {},
   "outputs": [
    {
     "data": {
      "text/plain": [
       "'Product arrived labeled as Jumbo Salted Peanuts...the peanuts were actually small sized unsalted. Not sure if this was an error or if the vendor intended to represent the product as \"Jumbo\".'"
      ]
     },
     "execution_count": 12,
     "metadata": {},
     "output_type": "execute_result"
    }
   ],
   "source": [
    "# for text reviews of customers , In values using index values we can find any of  reviews of products\n",
    "df['Text'].values[1]\n"
   ]
  },
  {
   "cell_type": "code",
   "execution_count": 13,
   "id": "9aa73a3d",
   "metadata": {},
   "outputs": [
    {
     "name": "stdout",
     "output_type": "stream",
     "text": [
      "<class 'pandas.core.frame.DataFrame'>\n",
      "RangeIndex: 568454 entries, 0 to 568453\n",
      "Data columns (total 10 columns):\n",
      " #   Column                  Non-Null Count   Dtype \n",
      "---  ------                  --------------   ----- \n",
      " 0   Id                      568454 non-null  int64 \n",
      " 1   ProductId               568454 non-null  object\n",
      " 2   UserId                  568454 non-null  object\n",
      " 3   ProfileName             568438 non-null  object\n",
      " 4   HelpfulnessNumerator    568454 non-null  int64 \n",
      " 5   HelpfulnessDenominator  568454 non-null  int64 \n",
      " 6   Score                   568454 non-null  int64 \n",
      " 7   Time                    568454 non-null  int64 \n",
      " 8   Summary                 568427 non-null  object\n",
      " 9   Text                    568454 non-null  object\n",
      "dtypes: int64(5), object(5)\n",
      "memory usage: 43.4+ MB\n"
     ]
    }
   ],
   "source": [
    "# we can find all info about dataset , here we can see memory usage columns names as well datatypes\n",
    "df.info()"
   ]
  },
  {
   "cell_type": "code",
   "execution_count": 15,
   "id": "1bb5aae3",
   "metadata": {},
   "outputs": [
    {
     "data": {
      "text/plain": [
       "5    363122\n",
       "4     80655\n",
       "1     52268\n",
       "3     42640\n",
       "2     29769\n",
       "Name: Score, dtype: int64"
      ]
     },
     "execution_count": 15,
     "metadata": {},
     "output_type": "execute_result"
    }
   ],
   "source": [
    "# how many  each Scores accurs and  given by coustomers\n",
    "df['Score'].value_counts()"
   ]
  },
  {
   "cell_type": "code",
   "execution_count": 16,
   "id": "50396603",
   "metadata": {},
   "outputs": [
    {
     "data": {
      "text/plain": [
       "1     52268\n",
       "2     29769\n",
       "3     42640\n",
       "4     80655\n",
       "5    363122\n",
       "Name: Score, dtype: int64"
      ]
     },
     "execution_count": 16,
     "metadata": {},
     "output_type": "execute_result"
    }
   ],
   "source": [
    "# sorts the Index values\n",
    "df['Score'].value_counts().sort_index()"
   ]
  },
  {
   "cell_type": "code",
   "execution_count": 17,
   "id": "a88712bc",
   "metadata": {},
   "outputs": [
    {
     "data": {
      "text/plain": [
       "<AxesSubplot:title={'center':' Count of Reviews  by stars'}>"
      ]
     },
     "execution_count": 17,
     "metadata": {},
     "output_type": "execute_result"
    },
    {
     "data": {
      "image/png": "[encoded data removed]",
      "text/plain": [
       "<Figure size 720x360 with 1 Axes>"
      ]
     },
     "metadata": {},
     "output_type": "display_data"
    }
   ],
   "source": [
    "# Sorts the Index values and then plots the graph \n",
    "df['Score'].value_counts().sort_index().plot(kind='bar',title=' Count of Reviews  by stars',figsize=(10,5))"
   ]
  },
  {
   "cell_type": "code",
   "execution_count": null,
   "id": "ebd0588e",
   "metadata": {},
   "outputs": [],
   "source": [
    "ax= df['Score'].value_counts().sort_index().plot(kind='bar',title=' Count of Reviews  by stars',figsize=(10,5))"
   ]
  },
  {
   "cell_type": "code",
   "execution_count": 30,
   "id": "9ab3de21",
   "metadata": {},
   "outputs": [
    {
     "data": {
      "image/png": "[encoded data removed]",
      "text/plain": [
       "<Figure size 720x360 with 1 Axes>"
      ]
     },
     "metadata": {},
     "output_type": "display_data"
    }
   ],
   "source": [
    "# add labels and assigend as variable\n",
    "ax=df['Score'].value_counts().sort_index() \\\n",
    ".plot(kind='bar',\n",
    "      title=' Count of Reviews  by stars',\n",
    "      figsize=(10,5))\n",
    "ax.set_xlabel('Review by stars')\n",
    "plt.show()\n",
    "\n"
   ]
  },
  {
   "cell_type": "code",
   "execution_count": 28,
   "id": "1ce1bf21",
   "metadata": {},
   "outputs": [
    {
     "data": {
      "image/png": "[encoded data removed]",
      "text/plain": [
       "<Figure size 432x288 with 1 Axes>"
      ]
     },
     "metadata": {},
     "output_type": "display_data"
    }
   ],
   "source": [
    "# Here we can saw mostly we have 5 star rating , but also 1 star rating reviews too .\n",
    "sns.countplot(x=df['Score'], data=df)\n",
    "plt.title(' Count of Reviews  by stars',color='green')\n",
    "plt.grid()\n",
    "plt.show()"
   ]
  },
  {
   "cell_type": "code",
   "execution_count": 53,
   "id": "9464529b",
   "metadata": {},
   "outputs": [
    {
     "data": {
      "text/plain": [
       "\"This oatmeal is not good. Its mushy, soft, I don't like it. Quaker Oats is the way to go.\""
      ]
     },
     "execution_count": 53,
     "metadata": {},
     "output_type": "execute_result"
    }
   ],
   "source": [
    "# # BASIS NLTK(Natural language Toolkit)\n",
    "# NLTK, or Natural Language Toolkit, is a Python package that we can use for NLP. A lot of the data that we could be\n",
    "## analyzing is unstructured data and contains human-readable text\n",
    "\n",
    "# lets take random 1 star example review\n",
    "\n",
    "example=df['Text'][50]\n",
    "example"
   ]
  },
  {
   "cell_type": "code",
   "execution_count": 54,
   "id": "dfb1ee3d",
   "metadata": {},
   "outputs": [],
   "source": [
    "# Support for regular expressions (RE). \n",
    "#Support to pretty-print lists,tuples,dictionaries recursively.Very simple,but useful,especially in debugging data structures.clasess\n",
    "\n",
    "import nltk, re, pprint"
   ]
  },
  {
   "cell_type": "code",
   "execution_count": 55,
   "id": "ca0a0f64",
   "metadata": {},
   "outputs": [
    {
     "name": "stderr",
     "output_type": "stream",
     "text": [
      "[nltk_data] Downloading package punkt to\n",
      "[nltk_data]     C:\\Users\\Suman\\AppData\\Roaming\\nltk_data...\n",
      "[nltk_data]   Package punkt is already up-to-date!\n"
     ]
    },
    {
     "data": {
      "text/plain": [
       "True"
      ]
     },
     "execution_count": 55,
     "metadata": {},
     "output_type": "execute_result"
    }
   ],
   "source": [
    "import nltk\n",
    "nltk.download('punkt')\n",
    "  "
   ]
  },
  {
   "cell_type": "code",
   "execution_count": 56,
   "id": "8ef2d2a8",
   "metadata": {},
   "outputs": [],
   "source": [
    "from nltk import word_tokenize"
   ]
  },
  {
   "cell_type": "code",
   "execution_count": 58,
   "id": "549f04f4",
   "metadata": {},
   "outputs": [
    {
     "data": {
      "text/plain": [
       "['This',\n",
       " 'oatmeal',\n",
       " 'is',\n",
       " 'not',\n",
       " 'good',\n",
       " '.',\n",
       " 'Its',\n",
       " 'mushy',\n",
       " ',',\n",
       " 'soft',\n",
       " ',',\n",
       " 'I',\n",
       " 'do',\n",
       " \"n't\",\n",
       " 'like',\n",
       " 'it',\n",
       " '.',\n",
       " 'Quaker',\n",
       " 'Oats',\n",
       " 'is',\n",
       " 'the',\n",
       " 'way',\n",
       " 'to',\n",
       " 'go',\n",
       " '.']"
      ]
     },
     "execution_count": 58,
     "metadata": {},
     "output_type": "execute_result"
    }
   ],
   "source": [
    "nltk.word_tokenize(example)"
   ]
  },
  {
   "cell_type": "code",
   "execution_count": 60,
   "id": "bcd41595",
   "metadata": {},
   "outputs": [
    {
     "data": {
      "text/plain": [
       "['This', 'oatmeal', 'is', 'not', 'good', '.', 'Its', 'mushy', ',', 'soft']"
      ]
     },
     "execution_count": 60,
     "metadata": {},
     "output_type": "execute_result"
    }
   ],
   "source": [
    "Token=nltk.word_tokenize(example)\n",
    "Token[:10]"
   ]
  },
  {
   "cell_type": "code",
   "execution_count": 62,
   "id": "6cf8a0f8",
   "metadata": {},
   "outputs": [
    {
     "name": "stderr",
     "output_type": "stream",
     "text": [
      "[nltk_data] Downloading package averaged_perceptron_tagger to\n",
      "[nltk_data]     C:\\Users\\Suman\\AppData\\Roaming\\nltk_data...\n",
      "[nltk_data]   Unzipping taggers\\averaged_perceptron_tagger.zip.\n"
     ]
    },
    {
     "data": {
      "text/plain": [
       "True"
      ]
     },
     "execution_count": 62,
     "metadata": {},
     "output_type": "execute_result"
    }
   ],
   "source": [
    "# nltk.post-tag -> Use NLTK's currently recommended part of speech tagger to tag the given list of tokens.\n",
    "\n",
    "import nltk\n",
    "nltk.download('averaged_perceptron_tagger')\n",
    "  "
   ]
  },
  {
   "cell_type": "code",
   "execution_count": 73,
   "id": "50c8fc62",
   "metadata": {},
   "outputs": [
    {
     "data": {
      "text/plain": [
       "[('This', 'DT'),\n",
       " ('oatmeal', 'NN'),\n",
       " ('is', 'VBZ'),\n",
       " ('not', 'RB'),\n",
       " ('good', 'JJ'),\n",
       " ('.', '.'),\n",
       " ('Its', 'PRP$'),\n",
       " ('mushy', 'NN'),\n",
       " (',', ','),\n",
       " ('soft', 'JJ'),\n",
       " (',', ','),\n",
       " ('I', 'PRP'),\n",
       " ('do', 'VBP'),\n",
       " (\"n't\", 'RB'),\n",
       " ('like', 'VB'),\n",
       " ('it', 'PRP'),\n",
       " ('.', '.'),\n",
       " ('Quaker', 'NNP'),\n",
       " ('Oats', 'NNPS'),\n",
       " ('is', 'VBZ'),\n",
       " ('the', 'DT'),\n",
       " ('way', 'NN'),\n",
       " ('to', 'TO'),\n",
       " ('go', 'VB'),\n",
       " ('.', '.')]"
      ]
     },
     "execution_count": 73,
     "metadata": {},
     "output_type": "execute_result"
    }
   ],
   "source": [
    "# here 'NN' means noun ,and 'VBZ' means Verb\n",
    "from nltk.tag import pos_tag\n",
    "from nltk.tokenize import word_tokenize\n",
    "nltk.pos_tag(Token, tagset=None, lang='eng')"
   ]
  },
  {
   "cell_type": "code",
   "execution_count": 76,
   "id": "23eb33f5",
   "metadata": {},
   "outputs": [
    {
     "data": {
      "text/plain": [
       "[('This', 'DT'),\n",
       " ('oatmeal', 'NN'),\n",
       " ('is', 'VBZ'),\n",
       " ('not', 'RB'),\n",
       " ('good', 'JJ'),\n",
       " ('.', '.'),\n",
       " ('Its', 'PRP$'),\n",
       " ('mushy', 'NN'),\n",
       " (',', ','),\n",
       " ('soft', 'JJ')]"
      ]
     },
     "execution_count": 76,
     "metadata": {},
     "output_type": "execute_result"
    }
   ],
   "source": [
    "tagged = nltk.pos_tag(Token)\n",
    "tagged[:10]"
   ]
  },
  {
   "cell_type": "code",
   "execution_count": 80,
   "id": "4ea0e51c",
   "metadata": {
    "collapsed": true
   },
   "outputs": [
    {
     "name": "stderr",
     "output_type": "stream",
     "text": [
      "[nltk_data] Downloading package words to\n",
      "[nltk_data]     C:\\Users\\Suman\\AppData\\Roaming\\nltk_data...\n",
      "[nltk_data]   Package words is already up-to-date!\n",
      "[nltk_data] Downloading package maxent_ne_chunker to\n",
      "[nltk_data]     C:\\Users\\Suman\\AppData\\Roaming\\nltk_data...\n",
      "[nltk_data]   Package maxent_ne_chunker is already up-to-date!\n"
     ]
    },
    {
     "ename": "ModuleNotFoundError",
     "evalue": "No module named 'svgling'",
     "output_type": "error",
     "traceback": [
      "\u001b[1;31m---------------------------------------------------------------------------\u001b[0m",
      "\u001b[1;31mModuleNotFoundError\u001b[0m                       Traceback (most recent call last)",
      "File \u001b[1;32m~\\anaconda3\\lib\\site-packages\\IPython\\core\\formatters.py:343\u001b[0m, in \u001b[0;36mBaseFormatter.__call__\u001b[1;34m(self, obj)\u001b[0m\n\u001b[0;32m    341\u001b[0m     method \u001b[38;5;241m=\u001b[39m get_real_method(obj, \u001b[38;5;28mself\u001b[39m\u001b[38;5;241m.\u001b[39mprint_method)\n\u001b[0;32m    342\u001b[0m     \u001b[38;5;28;01mif\u001b[39;00m method \u001b[38;5;129;01mis\u001b[39;00m \u001b[38;5;129;01mnot\u001b[39;00m \u001b[38;5;28;01mNone\u001b[39;00m:\n\u001b[1;32m--> 343\u001b[0m         \u001b[38;5;28;01mreturn\u001b[39;00m \u001b[43mmethod\u001b[49m\u001b[43m(\u001b[49m\u001b[43m)\u001b[49m\n\u001b[0;32m    344\u001b[0m     \u001b[38;5;28;01mreturn\u001b[39;00m \u001b[38;5;28;01mNone\u001b[39;00m\n\u001b[0;32m    345\u001b[0m \u001b[38;5;28;01melse\u001b[39;00m:\n",
      "File \u001b[1;32m~\\anaconda3\\lib\\site-packages\\nltk\\tree\\tree.py:783\u001b[0m, in \u001b[0;36mTree._repr_svg_\u001b[1;34m(self)\u001b[0m\n\u001b[0;32m    782\u001b[0m \u001b[38;5;28;01mdef\u001b[39;00m \u001b[38;5;21m_repr_svg_\u001b[39m(\u001b[38;5;28mself\u001b[39m):\n\u001b[1;32m--> 783\u001b[0m     \u001b[38;5;28;01mfrom\u001b[39;00m \u001b[38;5;21;01msvgling\u001b[39;00m \u001b[38;5;28;01mimport\u001b[39;00m draw_tree\n\u001b[0;32m    785\u001b[0m     \u001b[38;5;28;01mreturn\u001b[39;00m draw_tree(\u001b[38;5;28mself\u001b[39m)\u001b[38;5;241m.\u001b[39m_repr_svg_()\n",
      "\u001b[1;31mModuleNotFoundError\u001b[0m: No module named 'svgling'"
     ]
    },
    {
     "data": {
      "text/plain": [
       "Tree('S', [('This', 'DT'), ('oatmeal', 'NN'), ('is', 'VBZ'), ('not', 'RB'), ('good', 'JJ'), ('.', '.'), ('Its', 'PRP$'), ('mushy', 'NN'), (',', ','), ('soft', 'JJ'), (',', ','), ('I', 'PRP'), ('do', 'VBP'), (\"n't\", 'RB'), ('like', 'VB'), ('it', 'PRP'), ('.', '.'), Tree('ORGANIZATION', [('Quaker', 'NNP'), ('Oats', 'NNPS')]), ('is', 'VBZ'), ('the', 'DT'), ('way', 'NN'), ('to', 'TO'), ('go', 'VB'), ('.', '.')])"
      ]
     },
     "execution_count": 80,
     "metadata": {},
     "output_type": "execute_result"
    }
   ],
   "source": [
    "# now we take those tegs and put them into entities .\n",
    "nltk.download('words')\n",
    "nltk.download('maxent_ne_chunker')\n",
    "nltk.chunk.ne_chunk(tagged)"
   ]
  },
  {
   "cell_type": "code",
   "execution_count": 81,
   "id": "30e768fb",
   "metadata": {},
   "outputs": [
    {
     "name": "stdout",
     "output_type": "stream",
     "text": [
      "(S\n",
      "  This/DT\n",
      "  oatmeal/NN\n",
      "  is/VBZ\n",
      "  not/RB\n",
      "  good/JJ\n",
      "  ./.\n",
      "  Its/PRP$\n",
      "  mushy/NN\n",
      "  ,/,\n",
      "  soft/JJ\n",
      "  ,/,\n",
      "  I/PRP\n",
      "  do/VBP\n",
      "  n't/RB\n",
      "  like/VB\n",
      "  it/PRP\n",
      "  ./.\n",
      "  (ORGANIZATION Quaker/NNP Oats/NNPS)\n",
      "  is/VBZ\n",
      "  the/DT\n",
      "  way/NN\n",
      "  to/TO\n",
      "  go/VB\n",
      "  ./.)\n"
     ]
    }
   ],
   "source": [
    "entities=nltk.chunk.ne_chunk(tagged)\n",
    "entities.pprint()"
   ]
  },
  {
   "cell_type": "markdown",
   "id": "d2e5829f",
   "metadata": {},
   "source": [
    "# Step 1-> VADER Seniment Scoring, (Valence Aware Dictionary and sentiment                                                                                Reasoner)"
   ]
  },
  {
   "cell_type": "raw",
   "id": "292bf9f6",
   "metadata": {},
   "source": [
    "# Step 1-> VADER Seniment Scoring (VADER-> (Valence Aware Dictionary and sentiment Reasoner) - Bag of words approach.\n",
    "\n",
    "   We will use NLTK's SentimentIntensityAnalyzer to get the neg/neu/pos scores of the text. It is an NLTK module that provides   sentiment scores based on the words used. It is a rule-based sentiment analyzer in which the terms are generally labeled as     per their semantic orientation as either positive or negative. This aprroch take all the words from sentence and it as values    postive, negative or neutral for each other words , combined up just as math equation for all the words and add up pos,         neg,ne   that statment is persent in this word . Keep in mind this approach does not account for the any relationship \n",
    "   between   words     which an human speech is very important .\n",
    "\n",
    "\n",
    "This uses a \"bag of words\" approach:->\n",
    "1. Stop words are removed (like -AND , THE etc.) which has not any postive or negative fellings .\n",
    "2. each word is scored and combined to a total score. for sturecture of the sentence ."
   ]
  },
  {
   "cell_type": "code",
   "execution_count": 83,
   "id": "2a209647",
   "metadata": {},
   "outputs": [
    {
     "name": "stderr",
     "output_type": "stream",
     "text": [
      "[nltk_data] Downloading package vader_lexicon to\n",
      "[nltk_data]     C:\\Users\\Suman\\AppData\\Roaming\\nltk_data...\n"
     ]
    },
    {
     "data": {
      "text/plain": [
       "True"
      ]
     },
     "execution_count": 83,
     "metadata": {},
     "output_type": "execute_result"
    }
   ],
   "source": [
    "import nltk\n",
    "nltk.download('vader_lexicon')"
   ]
  },
  {
   "cell_type": "code",
   "execution_count": 88,
   "id": "54e8d0ed",
   "metadata": {},
   "outputs": [],
   "source": [
    "from nltk.sentiment import SentimentIntensityAnalyzer\n",
    "from tqdm.notebook import tqdm\n",
    "\n",
    "sia = SentimentIntensityAnalyzer()"
   ]
  },
  {
   "cell_type": "code",
   "execution_count": 90,
   "id": "d26e4770",
   "metadata": {},
   "outputs": [
    {
     "data": {
      "text/plain": [
       "{'neg': 0.0, 'neu': 0.318, 'pos': 0.682, 'compound': 0.6468}"
      ]
     },
     "execution_count": 90,
     "metadata": {},
     "output_type": "execute_result"
    }
   ],
   "source": [
    "sia.polarity_scores('I am so happy!') # here we can see no  negative ,positive 0.682 - compound  sing 0.6468"
   ]
  },
  {
   "cell_type": "code",
   "execution_count": 91,
   "id": "b0891235",
   "metadata": {},
   "outputs": [
    {
     "data": {
      "text/plain": [
       "{'neg': 0.451, 'neu': 0.549, 'pos': 0.0, 'compound': -0.6249}"
      ]
     },
     "execution_count": 91,
     "metadata": {},
     "output_type": "execute_result"
    }
   ],
   "source": [
    "sia.polarity_scores('This is the worst thing ever.')  # here we can see no positive and - compound negative sing -0.6249"
   ]
  },
  {
   "cell_type": "code",
   "execution_count": 92,
   "id": "b40457de",
   "metadata": {},
   "outputs": [
    {
     "data": {
      "text/plain": [
       "{'neg': 0.0, 'neu': 0.417, 'pos': 0.583, 'compound': 0.6369}"
      ]
     },
     "execution_count": 92,
     "metadata": {},
     "output_type": "execute_result"
    }
   ],
   "source": [
    "sia.polarity_scores('I love this ice_cream most')"
   ]
  },
  {
   "cell_type": "code",
   "execution_count": 94,
   "id": "4a601583",
   "metadata": {},
   "outputs": [
    {
     "data": {
      "text/plain": [
       "\"This oatmeal is not good. Its mushy, soft, I don't like it. Quaker Oats is the way to go.\""
      ]
     },
     "execution_count": 94,
     "metadata": {},
     "output_type": "execute_result"
    }
   ],
   "source": [
    "example"
   ]
  },
  {
   "cell_type": "code",
   "execution_count": 93,
   "id": "d2911b33",
   "metadata": {},
   "outputs": [
    {
     "data": {
      "text/plain": [
       "{'neg': 0.22, 'neu': 0.78, 'pos': 0.0, 'compound': -0.5448}"
      ]
     },
     "execution_count": 93,
     "metadata": {},
     "output_type": "execute_result"
    }
   ],
   "source": [
    "sia.polarity_scores(example)  # so here is overall negative Score , no positive review"
   ]
  },
  {
   "cell_type": "code",
   "execution_count": null,
   "id": "aaf44dad",
   "metadata": {},
   "outputs": [],
   "source": [
    "df"
   ]
  },
  {
   "cell_type": "code",
   "execution_count": 95,
   "id": "f680c368",
   "metadata": {},
   "outputs": [
    {
     "data": {
      "application/vnd.jupyter.widget-view+json": {
       "model_id": "dcd6e8a100194f2a8969323c1a2843b6",
       "version_major": 2,
       "version_minor": 0
      },
      "text/plain": [
       "  0%|          | 0/568454 [00:00<?, ?it/s]"
      ]
     },
     "metadata": {},
     "output_type": "display_data"
    }
   ],
   "source": [
    "# Run the polarity score on the entire dataset\n",
    "res = {}\n",
    "for i, row in tqdm(df.iterrows(), total=len(df)):\n",
    "    text = row['Text']\n",
    "    myid = row['Id']\n",
    "    res[myid] = sia.polarity_scores(text)"
   ]
  },
  {
   "cell_type": "code",
   "execution_count": 96,
   "id": "1fe5fe04",
   "metadata": {},
   "outputs": [
    {
     "data": {
      "text/plain": [
       "{1: {'neg': 0.0, 'neu': 0.695, 'pos': 0.305, 'compound': 0.9441},\n",
       " 2: {'neg': 0.138, 'neu': 0.862, 'pos': 0.0, 'compound': -0.5664},\n",
       " 3: {'neg': 0.091, 'neu': 0.754, 'pos': 0.155, 'compound': 0.8265},\n",
       " 4: {'neg': 0.0, 'neu': 1.0, 'pos': 0.0, 'compound': 0.0},\n",
       " 5: {'neg': 0.0, 'neu': 0.552, 'pos': 0.448, 'compound': 0.9468},\n",
       " 6: {'neg': 0.029, 'neu': 0.809, 'pos': 0.163, 'compound': 0.883},\n",
       " 7: {'neg': 0.034, 'neu': 0.693, 'pos': 0.273, 'compound': 0.9346},\n",
       " 8: {'neg': 0.0, 'neu': 0.52, 'pos': 0.48, 'compound': 0.9487},\n",
       " 9: {'neg': 0.0, 'neu': 0.851, 'pos': 0.149, 'compound': 0.6369},\n",
       " 10: {'neg': 0.0, 'neu': 0.705, 'pos': 0.295, 'compound': 0.8313},\n",
       " 11: {'neg': 0.017, 'neu': 0.846, 'pos': 0.137, 'compound': 0.9746},\n",
       " 12: {'neg': 0.113, 'neu': 0.887, 'pos': 0.0, 'compound': -0.7579},\n",
       " 13: {'neg': 0.031, 'neu': 0.923, 'pos': 0.046, 'compound': 0.296},\n",
       " 14: {'neg': 0.0, 'neu': 0.355, 'pos': 0.645, 'compound': 0.9466},\n",
       " 15: {'neg': 0.104, 'neu': 0.632, 'pos': 0.264, 'compound': 0.6486},\n",
       " 16: {'neg': 0.0, 'neu': 0.861, 'pos': 0.139, 'compound': 0.5719},\n",
       " 17: {'neg': 0.097, 'neu': 0.694, 'pos': 0.209, 'compound': 0.7481},\n",
       " 18: {'neg': 0.0, 'neu': 0.61, 'pos': 0.39, 'compound': 0.8883},\n",
       " 19: {'neg': 0.012, 'neu': 0.885, 'pos': 0.103, 'compound': 0.8957},\n",
       " 20: {'neg': 0.0, 'neu': 0.863, 'pos': 0.137, 'compound': 0.6077},\n",
       " 21: {'neg': 0.0, 'neu': 0.865, 'pos': 0.135, 'compound': 0.6249},\n",
       " 22: {'neg': 0.0, 'neu': 0.739, 'pos': 0.261, 'compound': 0.9153},\n",
       " 23: {'neg': 0.0, 'neu': 0.768, 'pos': 0.232, 'compound': 0.7687},\n",
       " 24: {'neg': 0.085, 'neu': 0.771, 'pos': 0.143, 'compound': 0.2617},\n",
       " 25: {'neg': 0.038, 'neu': 0.895, 'pos': 0.068, 'compound': 0.3939},\n",
       " 26: {'neg': 0.0, 'neu': 1.0, 'pos': 0.0, 'compound': 0.0},\n",
       " 27: {'neg': 0.128, 'neu': 0.872, 'pos': 0.0, 'compound': -0.296},\n",
       " 28: {'neg': 0.04, 'neu': 0.808, 'pos': 0.152, 'compound': 0.5956},\n",
       " 29: {'neg': 0.022, 'neu': 0.669, 'pos': 0.309, 'compound': 0.9913},\n",
       " 30: {'neg': 0.017, 'neu': 0.846, 'pos': 0.137, 'compound': 0.9746},\n",
       " 31: {'neg': 0.041, 'neu': 0.692, 'pos': 0.267, 'compound': 0.9713},\n",
       " 32: {'neg': 0.0, 'neu': 0.484, 'pos': 0.516, 'compound': 0.9153},\n",
       " 33: {'neg': 0.069, 'neu': 0.839, 'pos': 0.092, 'compound': 0.7103},\n",
       " 34: {'neg': 0.024, 'neu': 0.72, 'pos': 0.256, 'compound': 0.9779},\n",
       " 35: {'neg': 0.0, 'neu': 0.874, 'pos': 0.126, 'compound': 0.9091},\n",
       " 36: {'neg': 0.024, 'neu': 0.821, 'pos': 0.155, 'compound': 0.7622},\n",
       " 37: {'neg': 0.0, 'neu': 0.754, 'pos': 0.246, 'compound': 0.9196},\n",
       " 38: {'neg': 0.0, 'neu': 0.938, 'pos': 0.062, 'compound': 0.4457},\n",
       " 39: {'neg': 0.05, 'neu': 0.846, 'pos': 0.104, 'compound': 0.7638},\n",
       " 40: {'neg': 0.0, 'neu': 0.856, 'pos': 0.144, 'compound': 0.8114},\n",
       " 41: {'neg': 0.033, 'neu': 0.82, 'pos': 0.147, 'compound': 0.9301},\n",
       " 42: {'neg': 0.03, 'neu': 0.848, 'pos': 0.122, 'compound': 0.9435},\n",
       " 43: {'neg': 0.0, 'neu': 0.588, 'pos': 0.412, 'compound': 0.9441},\n",
       " 44: {'neg': 0.0, 'neu': 0.685, 'pos': 0.315, 'compound': 0.9161},\n",
       " 45: {'neg': 0.031, 'neu': 0.778, 'pos': 0.191, 'compound': 0.8421},\n",
       " 46: {'neg': 0.0, 'neu': 1.0, 'pos': 0.0, 'compound': 0.0},\n",
       " 47: {'neg': 0.0, 'neu': 0.737, 'pos': 0.263, 'compound': 0.9169},\n",
       " 48: {'neg': 0.0, 'neu': 0.868, 'pos': 0.132, 'compound': 0.4404},\n",
       " 49: {'neg': 0.0, 'neu': 0.821, 'pos': 0.179, 'compound': 0.747},\n",
       " 50: {'neg': 0.056, 'neu': 0.865, 'pos': 0.079, 'compound': 0.2363},\n",
       " 51: {'neg': 0.22, 'neu': 0.78, 'pos': 0.0, 'compound': -0.5448},\n",
       " 52: {'neg': 0.047, 'neu': 0.735, 'pos': 0.218, 'compound': 0.9194},\n",
       " 53: {'neg': 0.09, 'neu': 0.858, 'pos': 0.052, 'compound': -0.8259},\n",
       " 54: {'neg': 0.075, 'neu': 0.925, 'pos': 0.0, 'compound': -0.3612},\n",
       " 55: {'neg': 0.0, 'neu': 0.857, 'pos': 0.143, 'compound': 0.8761},\n",
       " 56: {'neg': 0.071, 'neu': 0.708, 'pos': 0.221, 'compound': 0.8908},\n",
       " 57: {'neg': 0.029, 'neu': 0.694, 'pos': 0.277, 'compound': 0.908},\n",
       " 58: {'neg': 0.0, 'neu': 0.701, 'pos': 0.299, 'compound': 0.91},\n",
       " 59: {'neg': 0.0, 'neu': 0.611, 'pos': 0.389, 'compound': 0.9323},\n",
       " 60: {'neg': 0.0, 'neu': 0.638, 'pos': 0.362, 'compound': 0.8807},\n",
       " 61: {'neg': 0.0, 'neu': 0.9, 'pos': 0.1, 'compound': 0.4404},\n",
       " 62: {'neg': 0.0, 'neu': 0.741, 'pos': 0.259, 'compound': 0.8442},\n",
       " 63: {'neg': 0.0, 'neu': 1.0, 'pos': 0.0, 'compound': 0.0},\n",
       " 64: {'neg': 0.055, 'neu': 0.765, 'pos': 0.179, 'compound': 0.9817},\n",
       " 65: {'neg': 0.046, 'neu': 0.75, 'pos': 0.205, 'compound': 0.8674},\n",
       " 66: {'neg': 0.04, 'neu': 0.822, 'pos': 0.138, 'compound': 0.5165},\n",
       " 67: {'neg': 0.057, 'neu': 0.869, 'pos': 0.073, 'compound': 0.492},\n",
       " 68: {'neg': 0.183, 'neu': 0.776, 'pos': 0.041, 'compound': -0.9116},\n",
       " 69: {'neg': 0.135, 'neu': 0.71, 'pos': 0.155, 'compound': -0.0096},\n",
       " 70: {'neg': 0.344, 'neu': 0.52, 'pos': 0.136, 'compound': -0.7345},\n",
       " 71: {'neg': 0.036, 'neu': 0.916, 'pos': 0.048, 'compound': 0.2228},\n",
       " 72: {'neg': 0.078, 'neu': 0.701, 'pos': 0.222, 'compound': 0.9733},\n",
       " 73: {'neg': 0.025, 'neu': 0.653, 'pos': 0.323, 'compound': 0.9787},\n",
       " 74: {'neg': 0.093, 'neu': 0.762, 'pos': 0.144, 'compound': 0.9665},\n",
       " 75: {'neg': 0.0, 'neu': 0.872, 'pos': 0.128, 'compound': 0.2263},\n",
       " 76: {'neg': 0.106, 'neu': 0.768, 'pos': 0.126, 'compound': 0.1098},\n",
       " 77: {'neg': 0.019, 'neu': 0.898, 'pos': 0.083, 'compound': 0.5647},\n",
       " 78: {'neg': 0.034, 'neu': 0.798, 'pos': 0.168, 'compound': 0.8303},\n",
       " 79: {'neg': 0.0, 'neu': 0.763, 'pos': 0.237, 'compound': 0.7814},\n",
       " 80: {'neg': 0.087, 'neu': 0.589, 'pos': 0.324, 'compound': 0.8636},\n",
       " 81: {'neg': 0.0, 'neu': 0.723, 'pos': 0.277, 'compound': 0.9098},\n",
       " 82: {'neg': 0.0, 'neu': 0.663, 'pos': 0.337, 'compound': 0.9041},\n",
       " 83: {'neg': 0.04, 'neu': 0.794, 'pos': 0.165, 'compound': 0.9957},\n",
       " 84: {'neg': 0.055, 'neu': 0.767, 'pos': 0.178, 'compound': 0.8642},\n",
       " 85: {'neg': 0.109, 'neu': 0.676, 'pos': 0.214, 'compound': 0.8431},\n",
       " 86: {'neg': 0.035, 'neu': 0.698, 'pos': 0.267, 'compound': 0.9487},\n",
       " 87: {'neg': 0.019, 'neu': 0.855, 'pos': 0.126, 'compound': 0.8797},\n",
       " 88: {'neg': 0.05, 'neu': 0.735, 'pos': 0.215, 'compound': 0.7424},\n",
       " 89: {'neg': 0.048, 'neu': 0.762, 'pos': 0.19, 'compound': 0.9716},\n",
       " 90: {'neg': 0.029, 'neu': 0.645, 'pos': 0.326, 'compound': 0.9554},\n",
       " 91: {'neg': 0.0, 'neu': 0.833, 'pos': 0.167, 'compound': 0.7351},\n",
       " 92: {'neg': 0.0, 'neu': 0.837, 'pos': 0.163, 'compound': 0.6249},\n",
       " 93: {'neg': 0.069, 'neu': 0.663, 'pos': 0.268, 'compound': 0.8255},\n",
       " 94: {'neg': 0.01, 'neu': 0.781, 'pos': 0.208, 'compound': 0.9882},\n",
       " 95: {'neg': 0.0, 'neu': 1.0, 'pos': 0.0, 'compound': 0.0},\n",
       " 96: {'neg': 0.031, 'neu': 0.732, 'pos': 0.237, 'compound': 0.9273},\n",
       " 97: {'neg': 0.0, 'neu': 0.818, 'pos': 0.182, 'compound': 0.982},\n",
       " 98: {'neg': 0.053, 'neu': 0.793, 'pos': 0.154, 'compound': 0.7729},\n",
       " 99: {'neg': 0.024, 'neu': 0.91, 'pos': 0.066, 'compound': 0.5106},\n",
       " 100: {'neg': 0.173, 'neu': 0.735, 'pos': 0.092, 'compound': -0.5267},\n",
       " 101: {'neg': 0.0, 'neu': 0.807, 'pos': 0.193, 'compound': 0.7717},\n",
       " 102: {'neg': 0.103, 'neu': 0.752, 'pos': 0.145, 'compound': 0.2285},\n",
       " 103: {'neg': 0.0, 'neu': 0.75, 'pos': 0.25, 'compound': 0.9287},\n",
       " 104: {'neg': 0.0, 'neu': 0.859, 'pos': 0.141, 'compound': 0.7249},\n",
       " 105: {'neg': 0.051, 'neu': 0.577, 'pos': 0.372, 'compound': 0.9313},\n",
       " 106: {'neg': 0.0, 'neu': 0.696, 'pos': 0.304, 'compound': 0.9603},\n",
       " 107: {'neg': 0.0, 'neu': 0.791, 'pos': 0.209, 'compound': 0.5719},\n",
       " 108: {'neg': 0.0, 'neu': 0.804, 'pos': 0.196, 'compound': 0.9503},\n",
       " 109: {'neg': 0.059, 'neu': 0.676, 'pos': 0.265, 'compound': 0.9116},\n",
       " 110: {'neg': 0.014, 'neu': 0.764, 'pos': 0.222, 'compound': 0.9841},\n",
       " 111: {'neg': 0.059, 'neu': 0.879, 'pos': 0.062, 'compound': 0.0176},\n",
       " 112: {'neg': 0.0, 'neu': 0.81, 'pos': 0.19, 'compound': 0.8769},\n",
       " 113: {'neg': 0.037, 'neu': 0.786, 'pos': 0.177, 'compound': 0.9946},\n",
       " 114: {'neg': 0.0, 'neu': 0.631, 'pos': 0.369, 'compound': 0.8779},\n",
       " 115: {'neg': 0.027, 'neu': 0.727, 'pos': 0.245, 'compound': 0.9379},\n",
       " 116: {'neg': 0.0, 'neu': 0.645, 'pos': 0.355, 'compound': 0.872},\n",
       " 117: {'neg': 0.0, 'neu': 0.892, 'pos': 0.108, 'compound': 0.6573},\n",
       " 118: {'neg': 0.0, 'neu': 0.781, 'pos': 0.219, 'compound': 0.9751},\n",
       " 119: {'neg': 0.05, 'neu': 0.872, 'pos': 0.079, 'compound': 0.8972},\n",
       " 120: {'neg': 0.013, 'neu': 0.785, 'pos': 0.203, 'compound': 0.9828},\n",
       " 121: {'neg': 0.026, 'neu': 0.759, 'pos': 0.215, 'compound': 0.9509},\n",
       " 122: {'neg': 0.102, 'neu': 0.822, 'pos': 0.076, 'compound': -0.3626},\n",
       " 123: {'neg': 0.025, 'neu': 0.803, 'pos': 0.172, 'compound': 0.9022},\n",
       " 124: {'neg': 0.017, 'neu': 0.795, 'pos': 0.188, 'compound': 0.9769},\n",
       " 125: {'neg': 0.079, 'neu': 0.67, 'pos': 0.252, 'compound': 0.9678},\n",
       " 126: {'neg': 0.035, 'neu': 0.87, 'pos': 0.095, 'compound': 0.5709},\n",
       " 127: {'neg': 0.0, 'neu': 0.721, 'pos': 0.279, 'compound': 0.9258},\n",
       " 128: {'neg': 0.067, 'neu': 0.633, 'pos': 0.299, 'compound': 0.9022},\n",
       " 129: {'neg': 0.043, 'neu': 0.728, 'pos': 0.229, 'compound': 0.8142},\n",
       " 130: {'neg': 0.114, 'neu': 0.676, 'pos': 0.21, 'compound': 0.6721},\n",
       " 131: {'neg': 0.0, 'neu': 0.755, 'pos': 0.245, 'compound': 0.8658},\n",
       " 132: {'neg': 0.135, 'neu': 0.76, 'pos': 0.105, 'compound': -0.3612},\n",
       " 133: {'neg': 0.046, 'neu': 0.772, 'pos': 0.181, 'compound': 0.7902},\n",
       " 134: {'neg': 0.02, 'neu': 0.878, 'pos': 0.103, 'compound': 0.8082},\n",
       " 135: {'neg': 0.0, 'neu': 0.877, 'pos': 0.123, 'compound': 0.4215},\n",
       " 136: {'neg': 0.0, 'neu': 0.9, 'pos': 0.1, 'compound': 0.6503},\n",
       " 137: {'neg': 0.0, 'neu': 0.695, 'pos': 0.305, 'compound': 0.9661},\n",
       " 138: {'neg': 0.0, 'neu': 0.689, 'pos': 0.311, 'compound': 0.8591},\n",
       " 139: {'neg': 0.15, 'neu': 0.773, 'pos': 0.077, 'compound': -0.4199},\n",
       " 140: {'neg': 0.043, 'neu': 0.833, 'pos': 0.125, 'compound': 0.835},\n",
       " 141: {'neg': 0.098, 'neu': 0.787, 'pos': 0.114, 'compound': 0.2023},\n",
       " 142: {'neg': 0.0, 'neu': 0.782, 'pos': 0.218, 'compound': 0.7814},\n",
       " 143: {'neg': 0.0, 'neu': 0.763, 'pos': 0.237, 'compound': 0.9296},\n",
       " 144: {'neg': 0.059, 'neu': 0.667, 'pos': 0.274, 'compound': 0.9653},\n",
       " 145: {'neg': 0.058, 'neu': 0.841, 'pos': 0.102, 'compound': 0.6124},\n",
       " 146: {'neg': 0.144, 'neu': 0.677, 'pos': 0.178, 'compound': 0.6341},\n",
       " 147: {'neg': 0.087, 'neu': 0.783, 'pos': 0.13, 'compound': 0.7567},\n",
       " 148: {'neg': 0.058, 'neu': 0.867, 'pos': 0.075, 'compound': 0.1533},\n",
       " 149: {'neg': 0.04, 'neu': 0.833, 'pos': 0.127, 'compound': 0.6956},\n",
       " 150: {'neg': 0.0, 'neu': 0.709, 'pos': 0.291, 'compound': 0.9231},\n",
       " 151: {'neg': 0.0, 'neu': 0.564, 'pos': 0.436, 'compound': 0.9858},\n",
       " 152: {'neg': 0.0, 'neu': 0.784, 'pos': 0.216, 'compound': 0.765},\n",
       " 153: {'neg': 0.0, 'neu': 0.775, 'pos': 0.225, 'compound': 0.7269},\n",
       " 154: {'neg': 0.12, 'neu': 0.76, 'pos': 0.12, 'compound': 0.2502},\n",
       " 155: {'neg': 0.0, 'neu': 0.647, 'pos': 0.353, 'compound': 0.9803},\n",
       " 156: {'neg': 0.0, 'neu': 0.768, 'pos': 0.232, 'compound': 0.9681},\n",
       " 157: {'neg': 0.191, 'neu': 0.809, 'pos': 0.0, 'compound': -0.7269},\n",
       " 158: {'neg': 0.071, 'neu': 0.514, 'pos': 0.415, 'compound': 0.8934},\n",
       " 159: {'neg': 0.065, 'neu': 0.893, 'pos': 0.042, 'compound': -0.4721},\n",
       " 160: {'neg': 0.081, 'neu': 0.779, 'pos': 0.14, 'compound': 0.4194},\n",
       " 161: {'neg': 0.0, 'neu': 0.644, 'pos': 0.356, 'compound': 0.9117},\n",
       " 162: {'neg': 0.106, 'neu': 0.894, 'pos': 0.0, 'compound': -0.5504},\n",
       " 163: {'neg': 0.072, 'neu': 0.652, 'pos': 0.276, 'compound': 0.9517},\n",
       " 164: {'neg': 0.047, 'neu': 0.869, 'pos': 0.085, 'compound': 0.4199},\n",
       " 165: {'neg': 0.025, 'neu': 0.752, 'pos': 0.223, 'compound': 0.8957},\n",
       " 166: {'neg': 0.032, 'neu': 0.717, 'pos': 0.251, 'compound': 0.9597},\n",
       " 167: {'neg': 0.0, 'neu': 0.657, 'pos': 0.343, 'compound': 0.9098},\n",
       " 168: {'neg': 0.05, 'neu': 0.905, 'pos': 0.045, 'compound': -0.1154},\n",
       " 169: {'neg': 0.186, 'neu': 0.74, 'pos': 0.074, 'compound': -0.5283},\n",
       " 170: {'neg': 0.141, 'neu': 0.832, 'pos': 0.028, 'compound': -0.7721},\n",
       " 171: {'neg': 0.0, 'neu': 0.854, 'pos': 0.146, 'compound': 0.6476},\n",
       " 172: {'neg': 0.04, 'neu': 0.844, 'pos': 0.116, 'compound': 0.6808},\n",
       " 173: {'neg': 0.0, 'neu': 0.763, 'pos': 0.237, 'compound': 0.8906},\n",
       " 174: {'neg': 0.022, 'neu': 0.788, 'pos': 0.189, 'compound': 0.9901},\n",
       " 175: {'neg': 0.04, 'neu': 0.722, 'pos': 0.237, 'compound': 0.9782},\n",
       " 176: {'neg': 0.0, 'neu': 0.874, 'pos': 0.126, 'compound': 0.7579},\n",
       " 177: {'neg': 0.0, 'neu': 0.938, 'pos': 0.062, 'compound': 0.4215},\n",
       " 178: {'neg': 0.058, 'neu': 0.794, 'pos': 0.148, 'compound': 0.6249},\n",
       " 179: {'neg': 0.2, 'neu': 0.63, 'pos': 0.171, 'compound': 0.1203},\n",
       " 180: {'neg': 0.048, 'neu': 0.829, 'pos': 0.122, 'compound': 0.7458},\n",
       " 181: {'neg': 0.076, 'neu': 0.767, 'pos': 0.156, 'compound': 0.6085},\n",
       " 182: {'neg': 0.0, 'neu': 0.433, 'pos': 0.567, 'compound': 0.9667},\n",
       " 183: {'neg': 0.088, 'neu': 0.743, 'pos': 0.169, 'compound': 0.943},\n",
       " 184: {'neg': 0.0, 'neu': 0.857, 'pos': 0.143, 'compound': 0.9577},\n",
       " 185: {'neg': 0.11, 'neu': 0.593, 'pos': 0.297, 'compound': 0.6597},\n",
       " 186: {'neg': 0.189, 'neu': 0.811, 'pos': 0.0, 'compound': -0.5994},\n",
       " 187: {'neg': 0.016, 'neu': 0.842, 'pos': 0.142, 'compound': 0.9944},\n",
       " 188: {'neg': 0.0, 'neu': 0.824, 'pos': 0.176, 'compound': 0.6983},\n",
       " 189: {'neg': 0.0, 'neu': 0.843, 'pos': 0.157, 'compound': 0.8868},\n",
       " 190: {'neg': 0.0, 'neu': 0.934, 'pos': 0.066, 'compound': 0.3506},\n",
       " 191: {'neg': 0.148, 'neu': 0.64, 'pos': 0.212, 'compound': 0.4926},\n",
       " 192: {'neg': 0.0, 'neu': 0.75, 'pos': 0.25, 'compound': 0.9062},\n",
       " 193: {'neg': 0.055, 'neu': 0.728, 'pos': 0.217, 'compound': 0.8756},\n",
       " 194: {'neg': 0.031, 'neu': 0.735, 'pos': 0.234, 'compound': 0.9595},\n",
       " 195: {'neg': 0.082, 'neu': 0.483, 'pos': 0.435, 'compound': 0.8299},\n",
       " 196: {'neg': 0.0, 'neu': 0.761, 'pos': 0.239, 'compound': 0.9538},\n",
       " 197: {'neg': 0.0, 'neu': 0.917, 'pos': 0.083, 'compound': 0.4738},\n",
       " 198: {'neg': 0.0, 'neu': 0.904, 'pos': 0.096, 'compound': 0.4153},\n",
       " 199: {'neg': 0.0, 'neu': 0.701, 'pos': 0.299, 'compound': 0.8268},\n",
       " 200: {'neg': 0.0, 'neu': 0.811, 'pos': 0.189, 'compound': 0.7178},\n",
       " 201: {'neg': 0.039, 'neu': 0.888, 'pos': 0.072, 'compound': 0.6381},\n",
       " 202: {'neg': 0.064, 'neu': 0.597, 'pos': 0.339, 'compound': 0.9531},\n",
       " 203: {'neg': 0.0, 'neu': 0.688, 'pos': 0.312, 'compound': 0.8225},\n",
       " 204: {'neg': 0.061, 'neu': 0.814, 'pos': 0.125, 'compound': 0.8728},\n",
       " 205: {'neg': 0.0, 'neu': 0.882, 'pos': 0.118, 'compound': 0.6249},\n",
       " 206: {'neg': 0.0, 'neu': 0.754, 'pos': 0.246, 'compound': 0.9368},\n",
       " 207: {'neg': 0.0, 'neu': 0.59, 'pos': 0.41, 'compound': 0.8779},\n",
       " 208: {'neg': 0.051, 'neu': 0.8, 'pos': 0.15, 'compound': 0.8436},\n",
       " 209: {'neg': 0.05, 'neu': 0.82, 'pos': 0.13, 'compound': 0.8913},\n",
       " 210: {'neg': 0.045, 'neu': 0.761, 'pos': 0.194, 'compound': 0.9893},\n",
       " 211: {'neg': 0.075, 'neu': 0.755, 'pos': 0.171, 'compound': 0.9218},\n",
       " 212: {'neg': 0.051, 'neu': 0.821, 'pos': 0.129, 'compound': 0.9529},\n",
       " 213: {'neg': 0.051, 'neu': 0.838, 'pos': 0.11, 'compound': 0.4404},\n",
       " 214: {'neg': 0.095, 'neu': 0.883, 'pos': 0.022, 'compound': -0.9726},\n",
       " 215: {'neg': 0.0, 'neu': 0.891, 'pos': 0.109, 'compound': 0.6476},\n",
       " 216: {'neg': 0.0, 'neu': 0.798, 'pos': 0.202, 'compound': 0.7964},\n",
       " 217: {'neg': 0.078, 'neu': 0.922, 'pos': 0.0, 'compound': -0.296},\n",
       " 218: {'neg': 0.015, 'neu': 0.884, 'pos': 0.101, 'compound': 0.9736},\n",
       " 219: {'neg': 0.059, 'neu': 0.774, 'pos': 0.167, 'compound': 0.9424},\n",
       " 220: {'neg': 0.031, 'neu': 0.702, 'pos': 0.267, 'compound': 0.9812},\n",
       " 221: {'neg': 0.027, 'neu': 0.909, 'pos': 0.064, 'compound': 0.25},\n",
       " 222: {'neg': 0.068, 'neu': 0.666, 'pos': 0.266, 'compound': 0.9883},\n",
       " 223: {'neg': 0.0, 'neu': 0.779, 'pos': 0.221, 'compound': 0.9623},\n",
       " 224: {'neg': 0.0, 'neu': 0.607, 'pos': 0.393, 'compound': 0.923},\n",
       " 225: {'neg': 0.152, 'neu': 0.739, 'pos': 0.109, 'compound': -0.25},\n",
       " 226: {'neg': 0.064, 'neu': 0.794, 'pos': 0.141, 'compound': 0.7951},\n",
       " 227: {'neg': 0.139, 'neu': 0.754, 'pos': 0.108, 'compound': -0.3774},\n",
       " 228: {'neg': 0.106, 'neu': 0.718, 'pos': 0.176, 'compound': 0.5475},\n",
       " 229: {'neg': 0.0, 'neu': 0.837, 'pos': 0.163, 'compound': 0.6486},\n",
       " 230: {'neg': 0.025, 'neu': 0.854, 'pos': 0.121, 'compound': 0.6478},\n",
       " 231: {'neg': 0.03, 'neu': 0.726, 'pos': 0.244, 'compound': 0.9281},\n",
       " 232: {'neg': 0.0, 'neu': 0.904, 'pos': 0.096, 'compound': 0.8144},\n",
       " 233: {'neg': 0.0, 'neu': 0.807, 'pos': 0.193, 'compound': 0.8126},\n",
       " 234: {'neg': 0.103, 'neu': 0.729, 'pos': 0.169, 'compound': 0.2481},\n",
       " 235: {'neg': 0.0, 'neu': 0.805, 'pos': 0.195, 'compound': 0.8655},\n",
       " 236: {'neg': 0.11, 'neu': 0.792, 'pos': 0.098, 'compound': -0.4786},\n",
       " 237: {'neg': 0.041, 'neu': 0.793, 'pos': 0.166, 'compound': 0.9387},\n",
       " 238: {'neg': 0.029, 'neu': 0.798, 'pos': 0.174, 'compound': 0.9936},\n",
       " 239: {'neg': 0.064, 'neu': 0.7, 'pos': 0.236, 'compound': 0.9677},\n",
       " 240: {'neg': 0.0, 'neu': 0.72, 'pos': 0.28, 'compound': 0.765},\n",
       " 241: {'neg': 0.066, 'neu': 0.71, 'pos': 0.223, 'compound': 0.9553},\n",
       " 242: {'neg': 0.0, 'neu': 0.765, 'pos': 0.235, 'compound': 0.807},\n",
       " 243: {'neg': 0.0, 'neu': 0.76, 'pos': 0.24, 'compound': 0.9344},\n",
       " 244: {'neg': 0.0, 'neu': 1.0, 'pos': 0.0, 'compound': 0.0},\n",
       " 245: {'neg': 0.081, 'neu': 0.63, 'pos': 0.289, 'compound': 0.765},\n",
       " 246: {'neg': 0.072, 'neu': 0.825, 'pos': 0.103, 'compound': 0.682},\n",
       " 247: {'neg': 0.075, 'neu': 0.633, 'pos': 0.292, 'compound': 0.9757},\n",
       " 248: {'neg': 0.0, 'neu': 0.869, 'pos': 0.131, 'compound': 0.7717},\n",
       " 249: {'neg': 0.0, 'neu': 0.602, 'pos': 0.398, 'compound': 0.9351},\n",
       " 250: {'neg': 0.0, 'neu': 0.75, 'pos': 0.25, 'compound': 0.7184},\n",
       " 251: {'neg': 0.047, 'neu': 0.781, 'pos': 0.172, 'compound': 0.9476},\n",
       " 252: {'neg': 0.076, 'neu': 0.924, 'pos': 0.0, 'compound': -0.4823},\n",
       " 253: {'neg': 0.107, 'neu': 0.893, 'pos': 0.0, 'compound': -0.4767},\n",
       " 254: {'neg': 0.0, 'neu': 0.801, 'pos': 0.199, 'compound': 0.9698},\n",
       " 255: {'neg': 0.091, 'neu': 0.736, 'pos': 0.172, 'compound': 0.4118},\n",
       " 256: {'neg': 0.103, 'neu': 0.699, 'pos': 0.198, 'compound': 0.9805},\n",
       " 257: {'neg': 0.034, 'neu': 0.664, 'pos': 0.302, 'compound': 0.9463},\n",
       " 258: {'neg': 0.105, 'neu': 0.816, 'pos': 0.079, 'compound': -0.3489},\n",
       " 259: {'neg': 0.04, 'neu': 0.841, 'pos': 0.119, 'compound': 0.8883},\n",
       " 260: {'neg': 0.0, 'neu': 0.833, 'pos': 0.167, 'compound': 0.8824},\n",
       " 261: {'neg': 0.0, 'neu': 0.613, 'pos': 0.387, 'compound': 0.9493},\n",
       " 262: {'neg': 0.0, 'neu': 0.54, 'pos': 0.46, 'compound': 0.9153},\n",
       " 263: {'neg': 0.106, 'neu': 0.706, 'pos': 0.188, 'compound': 0.5849},\n",
       " 264: {'neg': 0.098, 'neu': 0.875, 'pos': 0.026, 'compound': -0.9218},\n",
       " 265: {'neg': 0.051, 'neu': 0.802, 'pos': 0.147, 'compound': 0.872},\n",
       " 266: {'neg': 0.0, 'neu': 0.619, 'pos': 0.381, 'compound': 0.902},\n",
       " 267: {'neg': 0.0, 'neu': 0.862, 'pos': 0.138, 'compound': 0.4926},\n",
       " 268: {'neg': 0.062, 'neu': 0.911, 'pos': 0.028, 'compound': -0.7067},\n",
       " 269: {'neg': 0.0, 'neu': 0.767, 'pos': 0.233, 'compound': 0.8176},\n",
       " 270: {'neg': 0.032, 'neu': 0.794, 'pos': 0.174, 'compound': 0.9354},\n",
       " 271: {'neg': 0.0, 'neu': 0.839, 'pos': 0.161, 'compound': 0.5927},\n",
       " 272: {'neg': 0.062, 'neu': 0.863, 'pos': 0.074, 'compound': 0.2609},\n",
       " 273: {'neg': 0.052, 'neu': 0.817, 'pos': 0.132, 'compound': 0.7003},\n",
       " 274: {'neg': 0.0, 'neu': 0.733, 'pos': 0.267, 'compound': 0.7346},\n",
       " 275: {'neg': 0.037, 'neu': 0.693, 'pos': 0.271, 'compound': 0.9421},\n",
       " 276: {'neg': 0.132, 'neu': 0.711, 'pos': 0.157, 'compound': 0.3303},\n",
       " 277: {'neg': 0.0, 'neu': 0.523, 'pos': 0.477, 'compound': 0.9542},\n",
       " 278: {'neg': 0.025, 'neu': 0.809, 'pos': 0.167, 'compound': 0.937},\n",
       " 279: {'neg': 0.072, 'neu': 0.641, 'pos': 0.288, 'compound': 0.8565},\n",
       " 280: {'neg': 0.066, 'neu': 0.859, 'pos': 0.075, 'compound': 0.1666},\n",
       " 281: {'neg': 0.049, 'neu': 0.823, 'pos': 0.127, 'compound': 0.6438},\n",
       " 282: {'neg': 0.0, 'neu': 0.754, 'pos': 0.246, 'compound': 0.8016},\n",
       " 283: {'neg': 0.028, 'neu': 0.934, 'pos': 0.038, 'compound': 0.1779},\n",
       " 284: {'neg': 0.032, 'neu': 0.792, 'pos': 0.176, 'compound': 0.9852},\n",
       " 285: {'neg': 0.0, 'neu': 0.864, 'pos': 0.136, 'compound': 0.5255},\n",
       " 286: {'neg': 0.0, 'neu': 0.898, 'pos': 0.102, 'compound': 0.7917},\n",
       " 287: {'neg': 0.0, 'neu': 0.857, 'pos': 0.143, 'compound': 0.919},\n",
       " 288: {'neg': 0.035, 'neu': 0.801, 'pos': 0.163, 'compound': 0.9676},\n",
       " 289: {'neg': 0.054, 'neu': 0.745, 'pos': 0.2, 'compound': 0.9557},\n",
       " 290: {'neg': 0.039, 'neu': 0.697, 'pos': 0.264, 'compound': 0.8439},\n",
       " 291: {'neg': 0.104, 'neu': 0.705, 'pos': 0.191, 'compound': 0.6257},\n",
       " 292: {'neg': 0.052, 'neu': 0.745, 'pos': 0.203, 'compound': 0.9434},\n",
       " 293: {'neg': 0.09, 'neu': 0.705, 'pos': 0.205, 'compound': 0.8636},\n",
       " 294: {'neg': 0.034, 'neu': 0.757, 'pos': 0.209, 'compound': 0.9823},\n",
       " 295: {'neg': 0.0, 'neu': 0.887, 'pos': 0.113, 'compound': 0.4939},\n",
       " 296: {'neg': 0.12, 'neu': 0.781, 'pos': 0.099, 'compound': -0.7095},\n",
       " 297: {'neg': 0.025, 'neu': 0.737, 'pos': 0.239, 'compound': 0.9566},\n",
       " 298: {'neg': 0.0, 'neu': 0.811, 'pos': 0.189, 'compound': 0.8781},\n",
       " 299: {'neg': 0.0, 'neu': 0.681, 'pos': 0.319, 'compound': 0.8934},\n",
       " 300: {'neg': 0.078, 'neu': 0.735, 'pos': 0.187, 'compound': 0.9637},\n",
       " 301: {'neg': 0.0, 'neu': 0.632, 'pos': 0.368, 'compound': 0.9661},\n",
       " 302: {'neg': 0.148, 'neu': 0.625, 'pos': 0.227, 'compound': 0.5849},\n",
       " 303: {'neg': 0.014, 'neu': 0.705, 'pos': 0.281, 'compound': 0.9763},\n",
       " 304: {'neg': 0.076, 'neu': 0.791, 'pos': 0.133, 'compound': 0.25},\n",
       " 305: {'neg': 0.058, 'neu': 0.778, 'pos': 0.165, 'compound': 0.5734},\n",
       " 306: {'neg': 0.15, 'neu': 0.773, 'pos': 0.077, 'compound': -0.9037},\n",
       " 307: {'neg': 0.097, 'neu': 0.781, 'pos': 0.122, 'compound': 0.4733},\n",
       " 308: {'neg': 0.0, 'neu': 0.649, 'pos': 0.351, 'compound': 0.894},\n",
       " 309: {'neg': 0.0, 'neu': 0.796, 'pos': 0.204, 'compound': 0.9695},\n",
       " 310: {'neg': 0.0, 'neu': 0.774, 'pos': 0.226, 'compound': 0.9287},\n",
       " 311: {'neg': 0.031, 'neu': 0.657, 'pos': 0.312, 'compound': 0.9644},\n",
       " 312: {'neg': 0.087, 'neu': 0.913, 'pos': 0.0, 'compound': -0.4939},\n",
       " 313: {'neg': 0.0, 'neu': 1.0, 'pos': 0.0, 'compound': 0.0},\n",
       " 314: {'neg': 0.018, 'neu': 0.914, 'pos': 0.069, 'compound': 0.4971},\n",
       " 315: {'neg': 0.024, 'neu': 0.828, 'pos': 0.148, 'compound': 0.6897},\n",
       " 316: {'neg': 0.06, 'neu': 0.772, 'pos': 0.168, 'compound': 0.9109},\n",
       " 317: {'neg': 0.0, 'neu': 0.823, 'pos': 0.177, 'compound': 0.5783},\n",
       " 318: {'neg': 0.07, 'neu': 0.839, 'pos': 0.091, 'compound': 0.6785},\n",
       " 319: {'neg': 0.0, 'neu': 0.904, 'pos': 0.096, 'compound': 0.3716},\n",
       " 320: {'neg': 0.0, 'neu': 0.758, 'pos': 0.242, 'compound': 0.7717},\n",
       " 321: {'neg': 0.065, 'neu': 0.562, 'pos': 0.373, 'compound': 0.886},\n",
       " 322: {'neg': 0.0, 'neu': 1.0, 'pos': 0.0, 'compound': 0.0},\n",
       " 323: {'neg': 0.05, 'neu': 0.69, 'pos': 0.26, 'compound': 0.7712},\n",
       " 324: {'neg': 0.0, 'neu': 1.0, 'pos': 0.0, 'compound': 0.0},\n",
       " 325: {'neg': 0.213, 'neu': 0.514, 'pos': 0.274, 'compound': 0.3185},\n",
       " 326: {'neg': 0.0, 'neu': 0.688, 'pos': 0.312, 'compound': 0.8979},\n",
       " 327: {'neg': 0.075, 'neu': 0.726, 'pos': 0.199, 'compound': 0.9373},\n",
       " 328: {'neg': 0.064, 'neu': 0.594, 'pos': 0.342, 'compound': 0.9581},\n",
       " 329: {'neg': 0.163, 'neu': 0.708, 'pos': 0.129, 'compound': -0.8462},\n",
       " 330: {'neg': 0.029, 'neu': 0.856, 'pos': 0.115, 'compound': 0.5709},\n",
       " 331: {'neg': 0.0, 'neu': 0.837, 'pos': 0.163, 'compound': 0.6249},\n",
       " 332: {'neg': 0.115, 'neu': 0.885, 'pos': 0.0, 'compound': -0.4588},\n",
       " 333: {'neg': 0.0, 'neu': 0.689, 'pos': 0.311, 'compound': 0.9732},\n",
       " 334: {'neg': 0.0, 'neu': 0.662, 'pos': 0.338, 'compound': 0.9719},\n",
       " 335: {'neg': 0.0, 'neu': 0.886, 'pos': 0.114, 'compound': 0.6124},\n",
       " 336: {'neg': 0.046, 'neu': 0.8, 'pos': 0.154, 'compound': 0.6796},\n",
       " 337: {'neg': 0.078, 'neu': 0.651, 'pos': 0.271, 'compound': 0.8506},\n",
       " 338: {'neg': 0.0, 'neu': 0.765, 'pos': 0.235, 'compound': 0.9008},\n",
       " 339: {'neg': 0.0, 'neu': 0.734, 'pos': 0.266, 'compound': 0.784},\n",
       " 340: {'neg': 0.078, 'neu': 0.823, 'pos': 0.098, 'compound': 0.4416},\n",
       " 341: {'neg': 0.069, 'neu': 0.782, 'pos': 0.149, 'compound': 0.8499},\n",
       " 342: {'neg': 0.041, 'neu': 0.657, 'pos': 0.302, 'compound': 0.8731},\n",
       " 343: {'neg': 0.0, 'neu': 0.912, 'pos': 0.088, 'compound': 0.4939},\n",
       " 344: {'neg': 0.11, 'neu': 0.678, 'pos': 0.211, 'compound': 0.8053},\n",
       " 345: {'neg': 0.101, 'neu': 0.627, 'pos': 0.273, 'compound': 0.9758},\n",
       " 346: {'neg': 0.044, 'neu': 0.725, 'pos': 0.231, 'compound': 0.8319},\n",
       " 347: {'neg': 0.0, 'neu': 0.608, 'pos': 0.392, 'compound': 0.9694},\n",
       " 348: {'neg': 0.093, 'neu': 0.752, 'pos': 0.155, 'compound': 0.7667},\n",
       " 349: {'neg': 0.0, 'neu': 0.678, 'pos': 0.322, 'compound': 0.908},\n",
       " 350: {'neg': 0.071, 'neu': 0.861, 'pos': 0.068, 'compound': -0.0258},\n",
       " 351: {'neg': 0.0, 'neu': 0.715, 'pos': 0.285, 'compound': 0.9177},\n",
       " 352: {'neg': 0.064, 'neu': 0.727, 'pos': 0.209, 'compound': 0.7337},\n",
       " 353: {'neg': 0.0, 'neu': 0.893, 'pos': 0.107, 'compound': 0.802},\n",
       " 354: {'neg': 0.0, 'neu': 0.888, 'pos': 0.112, 'compound': 0.6604},\n",
       " 355: {'neg': 0.0, 'neu': 0.802, 'pos': 0.198, 'compound': 0.6892},\n",
       " 356: {'neg': 0.05, 'neu': 0.734, 'pos': 0.215, 'compound': 0.8008},\n",
       " 357: {'neg': 0.027, 'neu': 0.835, 'pos': 0.138, 'compound': 0.8805},\n",
       " 358: {'neg': 0.0, 'neu': 0.895, 'pos': 0.105, 'compound': 0.631},\n",
       " 359: {'neg': 0.164, 'neu': 0.694, 'pos': 0.142, 'compound': 0.283},\n",
       " 360: {'neg': 0.0, 'neu': 0.705, 'pos': 0.295, 'compound': 0.954},\n",
       " 361: {'neg': 0.033, 'neu': 0.785, 'pos': 0.182, 'compound': 0.9441},\n",
       " 362: {'neg': 0.228, 'neu': 0.772, 'pos': 0.0, 'compound': -0.734},\n",
       " 363: {'neg': 0.0, 'neu': 0.891, 'pos': 0.109, 'compound': 0.8802},\n",
       " 364: {'neg': 0.0, 'neu': 0.742, 'pos': 0.258, 'compound': 0.8088},\n",
       " 365: {'neg': 0.033, 'neu': 0.621, 'pos': 0.346, 'compound': 0.9334},\n",
       " 366: {'neg': 0.076, 'neu': 0.768, 'pos': 0.156, 'compound': 0.4434},\n",
       " 367: {'neg': 0.0, 'neu': 0.685, 'pos': 0.315, 'compound': 0.9366},\n",
       " 368: {'neg': 0.038, 'neu': 0.84, 'pos': 0.122, 'compound': 0.8016},\n",
       " 369: {'neg': 0.064, 'neu': 0.871, 'pos': 0.066, 'compound': 0.0258},\n",
       " 370: {'neg': 0.0, 'neu': 0.913, 'pos': 0.087, 'compound': 0.7703},\n",
       " 371: {'neg': 0.012, 'neu': 0.86, 'pos': 0.128, 'compound': 0.9923},\n",
       " 372: {'neg': 0.087, 'neu': 0.643, 'pos': 0.27, 'compound': 0.6912},\n",
       " 373: {'neg': 0.11, 'neu': 0.748, 'pos': 0.142, 'compound': 0.1264},\n",
       " 374: {'neg': 0.0, 'neu': 0.588, 'pos': 0.412, 'compound': 0.9168},\n",
       " 375: {'neg': 0.0, 'neu': 0.728, 'pos': 0.272, 'compound': 0.9472},\n",
       " 376: {'neg': 0.054, 'neu': 0.69, 'pos': 0.256, 'compound': 0.8962},\n",
       " 377: {'neg': 0.0, 'neu': 0.796, 'pos': 0.204, 'compound': 0.874},\n",
       " 378: {'neg': 0.046, 'neu': 0.793, 'pos': 0.161, 'compound': 0.9341},\n",
       " 379: {'neg': 0.063, 'neu': 0.524, 'pos': 0.413, 'compound': 0.9709},\n",
       " 380: {'neg': 0.036, 'neu': 0.695, 'pos': 0.269, 'compound': 0.9468},\n",
       " 381: {'neg': 0.074, 'neu': 0.715, 'pos': 0.212, 'compound': 0.8349},\n",
       " 382: {'neg': 0.318, 'neu': 0.515, 'pos': 0.167, 'compound': -0.7184},\n",
       " 383: {'neg': 0.0, 'neu': 0.905, 'pos': 0.095, 'compound': 0.6369},\n",
       " 384: {'neg': 0.027, 'neu': 0.78, 'pos': 0.193, 'compound': 0.9913},\n",
       " 385: {'neg': 0.0, 'neu': 0.767, 'pos': 0.233, 'compound': 0.8065},\n",
       " 386: {'neg': 0.0, 'neu': 0.774, 'pos': 0.226, 'compound': 0.9796},\n",
       " 387: {'neg': 0.0, 'neu': 0.839, 'pos': 0.161, 'compound': 0.8625},\n",
       " 388: {'neg': 0.089, 'neu': 0.75, 'pos': 0.161, 'compound': 0.8201},\n",
       " 389: {'neg': 0.088, 'neu': 0.537, 'pos': 0.375, 'compound': 0.755},\n",
       " 390: {'neg': 0.031, 'neu': 0.764, 'pos': 0.205, 'compound': 0.9183},\n",
       " 391: {'neg': 0.248, 'neu': 0.636, 'pos': 0.116, 'compound': -0.8174},\n",
       " 392: {'neg': 0.0, 'neu': 0.642, 'pos': 0.358, 'compound': 0.8591},\n",
       " 393: {'neg': 0.0, 'neu': 0.661, 'pos': 0.339, 'compound': 0.8481},\n",
       " 394: {'neg': 0.0, 'neu': 1.0, 'pos': 0.0, 'compound': 0.0},\n",
       " 395: {'neg': 0.0, 'neu': 0.83, 'pos': 0.17, 'compound': 0.8016},\n",
       " 396: {'neg': 0.0, 'neu': 0.502, 'pos': 0.498, 'compound': 0.9677},\n",
       " 397: {'neg': 0.0, 'neu': 0.638, 'pos': 0.362, 'compound': 0.9682},\n",
       " 398: {'neg': 0.046, 'neu': 0.703, 'pos': 0.251, 'compound': 0.867},\n",
       " 399: {'neg': 0.0, 'neu': 0.8, 'pos': 0.2, 'compound': 0.9885},\n",
       " 400: {'neg': 0.0, 'neu': 0.787, 'pos': 0.213, 'compound': 0.7644},\n",
       " 401: {'neg': 0.234, 'neu': 0.556, 'pos': 0.211, 'compound': 0.0},\n",
       " 402: {'neg': 0.093, 'neu': 0.813, 'pos': 0.095, 'compound': 0.0258},\n",
       " 403: {'neg': 0.215, 'neu': 0.697, 'pos': 0.088, 'compound': -0.6351},\n",
       " 404: {'neg': 0.194, 'neu': 0.771, 'pos': 0.035, 'compound': -0.9058},\n",
       " 405: {'neg': 0.0, 'neu': 0.691, 'pos': 0.309, 'compound': 0.8172},\n",
       " 406: {'neg': 0.019, 'neu': 0.702, 'pos': 0.279, 'compound': 0.9622},\n",
       " 407: {'neg': 0.0, 'neu': 0.954, 'pos': 0.046, 'compound': 0.6249},\n",
       " 408: {'neg': 0.036, 'neu': 0.772, 'pos': 0.192, 'compound': 0.9477},\n",
       " 409: {'neg': 0.0, 'neu': 0.713, 'pos': 0.287, 'compound': 0.9257},\n",
       " 410: {'neg': 0.05, 'neu': 0.758, 'pos': 0.192, 'compound': 0.8316},\n",
       " 411: {'neg': 0.016, 'neu': 0.879, 'pos': 0.105, 'compound': 0.8681},\n",
       " 412: {'neg': 0.0, 'neu': 0.802, 'pos': 0.198, 'compound': 0.8555},\n",
       " 413: {'neg': 0.0, 'neu': 0.815, 'pos': 0.185, 'compound': 0.7777},\n",
       " 414: {'neg': 0.0, 'neu': 0.914, 'pos': 0.086, 'compound': 0.4118},\n",
       " 415: {'neg': 0.0, 'neu': 0.722, 'pos': 0.278, 'compound': 0.8902},\n",
       " 416: {'neg': 0.0, 'neu': 0.594, 'pos': 0.406, 'compound': 0.9612},\n",
       " 417: {'neg': 0.07, 'neu': 0.799, 'pos': 0.131, 'compound': 0.9222},\n",
       " 418: {'neg': 0.166, 'neu': 0.809, 'pos': 0.025, 'compound': -0.8957},\n",
       " 419: {'neg': 0.0, 'neu': 0.784, 'pos': 0.216, 'compound': 0.8876},\n",
       " 420: {'neg': 0.148, 'neu': 0.815, 'pos': 0.037, 'compound': -0.5983},\n",
       " 421: {'neg': 0.035, 'neu': 0.754, 'pos': 0.211, 'compound': 0.9561},\n",
       " 422: {'neg': 0.0, 'neu': 0.861, 'pos': 0.139, 'compound': 0.4404},\n",
       " 423: {'neg': 0.223, 'neu': 0.68, 'pos': 0.096, 'compound': -0.3314},\n",
       " 424: {'neg': 0.055, 'neu': 0.687, 'pos': 0.258, 'compound': 0.9106},\n",
       " 425: {'neg': 0.017, 'neu': 0.821, 'pos': 0.161, 'compound': 0.9576},\n",
       " 426: {'neg': 0.0, 'neu': 0.806, 'pos': 0.194, 'compound': 0.7717},\n",
       " 427: {'neg': 0.029, 'neu': 0.817, 'pos': 0.154, 'compound': 0.7845},\n",
       " 428: {'neg': 0.0, 'neu': 0.761, 'pos': 0.239, 'compound': 0.9337},\n",
       " 429: {'neg': 0.0, 'neu': 0.739, 'pos': 0.261, 'compound': 0.9741},\n",
       " 430: {'neg': 0.0, 'neu': 0.617, 'pos': 0.383, 'compound': 0.9876},\n",
       " 431: {'neg': 0.04, 'neu': 0.786, 'pos': 0.174, 'compound': 0.9847},\n",
       " 432: {'neg': 0.0, 'neu': 0.73, 'pos': 0.27, 'compound': 0.9516},\n",
       " 433: {'neg': 0.083, 'neu': 0.751, 'pos': 0.166, 'compound': 0.8044},\n",
       " 434: {'neg': 0.108, 'neu': 0.593, 'pos': 0.299, 'compound': 0.8655},\n",
       " 435: {'neg': 0.0, 'neu': 0.771, 'pos': 0.229, 'compound': 0.9179},\n",
       " 436: {'neg': 0.0, 'neu': 0.829, 'pos': 0.171, 'compound': 0.8519},\n",
       " 437: {'neg': 0.0, 'neu': 0.926, 'pos': 0.074, 'compound': 0.7383},\n",
       " 438: {'neg': 0.0, 'neu': 0.887, 'pos': 0.113, 'compound': 0.6369},\n",
       " 439: {'neg': 0.0, 'neu': 0.728, 'pos': 0.272, 'compound': 0.87},\n",
       " 440: {'neg': 0.072, 'neu': 0.781, 'pos': 0.147, 'compound': 0.9307},\n",
       " 441: {'neg': 0.078, 'neu': 0.793, 'pos': 0.129, 'compound': 0.5176},\n",
       " 442: {'neg': 0.054, 'neu': 0.69, 'pos': 0.257, 'compound': 0.9683},\n",
       " 443: {'neg': 0.0, 'neu': 0.616, 'pos': 0.384, 'compound': 0.9603},\n",
       " 444: {'neg': 0.044, 'neu': 0.898, 'pos': 0.058, 'compound': 0.1882},\n",
       " 445: {'neg': 0.055, 'neu': 0.873, 'pos': 0.072, 'compound': 0.0935},\n",
       " 446: {'neg': 0.077, 'neu': 0.78, 'pos': 0.143, 'compound': 0.3699},\n",
       " 447: {'neg': 0.042, 'neu': 0.763, 'pos': 0.195, 'compound': 0.9883},\n",
       " 448: {'neg': 0.0, 'neu': 0.713, 'pos': 0.287, 'compound': 0.967},\n",
       " 449: {'neg': 0.0, 'neu': 0.737, 'pos': 0.263, 'compound': 0.8531},\n",
       " 450: {'neg': 0.0, 'neu': 0.845, 'pos': 0.155, 'compound': 0.6908},\n",
       " 451: {'neg': 0.034, 'neu': 0.743, 'pos': 0.223, 'compound': 0.9873},\n",
       " 452: {'neg': 0.054, 'neu': 0.782, 'pos': 0.164, 'compound': 0.9337},\n",
       " 453: {'neg': 0.0, 'neu': 0.5, 'pos': 0.5, 'compound': 0.943},\n",
       " 454: {'neg': 0.0, 'neu': 0.603, 'pos': 0.397, 'compound': 0.8811},\n",
       " 455: {'neg': 0.0, 'neu': 0.699, 'pos': 0.301, 'compound': 0.9619},\n",
       " 456: {'neg': 0.082, 'neu': 0.854, 'pos': 0.064, 'compound': -0.4854},\n",
       " 457: {'neg': 0.0, 'neu': 0.684, 'pos': 0.316, 'compound': 0.926},\n",
       " 458: {'neg': 0.0, 'neu': 0.564, 'pos': 0.436, 'compound': 0.9642},\n",
       " 459: {'neg': 0.045, 'neu': 0.717, 'pos': 0.239, 'compound': 0.8455},\n",
       " 460: {'neg': 0.066, 'neu': 0.743, 'pos': 0.19, 'compound': 0.9481},\n",
       " 461: {'neg': 0.08, 'neu': 0.821, 'pos': 0.099, 'compound': 0.4883},\n",
       " 462: {'neg': 0.037, 'neu': 0.87, 'pos': 0.093, 'compound': 0.34},\n",
       " 463: {'neg': 0.099, 'neu': 0.794, 'pos': 0.108, 'compound': 0.5983},\n",
       " 464: {'neg': 0.019, 'neu': 0.868, 'pos': 0.113, 'compound': 0.8443},\n",
       " 465: {'neg': 0.0, 'neu': 0.838, 'pos': 0.162, 'compound': 0.7823},\n",
       " 466: {'neg': 0.0, 'neu': 0.772, 'pos': 0.228, 'compound': 0.9606},\n",
       " 467: {'neg': 0.009, 'neu': 0.845, 'pos': 0.147, 'compound': 0.9874},\n",
       " 468: {'neg': 0.008, 'neu': 0.818, 'pos': 0.174, 'compound': 0.9926},\n",
       " 469: {'neg': 0.049, 'neu': 0.951, 'pos': 0.0, 'compound': -0.3595},\n",
       " 470: {'neg': 0.0, 'neu': 0.957, 'pos': 0.043, 'compound': 0.25},\n",
       " 471: {'neg': 0.051, 'neu': 0.676, 'pos': 0.273, 'compound': 0.9749},\n",
       " 472: {'neg': 0.0, 'neu': 0.565, 'pos': 0.435, 'compound': 0.9649},\n",
       " 473: {'neg': 0.0, 'neu': 0.686, 'pos': 0.314, 'compound': 0.7506},\n",
       " 474: {'neg': 0.013, 'neu': 0.75, 'pos': 0.237, 'compound': 0.9828},\n",
       " 475: {'neg': 0.0, 'neu': 0.585, 'pos': 0.415, 'compound': 0.9095},\n",
       " 476: {'neg': 0.066, 'neu': 0.614, 'pos': 0.32, 'compound': 0.9684},\n",
       " 477: {'neg': 0.034, 'neu': 0.728, 'pos': 0.238, 'compound': 0.8555},\n",
       " 478: {'neg': 0.0, 'neu': 0.823, 'pos': 0.177, 'compound': 0.6239},\n",
       " 479: {'neg': 0.245, 'neu': 0.652, 'pos': 0.103, 'compound': -0.3855},\n",
       " 480: {'neg': 0.0, 'neu': 0.435, 'pos': 0.565, 'compound': 0.9935},\n",
       " 481: {'neg': 0.022, 'neu': 0.728, 'pos': 0.249, 'compound': 0.9451},\n",
       " 482: {'neg': 0.0, 'neu': 0.605, 'pos': 0.395, 'compound': 0.9079},\n",
       " 483: {'neg': 0.0, 'neu': 0.862, 'pos': 0.138, 'compound': 0.3384},\n",
       " 484: {'neg': 0.088, 'neu': 0.767, 'pos': 0.145, 'compound': 0.4516},\n",
       " 485: {'neg': 0.0, 'neu': 0.761, 'pos': 0.239, 'compound': 0.8547},\n",
       " 486: {'neg': 0.0, 'neu': 0.818, 'pos': 0.182, 'compound': 0.9224},\n",
       " 487: {'neg': 0.0, 'neu': 0.909, 'pos': 0.091, 'compound': 0.296},\n",
       " 488: {'neg': 0.179, 'neu': 0.707, 'pos': 0.114, 'compound': -0.3723},\n",
       " 489: {'neg': 0.0, 'neu': 0.861, 'pos': 0.139, 'compound': 0.9598},\n",
       " 490: {'neg': 0.0, 'neu': 0.763, 'pos': 0.237, 'compound': 0.9788},\n",
       " 491: {'neg': 0.055, 'neu': 0.704, 'pos': 0.241, 'compound': 0.9287},\n",
       " 492: {'neg': 0.0, 'neu': 0.717, 'pos': 0.283, 'compound': 0.9367},\n",
       " 493: {'neg': 0.056, 'neu': 0.855, 'pos': 0.089, 'compound': 0.5976},\n",
       " 494: {'neg': 0.1, 'neu': 0.645, 'pos': 0.254, 'compound': 0.6486},\n",
       " 495: {'neg': 0.0, 'neu': 0.788, 'pos': 0.212, 'compound': 0.9743},\n",
       " 496: {'neg': 0.0, 'neu': 0.554, 'pos': 0.446, 'compound': 0.9725},\n",
       " 497: {'neg': 0.059, 'neu': 0.799, 'pos': 0.142, 'compound': 0.7833},\n",
       " 498: {'neg': 0.025, 'neu': 0.762, 'pos': 0.212, 'compound': 0.9848},\n",
       " 499: {'neg': 0.041, 'neu': 0.904, 'pos': 0.055, 'compound': 0.128},\n",
       " 500: {'neg': 0.0, 'neu': 0.678, 'pos': 0.322, 'compound': 0.9811},\n",
       " 501: {'neg': 0.067, 'neu': 0.887, 'pos': 0.046, 'compound': -0.2003},\n",
       " 502: {'neg': 0.0, 'neu': 0.62, 'pos': 0.38, 'compound': 0.8922},\n",
       " 503: {'neg': 0.0, 'neu': 0.715, 'pos': 0.285, 'compound': 0.8213},\n",
       " 504: {'neg': 0.082, 'neu': 0.753, 'pos': 0.165, 'compound': 0.7866},\n",
       " 505: {'neg': 0.016, 'neu': 0.816, 'pos': 0.168, 'compound': 0.9062},\n",
       " 506: {'neg': 0.0, 'neu': 0.732, 'pos': 0.268, 'compound': 0.8555},\n",
       " 507: {'neg': 0.017, 'neu': 0.745, 'pos': 0.238, 'compound': 0.9887},\n",
       " 508: {'neg': 0.147, 'neu': 0.641, 'pos': 0.212, 'compound': 0.7285},\n",
       " 509: {'neg': 0.138, 'neu': 0.763, 'pos': 0.099, 'compound': -0.8157},\n",
       " 510: {'neg': 0.12, 'neu': 0.642, 'pos': 0.237, 'compound': 0.6369},\n",
       " 511: {'neg': 0.052, 'neu': 0.643, 'pos': 0.304, 'compound': 0.9312},\n",
       " 512: {'neg': 0.079, 'neu': 0.779, 'pos': 0.142, 'compound': 0.7184},\n",
       " 513: {'neg': 0.0, 'neu': 0.895, 'pos': 0.105, 'compound': 0.5859},\n",
       " 514: {'neg': 0.029, 'neu': 0.81, 'pos': 0.16, 'compound': 0.935},\n",
       " 515: {'neg': 0.023, 'neu': 0.852, 'pos': 0.125, 'compound': 0.9321},\n",
       " 516: {'neg': 0.0, 'neu': 0.681, 'pos': 0.319, 'compound': 0.8934},\n",
       " 517: {'neg': 0.092, 'neu': 0.736, 'pos': 0.172, 'compound': 0.8074},\n",
       " 518: {'neg': 0.0, 'neu': 0.689, 'pos': 0.311, 'compound': 0.8221},\n",
       " 519: {'neg': 0.0, 'neu': 0.646, 'pos': 0.354, 'compound': 0.899},\n",
       " 520: {'neg': 0.0, 'neu': 1.0, 'pos': 0.0, 'compound': 0.0},\n",
       " 521: {'neg': 0.011, 'neu': 0.736, 'pos': 0.253, 'compound': 0.9839},\n",
       " 522: {'neg': 0.0, 'neu': 0.684, 'pos': 0.316, 'compound': 0.8658},\n",
       " 523: {'neg': 0.032, 'neu': 0.751, 'pos': 0.217, 'compound': 0.9954},\n",
       " 524: {'neg': 0.086, 'neu': 0.818, 'pos': 0.096, 'compound': 0.4246},\n",
       " 525: {'neg': 0.045, 'neu': 0.737, 'pos': 0.218, 'compound': 0.8583},\n",
       " 526: {'neg': 0.038, 'neu': 0.73, 'pos': 0.232, 'compound': 0.9844},\n",
       " 527: {'neg': 0.0, 'neu': 0.782, 'pos': 0.218, 'compound': 0.8539},\n",
       " 528: {'neg': 0.051, 'neu': 0.79, 'pos': 0.16, 'compound': 0.9538},\n",
       " 529: {'neg': 0.047, 'neu': 0.803, 'pos': 0.15, 'compound': 0.9966},\n",
       " 530: {'neg': 0.03, 'neu': 0.71, 'pos': 0.26, 'compound': 0.9757},\n",
       " 531: {'neg': 0.0, 'neu': 0.756, 'pos': 0.244, 'compound': 0.9523},\n",
       " 532: {'neg': 0.069, 'neu': 0.766, 'pos': 0.164, 'compound': 0.91},\n",
       " 533: {'neg': 0.0, 'neu': 0.766, 'pos': 0.234, 'compound': 0.6705},\n",
       " 534: {'neg': 0.0, 'neu': 1.0, 'pos': 0.0, 'compound': 0.0},\n",
       " 535: {'neg': 0.045, 'neu': 0.824, 'pos': 0.13, 'compound': 0.6114},\n",
       " 536: {'neg': 0.065, 'neu': 0.918, 'pos': 0.018, 'compound': -0.7641},\n",
       " 537: {'neg': 0.069, 'neu': 0.757, 'pos': 0.174, 'compound': 0.7028},\n",
       " 538: {'neg': 0.236, 'neu': 0.72, 'pos': 0.045, 'compound': -0.9032},\n",
       " 539: {'neg': 0.128, 'neu': 0.872, 'pos': 0.0, 'compound': -0.5209},\n",
       " 540: {'neg': 0.045, 'neu': 0.788, 'pos': 0.168, 'compound': 0.9989},\n",
       " 541: {'neg': 0.087, 'neu': 0.844, 'pos': 0.069, 'compound': -0.2092},\n",
       " 542: {'neg': 0.013, 'neu': 0.935, 'pos': 0.052, 'compound': 0.4926},\n",
       " 543: {'neg': 0.044, 'neu': 0.752, 'pos': 0.203, 'compound': 0.9183},\n",
       " 544: {'neg': 0.14, 'neu': 0.742, 'pos': 0.117, 'compound': -0.1779},\n",
       " 545: {'neg': 0.193, 'neu': 0.658, 'pos': 0.149, 'compound': -0.417},\n",
       " 546: {'neg': 0.357, 'neu': 0.643, 'pos': 0.0, 'compound': -0.8745},\n",
       " 547: {'neg': 0.054, 'neu': 0.813, 'pos': 0.133, 'compound': 0.8161},\n",
       " 548: {'neg': 0.142, 'neu': 0.746, 'pos': 0.111, 'compound': -0.5089},\n",
       " 549: {'neg': 0.0, 'neu': 0.659, 'pos': 0.341, 'compound': 0.8855},\n",
       " 550: {'neg': 0.0, 'neu': 0.828, 'pos': 0.172, 'compound': 0.4404},\n",
       " 551: {'neg': 0.0, 'neu': 0.867, 'pos': 0.133, 'compound': 0.7555},\n",
       " 552: {'neg': 0.144, 'neu': 0.856, 'pos': 0.0, 'compound': -0.8144},\n",
       " 553: {'neg': 0.0, 'neu': 0.801, 'pos': 0.199, 'compound': 0.921},\n",
       " 554: {'neg': 0.0, 'neu': 0.916, 'pos': 0.084, 'compound': 0.9136},\n",
       " 555: {'neg': 0.0, 'neu': 0.927, 'pos': 0.073, 'compound': 0.5106},\n",
       " 556: {'neg': 0.0, 'neu': 0.93, 'pos': 0.07, 'compound': 0.3252},\n",
       " 557: {'neg': 0.096, 'neu': 0.745, 'pos': 0.158, 'compound': 0.25},\n",
       " 558: {'neg': 0.269, 'neu': 0.66, 'pos': 0.071, 'compound': -0.8004},\n",
       " 559: {'neg': 0.115, 'neu': 0.755, 'pos': 0.13, 'compound': 0.1104},\n",
       " 560: {'neg': 0.0, 'neu': 0.718, 'pos': 0.282, 'compound': 0.9612},\n",
       " 561: {'neg': 0.09, 'neu': 0.847, 'pos': 0.062, 'compound': -0.7754},\n",
       " 562: {'neg': 0.093, 'neu': 0.876, 'pos': 0.031, 'compound': -0.664},\n",
       " 563: {'neg': 0.12, 'neu': 0.795, 'pos': 0.084, 'compound': -0.8814},\n",
       " 564: {'neg': 0.026, 'neu': 0.797, 'pos': 0.177, 'compound': 0.9217},\n",
       " 565: {'neg': 0.0, 'neu': 0.832, 'pos': 0.168, 'compound': 0.8172},\n",
       " 566: {'neg': 0.0, 'neu': 0.608, 'pos': 0.392, 'compound': 0.9859},\n",
       " 567: {'neg': 0.177, 'neu': 0.823, 'pos': 0.0, 'compound': -0.9679},\n",
       " 568: {'neg': 0.114, 'neu': 0.735, 'pos': 0.151, 'compound': 0.6749},\n",
       " 569: {'neg': 0.026, 'neu': 0.897, 'pos': 0.077, 'compound': 0.3291},\n",
       " 570: {'neg': 0.0, 'neu': 0.803, 'pos': 0.197, 'compound': 0.8422},\n",
       " 571: {'neg': 0.0, 'neu': 0.751, 'pos': 0.249, 'compound': 0.9118},\n",
       " 572: {'neg': 0.01, 'neu': 0.817, 'pos': 0.172, 'compound': 0.9945},\n",
       " 573: {'neg': 0.018, 'neu': 0.818, 'pos': 0.164, 'compound': 0.9915},\n",
       " 574: {'neg': 0.0, 'neu': 1.0, 'pos': 0.0, 'compound': 0.0},\n",
       " 575: {'neg': 0.009, 'neu': 0.845, 'pos': 0.147, 'compound': 0.9874},\n",
       " 576: {'neg': 0.0, 'neu': 0.601, 'pos': 0.399, 'compound': 0.8834},\n",
       " 577: {'neg': 0.019, 'neu': 0.835, 'pos': 0.146, 'compound': 0.8291},\n",
       " 578: {'neg': 0.0, 'neu': 0.781, 'pos': 0.219, 'compound': 0.9749},\n",
       " 579: {'neg': 0.0, 'neu': 0.536, 'pos': 0.464, 'compound': 0.9307},\n",
       " 580: {'neg': 0.0, 'neu': 0.802, 'pos': 0.198, 'compound': 0.6369},\n",
       " 581: {'neg': 0.0, 'neu': 0.857, 'pos': 0.143, 'compound': 0.6124},\n",
       " 582: {'neg': 0.043, 'neu': 0.649, 'pos': 0.308, 'compound': 0.9254},\n",
       " 583: {'neg': 0.0, 'neu': 0.907, 'pos': 0.093, 'compound': 0.4019},\n",
       " 584: {'neg': 0.091, 'neu': 0.909, 'pos': 0.0, 'compound': -0.2732},\n",
       " 585: {'neg': 0.081, 'neu': 0.785, 'pos': 0.134, 'compound': 0.25},\n",
       " 586: {'neg': 0.083, 'neu': 0.721, 'pos': 0.196, 'compound': 0.8132},\n",
       " 587: {'neg': 0.0, 'neu': 0.779, 'pos': 0.221, 'compound': 0.9323},\n",
       " 588: {'neg': 0.116, 'neu': 0.75, 'pos': 0.135, 'compound': 0.2169},\n",
       " 589: {'neg': 0.0, 'neu': 0.81, 'pos': 0.19, 'compound': 0.9042},\n",
       " 590: {'neg': 0.016, 'neu': 0.861, 'pos': 0.123, 'compound': 0.846},\n",
       " 591: {'neg': 0.0, 'neu': 0.826, 'pos': 0.174, 'compound': 0.6369},\n",
       " 592: {'neg': 0.0, 'neu': 0.889, 'pos': 0.111, 'compound': 0.9446},\n",
       " 593: {'neg': 0.056, 'neu': 0.726, 'pos': 0.217, 'compound': 0.9739},\n",
       " 594: {'neg': 0.042, 'neu': 0.857, 'pos': 0.101, 'compound': 0.8112},\n",
       " 595: {'neg': 0.031, 'neu': 0.831, 'pos': 0.138, 'compound': 0.8932},\n",
       " 596: {'neg': 0.022, 'neu': 0.845, 'pos': 0.133, 'compound': 0.9206},\n",
       " 597: {'neg': 0.0, 'neu': 0.797, 'pos': 0.203, 'compound': 0.8567},\n",
       " 598: {'neg': 0.063, 'neu': 0.859, 'pos': 0.078, 'compound': 0.4101},\n",
       " 599: {'neg': 0.146, 'neu': 0.571, 'pos': 0.283, 'compound': 0.8802},\n",
       " 600: {'neg': 0.051, 'neu': 0.693, 'pos': 0.257, 'compound': 0.9842},\n",
       " 601: {'neg': 0.186, 'neu': 0.665, 'pos': 0.149, 'compound': -0.4503},\n",
       " 602: {'neg': 0.05, 'neu': 0.639, 'pos': 0.311, 'compound': 0.9834},\n",
       " 603: {'neg': 0.007, 'neu': 0.827, 'pos': 0.166, 'compound': 0.9938},\n",
       " 604: {'neg': 0.009, 'neu': 0.845, 'pos': 0.147, 'compound': 0.9874},\n",
       " 605: {'neg': 0.0, 'neu': 0.83, 'pos': 0.17, 'compound': 0.8481},\n",
       " 606: {'neg': 0.0, 'neu': 0.837, 'pos': 0.163, 'compound': 0.8715},\n",
       " 607: {'neg': 0.085, 'neu': 0.682, 'pos': 0.233, 'compound': 0.5705},\n",
       " 608: {'neg': 0.014, 'neu': 0.733, 'pos': 0.253, 'compound': 0.9779},\n",
       " 609: {'neg': 0.061, 'neu': 0.875, 'pos': 0.063, 'compound': 0.0384},\n",
       " 610: {'neg': 0.02, 'neu': 0.834, 'pos': 0.146, 'compound': 0.9668},\n",
       " 611: {'neg': 0.088, 'neu': 0.713, 'pos': 0.2, 'compound': 0.6222},\n",
       " 612: {'neg': 0.052, 'neu': 0.758, 'pos': 0.191, 'compound': 0.8139},\n",
       " 613: {'neg': 0.147, 'neu': 0.786, 'pos': 0.067, 'compound': -0.6341},\n",
       " 614: {'neg': 0.0, 'neu': 0.746, 'pos': 0.254, 'compound': 0.9585},\n",
       " 615: {'neg': 0.039, 'neu': 0.801, 'pos': 0.159, 'compound': 0.9169},\n",
       " 616: {'neg': 0.024, 'neu': 0.706, 'pos': 0.27, 'compound': 0.982},\n",
       " 617: {'neg': 0.0, 'neu': 0.7, 'pos': 0.3, 'compound': 0.8901},\n",
       " 618: {'neg': 0.0, 'neu': 0.694, 'pos': 0.306, 'compound': 0.8979},\n",
       " 619: {'neg': 0.0, 'neu': 0.875, 'pos': 0.125, 'compound': 0.5067},\n",
       " 620: {'neg': 0.0, 'neu': 0.599, 'pos': 0.401, 'compound': 0.9586},\n",
       " 621: {'neg': 0.075, 'neu': 0.817, 'pos': 0.108, 'compound': 0.8004},\n",
       " 622: {'neg': 0.157, 'neu': 0.788, 'pos': 0.055, 'compound': -0.8088},\n",
       " 623: {'neg': 0.039, 'neu': 0.627, 'pos': 0.334, 'compound': 0.969},\n",
       " 624: {'neg': 0.077, 'neu': 0.707, 'pos': 0.217, 'compound': 0.983},\n",
       " 625: {'neg': 0.0, 'neu': 0.867, 'pos': 0.133, 'compound': 0.9697},\n",
       " 626: {'neg': 0.028, 'neu': 0.697, 'pos': 0.275, 'compound': 0.9745},\n",
       " 627: {'neg': 0.078, 'neu': 0.792, 'pos': 0.13, 'compound': 0.5574},\n",
       " 628: {'neg': 0.061, 'neu': 0.674, 'pos': 0.265, 'compound': 0.8678},\n",
       " 629: {'neg': 0.053, 'neu': 0.947, 'pos': 0.0, 'compound': -0.3919},\n",
       " 630: {'neg': 0.13, 'neu': 0.587, 'pos': 0.283, 'compound': 0.9169},\n",
       " 631: {'neg': 0.029, 'neu': 0.918, 'pos': 0.053, 'compound': 0.4166},\n",
       " 632: {'neg': 0.0, 'neu': 0.69, 'pos': 0.31, 'compound': 0.933},\n",
       " 633: {'neg': 0.01, 'neu': 0.866, 'pos': 0.124, 'compound': 0.9167},\n",
       " 634: {'neg': 0.042, 'neu': 0.775, 'pos': 0.183, 'compound': 0.9739},\n",
       " 635: {'neg': 0.213, 'neu': 0.608, 'pos': 0.179, 'compound': -0.0997},\n",
       " 636: {'neg': 0.187, 'neu': 0.728, 'pos': 0.086, 'compound': -0.9194},\n",
       " 637: {'neg': 0.05, 'neu': 0.856, 'pos': 0.093, 'compound': 0.5597},\n",
       " 638: {'neg': 0.095, 'neu': 0.589, 'pos': 0.316, 'compound': 0.7074},\n",
       " 639: {'neg': 0.034, 'neu': 0.722, 'pos': 0.244, 'compound': 0.9375},\n",
       " 640: {'neg': 0.03, 'neu': 0.734, 'pos': 0.236, 'compound': 0.9554},\n",
       " 641: {'neg': 0.0, 'neu': 0.936, 'pos': 0.064, 'compound': 0.0772},\n",
       " 642: {'neg': 0.0, 'neu': 0.799, 'pos': 0.201, 'compound': 0.9545},\n",
       " 643: {'neg': 0.031, 'neu': 0.793, 'pos': 0.176, 'compound': 0.8316},\n",
       " 644: {'neg': 0.02, 'neu': 0.685, 'pos': 0.295, 'compound': 0.9814},\n",
       " 645: {'neg': 0.076, 'neu': 0.585, 'pos': 0.339, 'compound': 0.8595},\n",
       " 646: {'neg': 0.0, 'neu': 0.694, 'pos': 0.306, 'compound': 0.9151},\n",
       " 647: {'neg': 0.021, 'neu': 0.83, 'pos': 0.149, 'compound': 0.9249},\n",
       " 648: {'neg': 0.096, 'neu': 0.7, 'pos': 0.204, 'compound': 0.5719},\n",
       " 649: {'neg': 0.0, 'neu': 0.89, 'pos': 0.11, 'compound': 0.3818},\n",
       " 650: {'neg': 0.093, 'neu': 0.77, 'pos': 0.137, 'compound': 0.9356},\n",
       " 651: {'neg': 0.0, 'neu': 0.814, 'pos': 0.186, 'compound': 0.8395},\n",
       " 652: {'neg': 0.043, 'neu': 0.867, 'pos': 0.09, 'compound': 0.8845},\n",
       " 653: {'neg': 0.029, 'neu': 0.9, 'pos': 0.071, 'compound': 0.9377},\n",
       " 654: {'neg': 0.038, 'neu': 0.89, 'pos': 0.072, 'compound': 0.7588},\n",
       " 655: {'neg': 0.0, 'neu': 0.909, 'pos': 0.091, 'compound': 0.4404},\n",
       " 656: {'neg': 0.0, 'neu': 0.614, 'pos': 0.386, 'compound': 0.8932},\n",
       " 657: {'neg': 0.0, 'neu': 0.654, 'pos': 0.346, 'compound': 0.9022},\n",
       " 658: {'neg': 0.0, 'neu': 0.811, 'pos': 0.189, 'compound': 0.6808},\n",
       " 659: {'neg': 0.046, 'neu': 0.637, 'pos': 0.316, 'compound': 0.906},\n",
       " 660: {'neg': 0.02, 'neu': 0.777, 'pos': 0.203, 'compound': 0.9601},\n",
       " 661: {'neg': 0.228, 'neu': 0.545, 'pos': 0.228, 'compound': 0.25},\n",
       " 662: {'neg': 0.0, 'neu': 0.788, 'pos': 0.212, 'compound': 0.8439},\n",
       " 663: {'neg': 0.106, 'neu': 0.7, 'pos': 0.193, 'compound': 0.624},\n",
       " 664: {'neg': 0.018, 'neu': 0.882, 'pos': 0.099, 'compound': 0.9621},\n",
       " 665: {'neg': 0.0, 'neu': 0.774, 'pos': 0.226, 'compound': 0.9757},\n",
       " 666: {'neg': 0.0, 'neu': 0.697, 'pos': 0.303, 'compound': 0.9476},\n",
       " 667: {'neg': 0.0, 'neu': 0.816, 'pos': 0.184, 'compound': 0.7263},\n",
       " 668: {'neg': 0.05, 'neu': 0.69, 'pos': 0.26, 'compound': 0.8689},\n",
       " 669: {'neg': 0.0, 'neu': 0.744, 'pos': 0.256, 'compound': 0.8225},\n",
       " 670: {'neg': 0.077, 'neu': 0.634, 'pos': 0.289, 'compound': 0.7906},\n",
       " 671: {'neg': 0.0, 'neu': 0.604, 'pos': 0.396, 'compound': 0.8957},\n",
       " 672: {'neg': 0.046, 'neu': 0.854, 'pos': 0.1, 'compound': 0.8074},\n",
       " 673: {'neg': 0.065, 'neu': 0.88, 'pos': 0.055, 'compound': -0.1263},\n",
       " 674: {'neg': 0.062, 'neu': 0.708, 'pos': 0.231, 'compound': 0.9313},\n",
       " 675: {'neg': 0.0, 'neu': 0.797, 'pos': 0.203, 'compound': 0.9098},\n",
       " 676: {'neg': 0.095, 'neu': 0.773, 'pos': 0.132, 'compound': 0.6588},\n",
       " 677: {'neg': 0.044, 'neu': 0.72, 'pos': 0.237, 'compound': 0.9566},\n",
       " 678: {'neg': 0.049, 'neu': 0.685, 'pos': 0.266, 'compound': 0.749},\n",
       " 679: {'neg': 0.0, 'neu': 0.746, 'pos': 0.254, 'compound': 0.8896},\n",
       " 680: {'neg': 0.126, 'neu': 0.686, 'pos': 0.188, 'compound': 0.879},\n",
       " 681: {'neg': 0.052, 'neu': 0.829, 'pos': 0.119, 'compound': 0.491},\n",
       " 682: {'neg': 0.121, 'neu': 0.879, 'pos': 0.0, 'compound': -0.509},\n",
       " 683: {'neg': 0.06, 'neu': 0.753, 'pos': 0.187, 'compound': 0.6369},\n",
       " 684: {'neg': 0.184, 'neu': 0.816, 'pos': 0.0, 'compound': -0.5423},\n",
       " 685: {'neg': 0.141, 'neu': 0.411, 'pos': 0.449, 'compound': 0.9354},\n",
       " 686: {'neg': 0.0, 'neu': 0.56, 'pos': 0.44, 'compound': 0.9318},\n",
       " 687: {'neg': 0.015, 'neu': 0.844, 'pos': 0.141, 'compound': 0.9605},\n",
       " 688: {'neg': 0.0, 'neu': 0.833, 'pos': 0.167, 'compound': 0.7183},\n",
       " 689: {'neg': 0.051, 'neu': 0.743, 'pos': 0.206, 'compound': 0.9694},\n",
       " 690: {'neg': 0.041, 'neu': 0.716, 'pos': 0.243, 'compound': 0.8878},\n",
       " 691: {'neg': 0.045, 'neu': 0.817, 'pos': 0.138, 'compound': 0.8189},\n",
       " 692: {'neg': 0.035, 'neu': 0.826, 'pos': 0.139, 'compound': 0.7845},\n",
       " 693: {'neg': 0.0, 'neu': 0.916, 'pos': 0.084, 'compound': 0.8356},\n",
       " 694: {'neg': 0.0, 'neu': 0.86, 'pos': 0.14, 'compound': 0.7345},\n",
       " 695: {'neg': 0.0, 'neu': 0.705, 'pos': 0.295, 'compound': 0.8718},\n",
       " 696: {'neg': 0.0, 'neu': 0.734, 'pos': 0.266, 'compound': 0.9118},\n",
       " 697: {'neg': 0.037, 'neu': 0.89, 'pos': 0.073, 'compound': 0.3585},\n",
       " 698: {'neg': 0.052, 'neu': 0.759, 'pos': 0.189, 'compound': 0.9103},\n",
       " 699: {'neg': 0.076, 'neu': 0.698, 'pos': 0.227, 'compound': 0.911},\n",
       " 700: {'neg': 0.052, 'neu': 0.687, 'pos': 0.261, 'compound': 0.905},\n",
       " 701: {'neg': 0.055, 'neu': 0.731, 'pos': 0.214, 'compound': 0.7414},\n",
       " 702: {'neg': 0.067, 'neu': 0.672, 'pos': 0.261, 'compound': 0.7467},\n",
       " 703: {'neg': 0.0, 'neu': 0.623, 'pos': 0.377, 'compound': 0.9603},\n",
       " 704: {'neg': 0.0, 'neu': 0.552, 'pos': 0.448, 'compound': 0.9393},\n",
       " 705: {'neg': 0.059, 'neu': 0.536, 'pos': 0.405, 'compound': 0.9312},\n",
       " 706: {'neg': 0.091, 'neu': 0.563, 'pos': 0.345, 'compound': 0.7824},\n",
       " 707: {'neg': 0.07, 'neu': 0.648, 'pos': 0.282, 'compound': 0.8176},\n",
       " 708: {'neg': 0.0, 'neu': 0.635, 'pos': 0.365, 'compound': 0.7845},\n",
       " 709: {'neg': 0.0, 'neu': 0.717, 'pos': 0.283, 'compound': 0.8172},\n",
       " 710: {'neg': 0.028, 'neu': 0.865, 'pos': 0.107, 'compound': 0.9035},\n",
       " 711: {'neg': 0.0, 'neu': 0.88, 'pos': 0.12, 'compound': 0.9131},\n",
       " 712: {'neg': 0.029, 'neu': 0.911, 'pos': 0.06, 'compound': 0.3116},\n",
       " 713: {'neg': 0.048, 'neu': 0.773, 'pos': 0.179, 'compound': 0.9605},\n",
       " 714: {'neg': 0.0, 'neu': 0.85, 'pos': 0.15, 'compound': 0.8725},\n",
       " 715: {'neg': 0.0, 'neu': 0.76, 'pos': 0.24, 'compound': 0.9001},\n",
       " 716: {'neg': 0.088, 'neu': 0.669, 'pos': 0.243, 'compound': 0.9403},\n",
       " 717: {'neg': 0.09, 'neu': 0.887, 'pos': 0.023, 'compound': -0.6607},\n",
       " 718: {'neg': 0.075, 'neu': 0.858, 'pos': 0.066, 'compound': -0.1045},\n",
       " 719: {'neg': 0.087, 'neu': 0.774, 'pos': 0.139, 'compound': 0.6675},\n",
       " 720: {'neg': 0.102, 'neu': 0.824, 'pos': 0.073, 'compound': -0.2617},\n",
       " 721: {'neg': 0.024, 'neu': 0.75, 'pos': 0.226, 'compound': 0.9318},\n",
       " 722: {'neg': 0.029, 'neu': 0.714, 'pos': 0.256, 'compound': 0.9449},\n",
       " 723: {'neg': 0.073, 'neu': 0.757, 'pos': 0.17, 'compound': 0.8395},\n",
       " 724: {'neg': 0.091, 'neu': 0.779, 'pos': 0.13, 'compound': 0.224},\n",
       " 725: {'neg': 0.0, 'neu': 0.738, 'pos': 0.262, 'compound': 0.6901},\n",
       " 726: {'neg': 0.028, 'neu': 0.891, 'pos': 0.081, 'compound': 0.7227},\n",
       " 727: {'neg': 0.04, 'neu': 0.577, 'pos': 0.383, 'compound': 0.9168},\n",
       " 728: {'neg': 0.0, 'neu': 0.864, 'pos': 0.136, 'compound': 0.3987},\n",
       " 729: {'neg': 0.0, 'neu': 0.617, 'pos': 0.383, 'compound': 0.9825},\n",
       " 730: {'neg': 0.0, 'neu': 0.915, 'pos': 0.085, 'compound': 0.6697},\n",
       " 731: {'neg': 0.1, 'neu': 0.709, 'pos': 0.191, 'compound': 0.6886},\n",
       " 732: {'neg': 0.0, 'neu': 0.805, 'pos': 0.195, 'compound': 0.9022},\n",
       " 733: {'neg': 0.109, 'neu': 0.785, 'pos': 0.106, 'compound': 0.2249},\n",
       " 734: {'neg': 0.0, 'neu': 0.442, 'pos': 0.558, 'compound': 0.9764},\n",
       " 735: {'neg': 0.054, 'neu': 0.828, 'pos': 0.118, 'compound': 0.5632},\n",
       " 736: {'neg': 0.022, 'neu': 0.88, 'pos': 0.098, 'compound': 0.9257},\n",
       " 737: {'neg': 0.176, 'neu': 0.685, 'pos': 0.139, 'compound': -0.4376},\n",
       " 738: {'neg': 0.083, 'neu': 0.822, 'pos': 0.095, 'compound': -0.409},\n",
       " 739: {'neg': 0.135, 'neu': 0.758, 'pos': 0.108, 'compound': -0.3625},\n",
       " 740: {'neg': 0.247, 'neu': 0.562, 'pos': 0.191, 'compound': -0.7067},\n",
       " 741: {'neg': 0.154, 'neu': 0.754, 'pos': 0.091, 'compound': -0.9047},\n",
       " 742: {'neg': 0.126, 'neu': 0.821, 'pos': 0.053, 'compound': -0.9321},\n",
       " 743: {'neg': 0.0, 'neu': 0.834, 'pos': 0.166, 'compound': 0.8745},\n",
       " 744: {'neg': 0.039, 'neu': 0.722, 'pos': 0.239, 'compound': 0.9113},\n",
       " 745: {'neg': 0.049, 'neu': 0.86, 'pos': 0.091, 'compound': 0.8617},\n",
       " 746: {'neg': 0.016, 'neu': 0.858, 'pos': 0.126, 'compound': 0.9909},\n",
       " 747: {'neg': 0.092, 'neu': 0.838, 'pos': 0.07, 'compound': -0.2047},\n",
       " 748: {'neg': 0.012, 'neu': 0.875, 'pos': 0.113, 'compound': 0.9834},\n",
       " 749: {'neg': 0.22, 'neu': 0.78, 'pos': 0.0, 'compound': -0.7351},\n",
       " 750: {'neg': 0.152, 'neu': 0.664, 'pos': 0.185, 'compound': 0.1779},\n",
       " 751: {'neg': 0.354, 'neu': 0.566, 'pos': 0.079, 'compound': -0.8067},\n",
       " 752: {'neg': 0.0, 'neu': 0.823, 'pos': 0.177, 'compound': 0.9916},\n",
       " 753: {'neg': 0.0, 'neu': 0.786, 'pos': 0.214, 'compound': 0.9807},\n",
       " 754: {'neg': 0.023, 'neu': 0.796, 'pos': 0.18, 'compound': 0.9527},\n",
       " 755: {'neg': 0.0, 'neu': 0.598, 'pos': 0.402, 'compound': 0.902},\n",
       " 756: {'neg': 0.0, 'neu': 0.794, 'pos': 0.206, 'compound': 0.9097},\n",
       " 757: {'neg': 0.0, 'neu': 0.69, 'pos': 0.31, 'compound': 0.8934},\n",
       " 758: {'neg': 0.0, 'neu': 0.699, 'pos': 0.301, 'compound': 0.7841},\n",
       " 759: {'neg': 0.0, 'neu': 0.842, 'pos': 0.158, 'compound': 0.7768},\n",
       " 760: {'neg': 0.216, 'neu': 0.727, 'pos': 0.056, 'compound': -0.8049},\n",
       " 761: {'neg': 0.038, 'neu': 0.789, 'pos': 0.173, 'compound': 0.9582},\n",
       " 762: {'neg': 0.14, 'neu': 0.663, 'pos': 0.197, 'compound': 0.617},\n",
       " 763: {'neg': 0.0, 'neu': 0.789, 'pos': 0.211, 'compound': 0.9001},\n",
       " 764: {'neg': 0.023, 'neu': 0.807, 'pos': 0.169, 'compound': 0.9011},\n",
       " 765: {'neg': 0.0, 'neu': 0.749, 'pos': 0.251, 'compound': 0.9688},\n",
       " 766: {'neg': 0.0, 'neu': 0.815, 'pos': 0.185, 'compound': 0.9601},\n",
       " 767: {'neg': 0.033, 'neu': 0.851, 'pos': 0.116, 'compound': 0.966},\n",
       " 768: {'neg': 0.0, 'neu': 0.63, 'pos': 0.37, 'compound': 0.875},\n",
       " 769: {'neg': 0.166, 'neu': 0.75, 'pos': 0.083, 'compound': -0.4574},\n",
       " 770: {'neg': 0.278, 'neu': 0.722, 'pos': 0.0, 'compound': -0.7112},\n",
       " 771: {'neg': 0.035, 'neu': 0.797, 'pos': 0.168, 'compound': 0.9861},\n",
       " 772: {'neg': 0.0, 'neu': 0.777, 'pos': 0.223, 'compound': 0.7755},\n",
       " 773: {'neg': 0.0, 'neu': 0.717, 'pos': 0.283, 'compound': 0.9595},\n",
       " 774: {'neg': 0.0, 'neu': 0.677, 'pos': 0.323, 'compound': 0.9531},\n",
       " 775: {'neg': 0.365, 'neu': 0.635, 'pos': 0.0, 'compound': -0.8481},\n",
       " 776: {'neg': 0.0, 'neu': 1.0, 'pos': 0.0, 'compound': 0.0},\n",
       " 777: {'neg': 0.075, 'neu': 0.76, 'pos': 0.166, 'compound': 0.785},\n",
       " 778: {'neg': 0.0, 'neu': 0.782, 'pos': 0.218, 'compound': 0.8481},\n",
       " 779: {'neg': 0.047, 'neu': 0.815, 'pos': 0.139, 'compound': 0.9021},\n",
       " 780: {'neg': 0.0, 'neu': 0.786, 'pos': 0.214, 'compound': 0.7783},\n",
       " 781: {'neg': 0.0, 'neu': 1.0, 'pos': 0.0, 'compound': 0.0},\n",
       " 782: {'neg': 0.17, 'neu': 0.779, 'pos': 0.051, 'compound': -0.7785},\n",
       " 783: {'neg': 0.041, 'neu': 0.867, 'pos': 0.092, 'compound': 0.9161},\n",
       " 784: {'neg': 0.029, 'neu': 0.744, 'pos': 0.227, 'compound': 0.962},\n",
       " 785: {'neg': 0.139, 'neu': 0.783, 'pos': 0.078, 'compound': -0.2351},\n",
       " 786: {'neg': 0.107, 'neu': 0.837, 'pos': 0.056, 'compound': -0.9315},\n",
       " 787: {'neg': 0.0, 'neu': 0.735, 'pos': 0.265, 'compound': 0.9598},\n",
       " 788: {'neg': 0.075, 'neu': 0.694, 'pos': 0.231, 'compound': 0.8345},\n",
       " 789: {'neg': 0.119, 'neu': 0.881, 'pos': 0.0, 'compound': -0.4767},\n",
       " 790: {'neg': 0.078, 'neu': 0.77, 'pos': 0.151, 'compound': 0.769},\n",
       " 791: {'neg': 0.037, 'neu': 0.782, 'pos': 0.181, 'compound': 0.8807},\n",
       " 792: {'neg': 0.027, 'neu': 0.851, 'pos': 0.122, 'compound': 0.8841},\n",
       " 793: {'neg': 0.0, 'neu': 0.856, 'pos': 0.144, 'compound': 0.6369},\n",
       " 794: {'neg': 0.022, 'neu': 0.747, 'pos': 0.23, 'compound': 0.8879},\n",
       " 795: {'neg': 0.0, 'neu': 0.882, 'pos': 0.118, 'compound': 0.9091},\n",
       " 796: {'neg': 0.0, 'neu': 0.879, 'pos': 0.121, 'compound': 0.4404},\n",
       " 797: {'neg': 0.0, 'neu': 0.849, 'pos': 0.151, 'compound': 0.5848},\n",
       " 798: {'neg': 0.042, 'neu': 0.799, 'pos': 0.159, 'compound': 0.9371},\n",
       " 799: {'neg': 0.064, 'neu': 0.716, 'pos': 0.22, 'compound': 0.785},\n",
       " 800: {'neg': 0.0, 'neu': 0.526, 'pos': 0.474, 'compound': 0.9577},\n",
       " 801: {'neg': 0.0, 'neu': 0.711, 'pos': 0.289, 'compound': 0.899},\n",
       " 802: {'neg': 0.0, 'neu': 1.0, 'pos': 0.0, 'compound': 0.0},\n",
       " 803: {'neg': 0.143, 'neu': 0.717, 'pos': 0.14, 'compound': 0.2278},\n",
       " 804: {'neg': 0.034, 'neu': 0.833, 'pos': 0.134, 'compound': 0.8289},\n",
       " 805: {'neg': 0.0, 'neu': 0.79, 'pos': 0.21, 'compound': 0.8422},\n",
       " 806: {'neg': 0.0, 'neu': 0.703, 'pos': 0.297, 'compound': 0.9366},\n",
       " 807: {'neg': 0.0, 'neu': 0.697, 'pos': 0.303, 'compound': 0.9298},\n",
       " 808: {'neg': 0.0, 'neu': 0.875, 'pos': 0.125, 'compound': 0.6124},\n",
       " 809: {'neg': 0.0, 'neu': 0.731, 'pos': 0.269, 'compound': 0.7088},\n",
       " 810: {'neg': 0.0, 'neu': 0.79, 'pos': 0.21, 'compound': 0.8271},\n",
       " 811: {'neg': 0.025, 'neu': 0.735, 'pos': 0.24, 'compound': 0.9505},\n",
       " 812: {'neg': 0.0, 'neu': 0.798, 'pos': 0.202, 'compound': 0.5859},\n",
       " 813: {'neg': 0.0, 'neu': 0.832, 'pos': 0.168, 'compound': 0.7537},\n",
       " 814: {'neg': 0.043, 'neu': 0.925, 'pos': 0.033, 'compound': -0.1502},\n",
       " 815: {'neg': 0.018, 'neu': 0.917, 'pos': 0.065, 'compound': 0.5859},\n",
       " 816: {'neg': 0.0, 'neu': 0.721, 'pos': 0.279, 'compound': 0.8655},\n",
       " 817: {'neg': 0.124, 'neu': 0.705, 'pos': 0.171, 'compound': 0.8427},\n",
       " 818: {'neg': 0.092, 'neu': 0.717, 'pos': 0.191, 'compound': 0.4404},\n",
       " 819: {'neg': 0.071, 'neu': 0.802, 'pos': 0.126, 'compound': 0.7569},\n",
       " 820: {'neg': 0.0, 'neu': 0.932, 'pos': 0.068, 'compound': 0.7712},\n",
       " 821: {'neg': 0.045, 'neu': 0.782, 'pos': 0.173, 'compound': 0.8791},\n",
       " 822: {'neg': 0.0, 'neu': 0.782, 'pos': 0.218, 'compound': 0.9198},\n",
       " 823: {'neg': 0.064, 'neu': 0.842, 'pos': 0.094, 'compound': 0.4005},\n",
       " 824: {'neg': 0.05, 'neu': 0.86, 'pos': 0.09, 'compound': 0.8774},\n",
       " 825: {'neg': 0.06, 'neu': 0.378, 'pos': 0.562, 'compound': 0.9634},\n",
       " 826: {'neg': 0.0, 'neu': 0.645, 'pos': 0.355, 'compound': 0.968},\n",
       " 827: {'neg': 0.119, 'neu': 0.628, 'pos': 0.253, 'compound': 0.7906},\n",
       " 828: {'neg': 0.0, 'neu': 0.895, 'pos': 0.105, 'compound': 0.7088},\n",
       " 829: {'neg': 0.0, 'neu': 0.947, 'pos': 0.053, 'compound': 0.2382},\n",
       " 830: {'neg': 0.0, 'neu': 0.779, 'pos': 0.221, 'compound': 0.945},\n",
       " 831: {'neg': 0.0, 'neu': 0.684, 'pos': 0.316, 'compound': 0.8633},\n",
       " 832: {'neg': 0.085, 'neu': 0.864, 'pos': 0.051, 'compound': -0.2755},\n",
       " 833: {'neg': 0.025, 'neu': 0.881, 'pos': 0.094, 'compound': 0.7184},\n",
       " 834: {'neg': 0.072, 'neu': 0.804, 'pos': 0.124, 'compound': 0.8118},\n",
       " 835: {'neg': 0.0, 'neu': 0.805, 'pos': 0.195, 'compound': 0.9074},\n",
       " 836: {'neg': 0.04, 'neu': 0.765, 'pos': 0.195, 'compound': 0.836},\n",
       " 837: {'neg': 0.197, 'neu': 0.769, 'pos': 0.033, 'compound': -0.8353},\n",
       " 838: {'neg': 0.0, 'neu': 0.811, 'pos': 0.189, 'compound': 0.7845},\n",
       " 839: {'neg': 0.0, 'neu': 0.791, 'pos': 0.209, 'compound': 0.9622},\n",
       " 840: {'neg': 0.079, 'neu': 0.684, 'pos': 0.237, 'compound': 0.9398},\n",
       " 841: {'neg': 0.038, 'neu': 0.722, 'pos': 0.24, 'compound': 0.9648},\n",
       " 842: {'neg': 0.0, 'neu': 0.736, 'pos': 0.264, 'compound': 0.7845},\n",
       " 843: {'neg': 0.0, 'neu': 0.777, 'pos': 0.223, 'compound': 0.6494},\n",
       " 844: {'neg': 0.023, 'neu': 0.904, 'pos': 0.073, 'compound': 0.6242},\n",
       " 845: {'neg': 0.0, 'neu': 0.785, 'pos': 0.215, 'compound': 0.9419},\n",
       " 846: {'neg': 0.0, 'neu': 0.667, 'pos': 0.333, 'compound': 0.8999},\n",
       " 847: {'neg': 0.053, 'neu': 0.791, 'pos': 0.156, 'compound': 0.6486},\n",
       " 848: {'neg': 0.0, 'neu': 0.879, 'pos': 0.121, 'compound': 0.4404},\n",
       " 849: {'neg': 0.0, 'neu': 0.844, 'pos': 0.156, 'compound': 0.8588},\n",
       " 850: {'neg': 0.0, 'neu': 0.734, 'pos': 0.266, 'compound': 0.8264},\n",
       " 851: {'neg': 0.049, 'neu': 0.734, 'pos': 0.218, 'compound': 0.9834},\n",
       " 852: {'neg': 0.028, 'neu': 0.852, 'pos': 0.12, 'compound': 0.9403},\n",
       " 853: {'neg': 0.0, 'neu': 0.846, 'pos': 0.154, 'compound': 0.8442},\n",
       " 854: {'neg': 0.0, 'neu': 0.613, 'pos': 0.387, 'compound': 0.8922},\n",
       " 855: {'neg': 0.0, 'neu': 0.764, 'pos': 0.236, 'compound': 0.8591},\n",
       " 856: {'neg': 0.0, 'neu': 0.78, 'pos': 0.22, 'compound': 0.8412},\n",
       " 857: {'neg': 0.051, 'neu': 0.818, 'pos': 0.132, 'compound': 0.7738},\n",
       " 858: {'neg': 0.0, 'neu': 0.75, 'pos': 0.25, 'compound': 0.8748},\n",
       " 859: {'neg': 0.0, 'neu': 0.603, 'pos': 0.397, 'compound': 0.9413},\n",
       " 860: {'neg': 0.011, 'neu': 0.801, 'pos': 0.187, 'compound': 0.9964},\n",
       " 861: {'neg': 0.033, 'neu': 0.839, 'pos': 0.128, 'compound': 0.6486},\n",
       " 862: {'neg': 0.035, 'neu': 0.551, 'pos': 0.415, 'compound': 0.978},\n",
       " 863: {'neg': 0.08, 'neu': 0.812, 'pos': 0.108, 'compound': 0.8955},\n",
       " 864: {'neg': 0.0, 'neu': 0.543, 'pos': 0.457, 'compound': 0.9118},\n",
       " 865: {'neg': 0.0, 'neu': 0.86, 'pos': 0.14, 'compound': 0.4754},\n",
       " 866: {'neg': 0.042, 'neu': 0.797, 'pos': 0.161, 'compound': 0.9943},\n",
       " 867: {'neg': 0.071, 'neu': 0.673, 'pos': 0.256, 'compound': 0.9795},\n",
       " 868: {'neg': 0.078, 'neu': 0.851, 'pos': 0.071, 'compound': -0.101},\n",
       " 869: {'neg': 0.09, 'neu': 0.586, 'pos': 0.324, 'compound': 0.8315},\n",
       " 870: {'neg': 0.0, 'neu': 0.854, 'pos': 0.146, 'compound': 0.7174},\n",
       " 871: {'neg': 0.128, 'neu': 0.717, 'pos': 0.155, 'compound': 0.1759},\n",
       " 872: {'neg': 0.0, 'neu': 1.0, 'pos': 0.0, 'compound': 0.0},\n",
       " 873: {'neg': 0.072, 'neu': 0.882, 'pos': 0.046, 'compound': -0.7391},\n",
       " 874: {'neg': 0.0, 'neu': 0.697, 'pos': 0.303, 'compound': 0.9794},\n",
       " 875: {'neg': 0.155, 'neu': 0.658, 'pos': 0.187, 'compound': 0.296},\n",
       " 876: {'neg': 0.056, 'neu': 0.809, 'pos': 0.135, 'compound': 0.9227},\n",
       " 877: {'neg': 0.0, 'neu': 0.672, 'pos': 0.328, 'compound': 0.8516},\n",
       " 878: {'neg': 0.152, 'neu': 0.637, 'pos': 0.212, 'compound': 0.832},\n",
       " 879: {'neg': 0.023, 'neu': 0.831, 'pos': 0.145, 'compound': 0.9339},\n",
       " 880: {'neg': 0.073, 'neu': 0.868, 'pos': 0.059, 'compound': 0.0867},\n",
       " 881: {'neg': 0.012, 'neu': 0.866, 'pos': 0.122, 'compound': 0.9383},\n",
       " 882: {'neg': 0.043, 'neu': 0.824, 'pos': 0.133, 'compound': 0.9547},\n",
       " 883: {'neg': 0.07, 'neu': 0.568, 'pos': 0.362, 'compound': 0.8955},\n",
       " 884: {'neg': 0.0, 'neu': 1.0, 'pos': 0.0, 'compound': 0.0},\n",
       " 885: {'neg': 0.0, 'neu': 0.644, 'pos': 0.356, 'compound': 0.8915},\n",
       " 886: {'neg': 0.02, 'neu': 0.686, 'pos': 0.294, 'compound': 0.969},\n",
       " 887: {'neg': 0.029, 'neu': 0.785, 'pos': 0.186, 'compound': 0.9429},\n",
       " 888: {'neg': 0.0, 'neu': 0.689, 'pos': 0.311, 'compound': 0.9695},\n",
       " 889: {'neg': 0.0, 'neu': 0.815, 'pos': 0.185, 'compound': 0.7717},\n",
       " 890: {'neg': 0.0, 'neu': 0.833, 'pos': 0.167, 'compound': 0.802},\n",
       " 891: {'neg': 0.0, 'neu': 0.747, 'pos': 0.253, 'compound': 0.6982},\n",
       " 892: {'neg': 0.129, 'neu': 0.773, 'pos': 0.097, 'compound': -0.7771},\n",
       " 893: {'neg': 0.0, 'neu': 0.883, 'pos': 0.117, 'compound': 0.8349},\n",
       " 894: {'neg': 0.0, 'neu': 0.786, 'pos': 0.214, 'compound': 0.9098},\n",
       " 895: {'neg': 0.0, 'neu': 0.777, 'pos': 0.223, 'compound': 0.9498},\n",
       " 896: {'neg': 0.009, 'neu': 0.775, 'pos': 0.215, 'compound': 0.9956},\n",
       " 897: {'neg': 0.11, 'neu': 0.712, 'pos': 0.178, 'compound': 0.6361},\n",
       " 898: {'neg': 0.0, 'neu': 0.563, 'pos': 0.437, 'compound': 0.9747},\n",
       " 899: {'neg': 0.089, 'neu': 0.895, 'pos': 0.017, 'compound': -0.7795},\n",
       " 900: {'neg': 0.013, 'neu': 0.783, 'pos': 0.205, 'compound': 0.9963},\n",
       " 901: {'neg': 0.012, 'neu': 0.741, 'pos': 0.247, 'compound': 0.9946},\n",
       " 902: {'neg': 0.0, 'neu': 0.836, 'pos': 0.164, 'compound': 0.9738},\n",
       " 903: {'neg': 0.045, 'neu': 0.918, 'pos': 0.037, 'compound': -0.126},\n",
       " 904: {'neg': 0.0, 'neu': 0.78, 'pos': 0.22, 'compound': 0.9891},\n",
       " 905: {'neg': 0.0, 'neu': 0.86, 'pos': 0.14, 'compound': 0.7066},\n",
       " 906: {'neg': 0.0, 'neu': 0.725, 'pos': 0.275, 'compound': 0.802},\n",
       " 907: {'neg': 0.085, 'neu': 0.714, 'pos': 0.201, 'compound': 0.913},\n",
       " 908: {'neg': 0.018, 'neu': 0.805, 'pos': 0.177, 'compound': 0.9832},\n",
       " 909: {'neg': 0.0, 'neu': 0.601, 'pos': 0.399, 'compound': 0.9856},\n",
       " 910: {'neg': 0.162, 'neu': 0.646, 'pos': 0.192, 'compound': 0.5719},\n",
       " 911: {'neg': 0.145, 'neu': 0.772, 'pos': 0.083, 'compound': -0.4588},\n",
       " 912: {'neg': 0.031, 'neu': 0.808, 'pos': 0.161, 'compound': 0.9702},\n",
       " 913: {'neg': 0.062, 'neu': 0.705, 'pos': 0.233, 'compound': 0.886},\n",
       " 914: {'neg': 0.0, 'neu': 0.8, 'pos': 0.2, 'compound': 0.6696},\n",
       " 915: {'neg': 0.0, 'neu': 0.925, 'pos': 0.075, 'compound': 0.2732},\n",
       " 916: {'neg': 0.11, 'neu': 0.638, 'pos': 0.252, 'compound': 0.8374},\n",
       " 917: {'neg': 0.094, 'neu': 0.655, 'pos': 0.252, 'compound': 0.989},\n",
       " 918: {'neg': 0.0, 'neu': 0.682, 'pos': 0.318, 'compound': 0.882},\n",
       " 919: {'neg': 0.0, 'neu': 0.742, 'pos': 0.258, 'compound': 0.8885},\n",
       " 920: {'neg': 0.0, 'neu': 0.607, 'pos': 0.393, 'compound': 0.9001},\n",
       " 921: {'neg': 0.091, 'neu': 0.769, 'pos': 0.139, 'compound': 0.7094},\n",
       " 922: {'neg': 0.0, 'neu': 0.716, 'pos': 0.284, 'compound': 0.8537},\n",
       " 923: {'neg': 0.088, 'neu': 0.67, 'pos': 0.242, 'compound': 0.9054},\n",
       " 924: {'neg': 0.06, 'neu': 0.814, 'pos': 0.126, 'compound': 0.5899},\n",
       " 925: {'neg': 0.066, 'neu': 0.631, 'pos': 0.303, 'compound': 0.836},\n",
       " 926: {'neg': 0.103, 'neu': 0.805, 'pos': 0.092, 'compound': -0.1531},\n",
       " 927: {'neg': 0.065, 'neu': 0.852, 'pos': 0.083, 'compound': -0.031},\n",
       " 928: {'neg': 0.036, 'neu': 0.794, 'pos': 0.171, 'compound': 0.766},\n",
       " 929: {'neg': 0.0, 'neu': 0.796, 'pos': 0.204, 'compound': 0.9633},\n",
       " 930: {'neg': 0.037, 'neu': 0.797, 'pos': 0.167, 'compound': 0.9609},\n",
       " 931: {'neg': 0.0, 'neu': 0.668, 'pos': 0.332, 'compound': 0.9175},\n",
       " 932: {'neg': 0.023, 'neu': 0.698, 'pos': 0.279, 'compound': 0.9945},\n",
       " 933: {'neg': 0.0, 'neu': 0.858, 'pos': 0.142, 'compound': 0.7537},\n",
       " 934: {'neg': 0.041, 'neu': 0.786, 'pos': 0.172, 'compound': 0.9235},\n",
       " 935: {'neg': 0.034, 'neu': 0.534, 'pos': 0.432, 'compound': 0.9666},\n",
       " 936: {'neg': 0.047, 'neu': 0.833, 'pos': 0.121, 'compound': 0.8633},\n",
       " 937: {'neg': 0.0, 'neu': 0.777, 'pos': 0.223, 'compound': 0.8225},\n",
       " 938: {'neg': 0.0, 'neu': 0.642, 'pos': 0.358, 'compound': 0.9055},\n",
       " 939: {'neg': 0.056, 'neu': 0.776, 'pos': 0.168, 'compound': 0.7449},\n",
       " 940: {'neg': 0.0, 'neu': 0.648, 'pos': 0.352, 'compound': 0.9732},\n",
       " 941: {'neg': 0.344, 'neu': 0.62, 'pos': 0.037, 'compound': -0.9419},\n",
       " 942: {'neg': 0.124, 'neu': 0.698, 'pos': 0.177, 'compound': 0.8038},\n",
       " 943: {'neg': 0.0, 'neu': 0.625, 'pos': 0.375, 'compound': 0.9781},\n",
       " 944: {'neg': 0.018, 'neu': 0.922, 'pos': 0.06, 'compound': 0.7089},\n",
       " 945: {'neg': 0.0, 'neu': 0.667, 'pos': 0.333, 'compound': 0.8591},\n",
       " 946: {'neg': 0.0, 'neu': 0.759, 'pos': 0.241, 'compound': 0.872},\n",
       " 947: {'neg': 0.092, 'neu': 0.774, 'pos': 0.135, 'compound': 0.685},\n",
       " 948: {'neg': 0.0, 'neu': 0.814, 'pos': 0.186, 'compound': 0.9195},\n",
       " 949: {'neg': 0.062, 'neu': 0.397, 'pos': 0.541, 'compound': 0.9509},\n",
       " 950: {'neg': 0.158, 'neu': 0.658, 'pos': 0.184, 'compound': 0.1012},\n",
       " 951: {'neg': 0.0, 'neu': 0.602, 'pos': 0.398, 'compound': 0.9109},\n",
       " 952: {'neg': 0.0, 'neu': 0.647, 'pos': 0.353, 'compound': 0.9808},\n",
       " 953: {'neg': 0.0, 'neu': 0.642, 'pos': 0.358, 'compound': 0.9668},\n",
       " 954: {'neg': 0.0, 'neu': 0.807, 'pos': 0.193, 'compound': 0.9416},\n",
       " 955: {'neg': 0.023, 'neu': 0.829, 'pos': 0.148, 'compound': 0.8623},\n",
       " 956: {'neg': 0.0, 'neu': 0.85, 'pos': 0.15, 'compound': 0.5719},\n",
       " 957: {'neg': 0.041, 'neu': 0.663, 'pos': 0.296, 'compound': 0.9103},\n",
       " 958: {'neg': 0.103, 'neu': 0.758, 'pos': 0.139, 'compound': 0.4274},\n",
       " 959: {'neg': 0.113, 'neu': 0.887, 'pos': 0.0, 'compound': -0.6249},\n",
       " 960: {'neg': 0.066, 'neu': 0.913, 'pos': 0.02, 'compound': -0.7129},\n",
       " 961: {'neg': 0.0, 'neu': 0.72, 'pos': 0.28, 'compound': 0.7906},\n",
       " 962: {'neg': 0.058, 'neu': 0.942, 'pos': 0.0, 'compound': -0.3875},\n",
       " 963: {'neg': 0.153, 'neu': 0.677, 'pos': 0.169, 'compound': 0.2263},\n",
       " 964: {'neg': 0.022, 'neu': 0.928, 'pos': 0.05, 'compound': 0.5267},\n",
       " 965: {'neg': 0.039, 'neu': 0.784, 'pos': 0.177, 'compound': 0.8705},\n",
       " 966: {'neg': 0.0, 'neu': 0.853, 'pos': 0.147, 'compound': 0.8625},\n",
       " 967: {'neg': 0.0, 'neu': 0.932, 'pos': 0.068, 'compound': 0.6463},\n",
       " 968: {'neg': 0.162, 'neu': 0.796, 'pos': 0.042, 'compound': -0.943},\n",
       " 969: {'neg': 0.0, 'neu': 0.736, 'pos': 0.264, 'compound': 0.8011},\n",
       " 970: {'neg': 0.0, 'neu': 0.859, 'pos': 0.141, 'compound': 0.9651},\n",
       " 971: {'neg': 0.04, 'neu': 0.766, 'pos': 0.194, 'compound': 0.7529},\n",
       " 972: {'neg': 0.0, 'neu': 0.666, 'pos': 0.334, 'compound': 0.9003},\n",
       " 973: {'neg': 0.122, 'neu': 0.649, 'pos': 0.229, 'compound': 0.8013},\n",
       " 974: {'neg': 0.026, 'neu': 0.806, 'pos': 0.168, 'compound': 0.9875},\n",
       " 975: {'neg': 0.0, 'neu': 0.741, 'pos': 0.259, 'compound': 0.9829},\n",
       " 976: {'neg': 0.0, 'neu': 0.846, 'pos': 0.154, 'compound': 0.6369},\n",
       " 977: {'neg': 0.056, 'neu': 0.876, 'pos': 0.069, 'compound': -0.0676},\n",
       " 978: {'neg': 0.036, 'neu': 0.836, 'pos': 0.129, 'compound': 0.9554},\n",
       " 979: {'neg': 0.089, 'neu': 0.791, 'pos': 0.12, 'compound': 0.5264},\n",
       " 980: {'neg': 0.0, 'neu': 0.661, 'pos': 0.339, 'compound': 0.9233},\n",
       " 981: {'neg': 0.0, 'neu': 0.484, 'pos': 0.516, 'compound': 0.9595},\n",
       " 982: {'neg': 0.0, 'neu': 0.767, 'pos': 0.233, 'compound': 0.9552},\n",
       " 983: {'neg': 0.0, 'neu': 0.883, 'pos': 0.117, 'compound': 0.6249},\n",
       " 984: {'neg': 0.0, 'neu': 0.781, 'pos': 0.219, 'compound': 0.9663},\n",
       " 985: {'neg': 0.0, 'neu': 0.846, 'pos': 0.154, 'compound': 0.7181},\n",
       " 986: {'neg': 0.022, 'neu': 0.805, 'pos': 0.172, 'compound': 0.9401},\n",
       " 987: {'neg': 0.059, 'neu': 0.778, 'pos': 0.163, 'compound': 0.5984},\n",
       " 988: {'neg': 0.0, 'neu': 0.805, 'pos': 0.195, 'compound': 0.902},\n",
       " 989: {'neg': 0.0, 'neu': 0.785, 'pos': 0.215, 'compound': 0.9586},\n",
       " 990: {'neg': 0.0, 'neu': 0.674, 'pos': 0.326, 'compound': 0.9631},\n",
       " 991: {'neg': 0.032, 'neu': 0.667, 'pos': 0.301, 'compound': 0.973},\n",
       " 992: {'neg': 0.0, 'neu': 0.633, 'pos': 0.367, 'compound': 0.9749},\n",
       " 993: {'neg': 0.0, 'neu': 0.662, 'pos': 0.338, 'compound': 0.9636},\n",
       " 994: {'neg': 0.0, 'neu': 0.886, 'pos': 0.114, 'compound': 0.8858},\n",
       " 995: {'neg': 0.0, 'neu': 0.828, 'pos': 0.172, 'compound': 0.7552},\n",
       " 996: {'neg': 0.026, 'neu': 0.721, 'pos': 0.253, 'compound': 0.9788},\n",
       " 997: {'neg': 0.0, 'neu': 0.786, 'pos': 0.214, 'compound': 0.9309},\n",
       " 998: {'neg': 0.0, 'neu': 0.673, 'pos': 0.327, 'compound': 0.9634},\n",
       " 999: {'neg': 0.063, 'neu': 0.874, 'pos': 0.062, 'compound': -0.0129},\n",
       " 1000: {'neg': 0.027, 'neu': 0.939, 'pos': 0.034, 'compound': -0.1027},\n",
       " ...}"
      ]
     },
     "execution_count": 96,
     "metadata": {},
     "output_type": "execute_result"
    }
   ],
   "source": [
    "res "
   ]
  },
  {
   "cell_type": "code",
   "execution_count": 97,
   "id": "69ed8890",
   "metadata": {},
   "outputs": [
    {
     "data": {
      "text/html": [
       "<div>\n",
       "<style scoped>\n",
       "    .dataframe tbody tr th:only-of-type {\n",
       "        vertical-align: middle;\n",
       "    }\n",
       "\n",
       "    .dataframe tbody tr th {\n",
       "        vertical-align: top;\n",
       "    }\n",
       "\n",
       "    .dataframe thead th {\n",
       "        text-align: right;\n",
       "    }\n",
       "</style>\n",
       "<table border=\"1\" class=\"dataframe\">\n",
       "  <thead>\n",
       "    <tr style=\"text-align: right;\">\n",
       "      <th></th>\n",
       "      <th>neg</th>\n",
       "      <th>neu</th>\n",
       "      <th>pos</th>\n",
       "      <th>compound</th>\n",
       "    </tr>\n",
       "  </thead>\n",
       "  <tbody>\n",
       "    <tr>\n",
       "      <th>1</th>\n",
       "      <td>0.000</td>\n",
       "      <td>0.695</td>\n",
       "      <td>0.305</td>\n",
       "      <td>0.9441</td>\n",
       "    </tr>\n",
       "    <tr>\n",
       "      <th>2</th>\n",
       "      <td>0.138</td>\n",
       "      <td>0.862</td>\n",
       "      <td>0.000</td>\n",
       "      <td>-0.5664</td>\n",
       "    </tr>\n",
       "    <tr>\n",
       "      <th>3</th>\n",
       "      <td>0.091</td>\n",
       "      <td>0.754</td>\n",
       "      <td>0.155</td>\n",
       "      <td>0.8265</td>\n",
       "    </tr>\n",
       "    <tr>\n",
       "      <th>4</th>\n",
       "      <td>0.000</td>\n",
       "      <td>1.000</td>\n",
       "      <td>0.000</td>\n",
       "      <td>0.0000</td>\n",
       "    </tr>\n",
       "    <tr>\n",
       "      <th>5</th>\n",
       "      <td>0.000</td>\n",
       "      <td>0.552</td>\n",
       "      <td>0.448</td>\n",
       "      <td>0.9468</td>\n",
       "    </tr>\n",
       "    <tr>\n",
       "      <th>...</th>\n",
       "      <td>...</td>\n",
       "      <td>...</td>\n",
       "      <td>...</td>\n",
       "      <td>...</td>\n",
       "    </tr>\n",
       "    <tr>\n",
       "      <th>568450</th>\n",
       "      <td>0.072</td>\n",
       "      <td>0.600</td>\n",
       "      <td>0.327</td>\n",
       "      <td>0.8589</td>\n",
       "    </tr>\n",
       "    <tr>\n",
       "      <th>568451</th>\n",
       "      <td>0.190</td>\n",
       "      <td>0.697</td>\n",
       "      <td>0.114</td>\n",
       "      <td>-0.4848</td>\n",
       "    </tr>\n",
       "    <tr>\n",
       "      <th>568452</th>\n",
       "      <td>0.037</td>\n",
       "      <td>0.884</td>\n",
       "      <td>0.078</td>\n",
       "      <td>0.4352</td>\n",
       "    </tr>\n",
       "    <tr>\n",
       "      <th>568453</th>\n",
       "      <td>0.041</td>\n",
       "      <td>0.506</td>\n",
       "      <td>0.452</td>\n",
       "      <td>0.9717</td>\n",
       "    </tr>\n",
       "    <tr>\n",
       "      <th>568454</th>\n",
       "      <td>0.000</td>\n",
       "      <td>0.846</td>\n",
       "      <td>0.154</td>\n",
       "      <td>0.4754</td>\n",
       "    </tr>\n",
       "  </tbody>\n",
       "</table>\n",
       "<p>568454 rows × 4 columns</p>\n",
       "</div>"
      ],
      "text/plain": [
       "          neg    neu    pos  compound\n",
       "1       0.000  0.695  0.305    0.9441\n",
       "2       0.138  0.862  0.000   -0.5664\n",
       "3       0.091  0.754  0.155    0.8265\n",
       "4       0.000  1.000  0.000    0.0000\n",
       "5       0.000  0.552  0.448    0.9468\n",
       "...       ...    ...    ...       ...\n",
       "568450  0.072  0.600  0.327    0.8589\n",
       "568451  0.190  0.697  0.114   -0.4848\n",
       "568452  0.037  0.884  0.078    0.4352\n",
       "568453  0.041  0.506  0.452    0.9717\n",
       "568454  0.000  0.846  0.154    0.4754\n",
       "\n",
       "[568454 rows x 4 columns]"
      ]
     },
     "execution_count": 97,
     "metadata": {},
     "output_type": "execute_result"
    }
   ],
   "source": [
    "# convert it in pandas dataframe , bcz its easy to work with DataFrame , and .T use here to flip data in horizentaly\n",
    "pd.DataFrame(res).T"
   ]
  },
  {
   "cell_type": "code",
   "execution_count": 98,
   "id": "696e3cbe",
   "metadata": {},
   "outputs": [],
   "source": [
    "vaders = pd.DataFrame(res).T\n",
    "vaders = vaders.reset_index().rename(columns={'index': 'Id'})\n",
    "vaders = vaders.merge(df, how='left')"
   ]
  },
  {
   "cell_type": "code",
   "execution_count": 99,
   "id": "062e5ae5",
   "metadata": {},
   "outputs": [
    {
     "data": {
      "text/html": [
       "<div>\n",
       "<style scoped>\n",
       "    .dataframe tbody tr th:only-of-type {\n",
       "        vertical-align: middle;\n",
       "    }\n",
       "\n",
       "    .dataframe tbody tr th {\n",
       "        vertical-align: top;\n",
       "    }\n",
       "\n",
       "    .dataframe thead th {\n",
       "        text-align: right;\n",
       "    }\n",
       "</style>\n",
       "<table border=\"1\" class=\"dataframe\">\n",
       "  <thead>\n",
       "    <tr style=\"text-align: right;\">\n",
       "      <th></th>\n",
       "      <th>Id</th>\n",
       "      <th>neg</th>\n",
       "      <th>neu</th>\n",
       "      <th>pos</th>\n",
       "      <th>compound</th>\n",
       "      <th>ProductId</th>\n",
       "      <th>UserId</th>\n",
       "      <th>ProfileName</th>\n",
       "      <th>HelpfulnessNumerator</th>\n",
       "      <th>HelpfulnessDenominator</th>\n",
       "      <th>Score</th>\n",
       "      <th>Time</th>\n",
       "      <th>Summary</th>\n",
       "      <th>Text</th>\n",
       "    </tr>\n",
       "  </thead>\n",
       "  <tbody>\n",
       "    <tr>\n",
       "      <th>0</th>\n",
       "      <td>1</td>\n",
       "      <td>0.000</td>\n",
       "      <td>0.695</td>\n",
       "      <td>0.305</td>\n",
       "      <td>0.9441</td>\n",
       "      <td>B001E4KFG0</td>\n",
       "      <td>A3SGXH7AUHU8GW</td>\n",
       "      <td>delmartian</td>\n",
       "      <td>1</td>\n",
       "      <td>1</td>\n",
       "      <td>5</td>\n",
       "      <td>1303862400</td>\n",
       "      <td>Good Quality Dog Food</td>\n",
       "      <td>I have bought several of the Vitality canned d...</td>\n",
       "    </tr>\n",
       "    <tr>\n",
       "      <th>1</th>\n",
       "      <td>2</td>\n",
       "      <td>0.138</td>\n",
       "      <td>0.862</td>\n",
       "      <td>0.000</td>\n",
       "      <td>-0.5664</td>\n",
       "      <td>B00813GRG4</td>\n",
       "      <td>A1D87F6ZCVE5NK</td>\n",
       "      <td>dll pa</td>\n",
       "      <td>0</td>\n",
       "      <td>0</td>\n",
       "      <td>1</td>\n",
       "      <td>1346976000</td>\n",
       "      <td>Not as Advertised</td>\n",
       "      <td>Product arrived labeled as Jumbo Salted Peanut...</td>\n",
       "    </tr>\n",
       "    <tr>\n",
       "      <th>2</th>\n",
       "      <td>3</td>\n",
       "      <td>0.091</td>\n",
       "      <td>0.754</td>\n",
       "      <td>0.155</td>\n",
       "      <td>0.8265</td>\n",
       "      <td>B000LQOCH0</td>\n",
       "      <td>ABXLMWJIXXAIN</td>\n",
       "      <td>Natalia Corres \"Natalia Corres\"</td>\n",
       "      <td>1</td>\n",
       "      <td>1</td>\n",
       "      <td>4</td>\n",
       "      <td>1219017600</td>\n",
       "      <td>\"Delight\" says it all</td>\n",
       "      <td>This is a confection that has been around a fe...</td>\n",
       "    </tr>\n",
       "    <tr>\n",
       "      <th>3</th>\n",
       "      <td>4</td>\n",
       "      <td>0.000</td>\n",
       "      <td>1.000</td>\n",
       "      <td>0.000</td>\n",
       "      <td>0.0000</td>\n",
       "      <td>B000UA0QIQ</td>\n",
       "      <td>A395BORC6FGVXV</td>\n",
       "      <td>Karl</td>\n",
       "      <td>3</td>\n",
       "      <td>3</td>\n",
       "      <td>2</td>\n",
       "      <td>1307923200</td>\n",
       "      <td>Cough Medicine</td>\n",
       "      <td>If you are looking for the secret ingredient i...</td>\n",
       "    </tr>\n",
       "    <tr>\n",
       "      <th>4</th>\n",
       "      <td>5</td>\n",
       "      <td>0.000</td>\n",
       "      <td>0.552</td>\n",
       "      <td>0.448</td>\n",
       "      <td>0.9468</td>\n",
       "      <td>B006K2ZZ7K</td>\n",
       "      <td>A1UQRSCLF8GW1T</td>\n",
       "      <td>Michael D. Bigham \"M. Wassir\"</td>\n",
       "      <td>0</td>\n",
       "      <td>0</td>\n",
       "      <td>5</td>\n",
       "      <td>1350777600</td>\n",
       "      <td>Great taffy</td>\n",
       "      <td>Great taffy at a great price.  There was a wid...</td>\n",
       "    </tr>\n",
       "  </tbody>\n",
       "</table>\n",
       "</div>"
      ],
      "text/plain": [
       "   Id    neg    neu    pos  compound   ProductId          UserId  \\\n",
       "0   1  0.000  0.695  0.305    0.9441  B001E4KFG0  A3SGXH7AUHU8GW   \n",
       "1   2  0.138  0.862  0.000   -0.5664  B00813GRG4  A1D87F6ZCVE5NK   \n",
       "2   3  0.091  0.754  0.155    0.8265  B000LQOCH0   ABXLMWJIXXAIN   \n",
       "3   4  0.000  1.000  0.000    0.0000  B000UA0QIQ  A395BORC6FGVXV   \n",
       "4   5  0.000  0.552  0.448    0.9468  B006K2ZZ7K  A1UQRSCLF8GW1T   \n",
       "\n",
       "                       ProfileName  HelpfulnessNumerator  \\\n",
       "0                       delmartian                     1   \n",
       "1                           dll pa                     0   \n",
       "2  Natalia Corres \"Natalia Corres\"                     1   \n",
       "3                             Karl                     3   \n",
       "4    Michael D. Bigham \"M. Wassir\"                     0   \n",
       "\n",
       "   HelpfulnessDenominator  Score        Time                Summary  \\\n",
       "0                       1      5  1303862400  Good Quality Dog Food   \n",
       "1                       0      1  1346976000      Not as Advertised   \n",
       "2                       1      4  1219017600  \"Delight\" says it all   \n",
       "3                       3      2  1307923200         Cough Medicine   \n",
       "4                       0      5  1350777600            Great taffy   \n",
       "\n",
       "                                                Text  \n",
       "0  I have bought several of the Vitality canned d...  \n",
       "1  Product arrived labeled as Jumbo Salted Peanut...  \n",
       "2  This is a confection that has been around a fe...  \n",
       "3  If you are looking for the secret ingredient i...  \n",
       "4  Great taffy at a great price.  There was a wid...  "
      ]
     },
     "execution_count": 99,
     "metadata": {},
     "output_type": "execute_result"
    }
   ],
   "source": [
    "# Now we have sentiment score and metadata\n",
    "vaders.head()"
   ]
  },
  {
   "cell_type": "code",
   "execution_count": 100,
   "id": "bacdb61b",
   "metadata": {},
   "outputs": [
    {
     "data": {
      "image/png": "[encoded data removed]",
      "text/plain": [
       "<Figure size 432x288 with 1 Axes>"
      ]
     },
     "metadata": {},
     "output_type": "display_data"
    }
   ],
   "source": [
    "# Plot VADER results\n",
    "ax = sns.barplot(data=vaders, x='Score', y='compound')\n",
    "ax.set_title('Compund Score by Amazon Star Review')\n",
    "plt.show()"
   ]
  },
  {
   "cell_type": "code",
   "execution_count": 103,
   "id": "bc8b7a2b",
   "metadata": {},
   "outputs": [
    {
     "data": {
      "text/plain": [
       "<AxesSubplot:xlabel='Score', ylabel='pos'>"
      ]
     },
     "execution_count": 103,
     "metadata": {},
     "output_type": "execute_result"
    },
    {
     "data": {
      "image/png": "[encoded data removed]",
      "text/plain": [
       "<Figure size 432x288 with 1 Axes>"
      ]
     },
     "metadata": {},
     "output_type": "display_data"
    }
   ],
   "source": [
    "sns.barplot(data=vaders, x='Score', y='pos')"
   ]
  },
  {
   "cell_type": "code",
   "execution_count": 101,
   "id": "7fde4d1d",
   "metadata": {},
   "outputs": [
    {
     "data": {
      "image/png": "[encoded data removed]",
      "text/plain": [
       "<Figure size 864x216 with 3 Axes>"
      ]
     },
     "metadata": {},
     "output_type": "display_data"
    }
   ],
   "source": [
    "fig, axs = plt.subplots(1, 3, figsize=(12, 3))\n",
    "sns.barplot(data=vaders, x='Score', y='pos', ax=axs[0])\n",
    "sns.barplot(data=vaders, x='Score', y='neu', ax=axs[1])\n",
    "sns.barplot(data=vaders, x='Score', y='neg', ax=axs[2])\n",
    "axs[0].set_title('Positive')\n",
    "axs[1].set_title('Neutral')\n",
    "axs[2].set_title('Negative')\n",
    "plt.tight_layout()\n",
    "plt.show()"
   ]
  },
  {
   "cell_type": "markdown",
   "id": "3b662bb5",
   "metadata": {},
   "source": [
    "# Step 2. Roberta Pretrained Model"
   ]
  },
  {
   "cell_type": "raw",
   "id": "323811ce",
   "metadata": {},
   "source": [
    "Step 2. Roberta Pretrained Model\n",
    "\n",
    "* Use a model trained of a large corpus of data.\n",
    "\n",
    "* Transformer model accounts for the words but also the context related to other words.Human language depends on context where    nagtive words also use for enjoyment and happiness , so this  ML model very use full there bcz they can pickup context\n",
    "\n",
    "* This model is very popular in Deeplearing\n",
    "\n",
    "\n",
    "RoBERTa is a transformers model pretrained on a large corpus of English data in a self-supervised fashion. This means it was pretrained on the raw texts only, with no humans labelling them in any way (which is why it can use lots of publicly available data) with an automatic process to generate inputs and labels from those texts."
   ]
  },
  {
   "cell_type": "code",
   "execution_count": 112,
   "id": "3b1fbc2a",
   "metadata": {},
   "outputs": [
    {
     "ename": "ModuleNotFoundError",
     "evalue": "No module named 'transformers'",
     "output_type": "error",
     "traceback": [
      "\u001b[1;31m---------------------------------------------------------------------------\u001b[0m",
      "\u001b[1;31mModuleNotFoundError\u001b[0m                       Traceback (most recent call last)",
      "Input \u001b[1;32mIn [112]\u001b[0m, in \u001b[0;36m<cell line: 1>\u001b[1;34m()\u001b[0m\n\u001b[1;32m----> 1\u001b[0m \u001b[38;5;28;01mimport\u001b[39;00m \u001b[38;5;21;01mtransformers\u001b[39;00m\n",
      "\u001b[1;31mModuleNotFoundError\u001b[0m: No module named 'transformers'"
     ]
    }
   ],
   "source": [
    "import transformers"
   ]
  },
  {
   "cell_type": "code",
   "execution_count": 115,
   "id": "0bcf8551",
   "metadata": {},
   "outputs": [
    {
     "ename": "ModuleNotFoundError",
     "evalue": "No module named 'transformers'",
     "output_type": "error",
     "traceback": [
      "\u001b[1;31m---------------------------------------------------------------------------\u001b[0m",
      "\u001b[1;31mModuleNotFoundError\u001b[0m                       Traceback (most recent call last)",
      "Input \u001b[1;32mIn [115]\u001b[0m, in \u001b[0;36m<cell line: 2>\u001b[1;34m()\u001b[0m\n\u001b[0;32m      1\u001b[0m \u001b[38;5;66;03m# Here is how to use this model to get the features of a given text in TensorFlow:\u001b[39;00m\n\u001b[1;32m----> 2\u001b[0m \u001b[38;5;28;01mfrom\u001b[39;00m \u001b[38;5;21;01mtransformers\u001b[39;00m \u001b[38;5;28;01mimport\u001b[39;00m AutoTokenizer\n\u001b[0;32m      3\u001b[0m \u001b[38;5;28;01mfrom\u001b[39;00m \u001b[38;5;21;01mtransformers\u001b[39;00m \u001b[38;5;28;01mimport\u001b[39;00m AutoModelForSequenceClassification\n\u001b[0;32m      4\u001b[0m \u001b[38;5;28;01mfrom\u001b[39;00m \u001b[38;5;21;01mscipy\u001b[39;00m\u001b[38;5;21;01m.\u001b[39;00m\u001b[38;5;21;01mspecial\u001b[39;00m \u001b[38;5;28;01mimport\u001b[39;00m softmax\n",
      "\u001b[1;31mModuleNotFoundError\u001b[0m: No module named 'transformers'"
     ]
    }
   ],
   "source": [
    "# Here is how to use this model to get the features of a given text in TensorFlow:\n",
    "from transformers import AutoTokenizer\n",
    "from transformers import AutoModelForSequenceClassification\n",
    "from scipy.special import softmax\n"
   ]
  },
  {
   "cell_type": "code",
   "execution_count": 111,
   "id": "d3c9a8e1",
   "metadata": {
    "collapsed": true
   },
   "outputs": [
    {
     "ename": "NameError",
     "evalue": "name 'AutoTokenizer' is not defined",
     "output_type": "error",
     "traceback": [
      "\u001b[1;31m---------------------------------------------------------------------------\u001b[0m",
      "\u001b[1;31mNameError\u001b[0m                                 Traceback (most recent call last)",
      "Input \u001b[1;32mIn [111]\u001b[0m, in \u001b[0;36m<cell line: 2>\u001b[1;34m()\u001b[0m\n\u001b[0;32m      1\u001b[0m MODEL \u001b[38;5;241m=\u001b[39m \u001b[38;5;124mf\u001b[39m\u001b[38;5;124m\"\u001b[39m\u001b[38;5;124mcardiffnlp/twitter-roberta-base-sentiment\u001b[39m\u001b[38;5;124m\"\u001b[39m\n\u001b[1;32m----> 2\u001b[0m tokenizer \u001b[38;5;241m=\u001b[39m \u001b[43mAutoTokenizer\u001b[49m\u001b[38;5;241m.\u001b[39mfrom_pretrained(MODEL)\n\u001b[0;32m      3\u001b[0m model \u001b[38;5;241m=\u001b[39m AutoModelForSequenceClassification\u001b[38;5;241m.\u001b[39mfrom_pretrained(MODEL)\n",
      "\u001b[1;31mNameError\u001b[0m: name 'AutoTokenizer' is not defined"
     ]
    }
   ],
   "source": [
    "MODEL = f\"cardiffnlp/twitter-roberta-base-sentiment\"\n",
    "tokenizer = AutoTokenizer.from_pretrained(MODEL)\n",
    "model = AutoModelForSequenceClassification.from_pretrained(MODEL)"
   ]
  },
  {
   "cell_type": "code",
   "execution_count": 116,
   "id": "7bacec2c",
   "metadata": {},
   "outputs": [
    {
     "ename": "ModuleNotFoundError",
     "evalue": "No module named 'transformers'",
     "output_type": "error",
     "traceback": [
      "\u001b[1;31m---------------------------------------------------------------------------\u001b[0m",
      "\u001b[1;31mModuleNotFoundError\u001b[0m                       Traceback (most recent call last)",
      "Input \u001b[1;32mIn [116]\u001b[0m, in \u001b[0;36m<cell line: 1>\u001b[1;34m()\u001b[0m\n\u001b[1;32m----> 1\u001b[0m \u001b[38;5;28;01mfrom\u001b[39;00m \u001b[38;5;21;01mtransformers\u001b[39;00m \u001b[38;5;28;01mimport\u001b[39;00m RobertaConfig, RobertaModel\n\u001b[0;32m      3\u001b[0m \u001b[38;5;66;03m# Initializing a RoBERTa configuration\u001b[39;00m\n\u001b[0;32m      4\u001b[0m configuration \u001b[38;5;241m=\u001b[39m RobertaConfig()\n",
      "\u001b[1;31mModuleNotFoundError\u001b[0m: No module named 'transformers'"
     ]
    }
   ],
   "source": [
    "from transformers import RobertaConfig, RobertaModel\n",
    "\n",
    "# Initializing a RoBERTa configuration\n",
    "configuration = RobertaConfig()\n",
    "\n",
    "# Initializing a model (with random weights) from the configuration\n",
    "model = RobertaModel(configuration)\n",
    "\n",
    "# Accessing the model configuration\n",
    "configuration = model.config"
   ]
  },
  {
   "cell_type": "code",
   "execution_count": 120,
   "id": "f3a385a6",
   "metadata": {},
   "outputs": [
    {
     "ename": "ModuleNotFoundError",
     "evalue": "No module named 'transformers'",
     "output_type": "error",
     "traceback": [
      "\u001b[1;31m---------------------------------------------------------------------------\u001b[0m",
      "\u001b[1;31mModuleNotFoundError\u001b[0m                       Traceback (most recent call last)",
      "Input \u001b[1;32mIn [120]\u001b[0m, in \u001b[0;36m<cell line: 1>\u001b[1;34m()\u001b[0m\n\u001b[1;32m----> 1\u001b[0m \u001b[38;5;28;01mfrom\u001b[39;00m \u001b[38;5;21;01mtransformers\u001b[39;00m \u001b[38;5;28;01mimport\u001b[39;00m RobertaConfig, RobertaModel\n\u001b[0;32m      3\u001b[0m \u001b[38;5;66;03m# Initializing a RoBERTa configuration\u001b[39;00m\n\u001b[0;32m      4\u001b[0m configuration \u001b[38;5;241m=\u001b[39m RobertaConfig()\n",
      "\u001b[1;31mModuleNotFoundError\u001b[0m: No module named 'transformers'"
     ]
    }
   ],
   "source": [
    "from transformers import RobertaConfig, RobertaModel\n",
    "\n",
    "# Initializing a RoBERTa configuration\n",
    "configuration = RobertaConfig()\n",
    "\n",
    "# Initializing a model (with random weights) from the configuration\n",
    "model = RobertaModel(configuration)\n",
    "\n",
    "# Accessing the model configuration\n",
    "configuration = model.config\n",
    "    "
   ]
  },
  {
   "cell_type": "code",
   "execution_count": 122,
   "id": "519a3c7e",
   "metadata": {},
   "outputs": [
    {
     "name": "stdout",
     "output_type": "stream",
     "text": [
      "This oatmeal is not good. Its mushy, soft, I don't like it. Quaker Oats is the way to go.\n"
     ]
    },
    {
     "data": {
      "text/plain": [
       "{'neg': 0.22, 'neu': 0.78, 'pos': 0.0, 'compound': -0.5448}"
      ]
     },
     "execution_count": 122,
     "metadata": {},
     "output_type": "execute_result"
    }
   ],
   "source": [
    "# VADER results on example\n",
    "print(example)\n",
    "sia.polarity_scores(example)"
   ]
  },
  {
   "cell_type": "code",
   "execution_count": 123,
   "id": "338724a5",
   "metadata": {},
   "outputs": [
    {
     "ename": "NameError",
     "evalue": "name 'tokenizer' is not defined",
     "output_type": "error",
     "traceback": [
      "\u001b[1;31m---------------------------------------------------------------------------\u001b[0m",
      "\u001b[1;31mNameError\u001b[0m                                 Traceback (most recent call last)",
      "Input \u001b[1;32mIn [123]\u001b[0m, in \u001b[0;36m<cell line: 2>\u001b[1;34m()\u001b[0m\n\u001b[0;32m      1\u001b[0m \u001b[38;5;66;03m# Run for Roberta Model\u001b[39;00m\n\u001b[1;32m----> 2\u001b[0m encoded_text \u001b[38;5;241m=\u001b[39m \u001b[43mtokenizer\u001b[49m(example, return_tensors\u001b[38;5;241m=\u001b[39m\u001b[38;5;124m'\u001b[39m\u001b[38;5;124mpt\u001b[39m\u001b[38;5;124m'\u001b[39m)\n\u001b[0;32m      3\u001b[0m output \u001b[38;5;241m=\u001b[39m model(\u001b[38;5;241m*\u001b[39m\u001b[38;5;241m*\u001b[39mencoded_text)\n\u001b[0;32m      4\u001b[0m scores \u001b[38;5;241m=\u001b[39m output[\u001b[38;5;241m0\u001b[39m][\u001b[38;5;241m0\u001b[39m]\u001b[38;5;241m.\u001b[39mdetach()\u001b[38;5;241m.\u001b[39mnumpy()\n",
      "\u001b[1;31mNameError\u001b[0m: name 'tokenizer' is not defined"
     ]
    }
   ],
   "source": [
    "# Run for Roberta Model\n",
    "encoded_text = tokenizer(example, return_tensors='pt')\n",
    "output = model(**encoded_text)\n",
    "scores = output[0][0].detach().numpy()\n",
    "scores = softmax(scores)\n",
    "scores_dict = {\n",
    "    'roberta_neg' : scores[0],\n",
    "    'roberta_neu' : scores[1],\n",
    "    'roberta_pos' : scores[2]\n",
    "}\n",
    "print(scores_dict)"
   ]
  },
  {
   "cell_type": "code",
   "execution_count": 126,
   "id": "98950a1e",
   "metadata": {},
   "outputs": [],
   "source": [
    "def polarity_scores_roberta(example):\n",
    "    encoded_text = tokenizer(example, return_tensors='pt')\n",
    "    output = model(**encoded_text)\n",
    "    scores = output[0][0].detach().numpy()\n",
    "    scores = softmax(scores)\n",
    "    scores_dict = {\n",
    "        'roberta_neg' : scores[0],\n",
    "        'roberta_neu' : scores[1],\n",
    "        'roberta_pos' : scores[2]\n",
    "    }\n",
    "    return scores_dict"
   ]
  },
  {
   "cell_type": "code",
   "execution_count": 127,
   "id": "b158d0a6",
   "metadata": {},
   "outputs": [
    {
     "data": {
      "application/vnd.jupyter.widget-view+json": {
       "model_id": "f83f312c07bf423ebe0510b081f4e579",
       "version_major": 2,
       "version_minor": 0
      },
      "text/plain": [
       "  0%|          | 0/568454 [00:00<?, ?it/s]"
      ]
     },
     "metadata": {},
     "output_type": "display_data"
    },
    {
     "ename": "NameError",
     "evalue": "name 'tokenizer' is not defined",
     "output_type": "error",
     "traceback": [
      "\u001b[1;31m---------------------------------------------------------------------------\u001b[0m",
      "\u001b[1;31mNameError\u001b[0m                                 Traceback (most recent call last)",
      "Input \u001b[1;32mIn [127]\u001b[0m, in \u001b[0;36m<cell line: 2>\u001b[1;34m()\u001b[0m\n\u001b[0;32m      8\u001b[0m \u001b[38;5;28;01mfor\u001b[39;00m key, value \u001b[38;5;129;01min\u001b[39;00m vader_result\u001b[38;5;241m.\u001b[39mitems():\n\u001b[0;32m      9\u001b[0m     vader_result_rename[\u001b[38;5;124mf\u001b[39m\u001b[38;5;124m\"\u001b[39m\u001b[38;5;124mvader_\u001b[39m\u001b[38;5;132;01m{\u001b[39;00mkey\u001b[38;5;132;01m}\u001b[39;00m\u001b[38;5;124m\"\u001b[39m] \u001b[38;5;241m=\u001b[39m value\n\u001b[1;32m---> 10\u001b[0m roberta_result \u001b[38;5;241m=\u001b[39m \u001b[43mpolarity_scores_roberta\u001b[49m\u001b[43m(\u001b[49m\u001b[43mtext\u001b[49m\u001b[43m)\u001b[49m\n\u001b[0;32m     11\u001b[0m both \u001b[38;5;241m=\u001b[39m {\u001b[38;5;241m*\u001b[39m\u001b[38;5;241m*\u001b[39mvader_result_rename, \u001b[38;5;241m*\u001b[39m\u001b[38;5;241m*\u001b[39mroberta_result}\n\u001b[0;32m     12\u001b[0m res[myid] \u001b[38;5;241m=\u001b[39m both\n",
      "Input \u001b[1;32mIn [126]\u001b[0m, in \u001b[0;36mpolarity_scores_roberta\u001b[1;34m(example)\u001b[0m\n\u001b[0;32m      1\u001b[0m \u001b[38;5;28;01mdef\u001b[39;00m \u001b[38;5;21mpolarity_scores_roberta\u001b[39m(example):\n\u001b[1;32m----> 2\u001b[0m     encoded_text \u001b[38;5;241m=\u001b[39m \u001b[43mtokenizer\u001b[49m(example, return_tensors\u001b[38;5;241m=\u001b[39m\u001b[38;5;124m'\u001b[39m\u001b[38;5;124mpt\u001b[39m\u001b[38;5;124m'\u001b[39m)\n\u001b[0;32m      3\u001b[0m     output \u001b[38;5;241m=\u001b[39m model(\u001b[38;5;241m*\u001b[39m\u001b[38;5;241m*\u001b[39mencoded_text)\n\u001b[0;32m      4\u001b[0m     scores \u001b[38;5;241m=\u001b[39m output[\u001b[38;5;241m0\u001b[39m][\u001b[38;5;241m0\u001b[39m]\u001b[38;5;241m.\u001b[39mdetach()\u001b[38;5;241m.\u001b[39mnumpy()\n",
      "\u001b[1;31mNameError\u001b[0m: name 'tokenizer' is not defined"
     ]
    }
   ],
   "source": [
    "res = {}\n",
    "for i, row in tqdm(df.iterrows(), total=len(df)):\n",
    "    try:\n",
    "        text = row['Text']\n",
    "        myid = row['Id']\n",
    "        vader_result = sia.polarity_scores(text)\n",
    "        vader_result_rename = {}\n",
    "        for key, value in vader_result.items():\n",
    "            vader_result_rename[f\"vader_{key}\"] = value\n",
    "        roberta_result = polarity_scores_roberta(text)\n",
    "        both = {**vader_result_rename, **roberta_result}\n",
    "        res[myid] = both\n",
    "    except RuntimeError:\n",
    "        print(f'Broke for id {myid}')"
   ]
  },
  {
   "cell_type": "code",
   "execution_count": 128,
   "id": "9e772c14",
   "metadata": {},
   "outputs": [],
   "source": [
    "results_df = pd.DataFrame(res).T\n",
    "results_df = results_df.reset_index().rename(columns={'index': 'Id'})\n",
    "results_df = results_df.merge(df, how='left')"
   ]
  },
  {
   "cell_type": "code",
   "execution_count": 129,
   "id": "a36bdd94",
   "metadata": {},
   "outputs": [
    {
     "ename": "NameError",
     "evalue": "name 'sults_df' is not defined",
     "output_type": "error",
     "traceback": [
      "\u001b[1;31m---------------------------------------------------------------------------\u001b[0m",
      "\u001b[1;31mNameError\u001b[0m                                 Traceback (most recent call last)",
      "Input \u001b[1;32mIn [129]\u001b[0m, in \u001b[0;36m<cell line: 1>\u001b[1;34m()\u001b[0m\n\u001b[1;32m----> 1\u001b[0m \u001b[43msults_df\u001b[49m\u001b[38;5;241m.\u001b[39mcolumns\n",
      "\u001b[1;31mNameError\u001b[0m: name 'sults_df' is not defined"
     ]
    }
   ],
   "source": [
    "sults_df.columns"
   ]
  },
  {
   "cell_type": "markdown",
   "id": "5091fd8e",
   "metadata": {},
   "source": [
    "# Step 3. Combine and compare"
   ]
  },
  {
   "cell_type": "code",
   "execution_count": 130,
   "id": "93c024ee",
   "metadata": {},
   "outputs": [
    {
     "ename": "KeyError",
     "evalue": "'vader_neg'",
     "output_type": "error",
     "traceback": [
      "\u001b[1;31m---------------------------------------------------------------------------\u001b[0m",
      "\u001b[1;31mKeyError\u001b[0m                                  Traceback (most recent call last)",
      "File \u001b[1;32m~\\anaconda3\\lib\\site-packages\\pandas\\core\\indexes\\base.py:3621\u001b[0m, in \u001b[0;36mIndex.get_loc\u001b[1;34m(self, key, method, tolerance)\u001b[0m\n\u001b[0;32m   3620\u001b[0m \u001b[38;5;28;01mtry\u001b[39;00m:\n\u001b[1;32m-> 3621\u001b[0m     \u001b[38;5;28;01mreturn\u001b[39;00m \u001b[38;5;28;43mself\u001b[39;49m\u001b[38;5;241;43m.\u001b[39;49m\u001b[43m_engine\u001b[49m\u001b[38;5;241;43m.\u001b[39;49m\u001b[43mget_loc\u001b[49m\u001b[43m(\u001b[49m\u001b[43mcasted_key\u001b[49m\u001b[43m)\u001b[49m\n\u001b[0;32m   3622\u001b[0m \u001b[38;5;28;01mexcept\u001b[39;00m \u001b[38;5;167;01mKeyError\u001b[39;00m \u001b[38;5;28;01mas\u001b[39;00m err:\n",
      "File \u001b[1;32m~\\anaconda3\\lib\\site-packages\\pandas\\_libs\\index.pyx:136\u001b[0m, in \u001b[0;36mpandas._libs.index.IndexEngine.get_loc\u001b[1;34m()\u001b[0m\n",
      "File \u001b[1;32m~\\anaconda3\\lib\\site-packages\\pandas\\_libs\\index.pyx:163\u001b[0m, in \u001b[0;36mpandas._libs.index.IndexEngine.get_loc\u001b[1;34m()\u001b[0m\n",
      "File \u001b[1;32mpandas\\_libs\\hashtable_class_helper.pxi:5198\u001b[0m, in \u001b[0;36mpandas._libs.hashtable.PyObjectHashTable.get_item\u001b[1;34m()\u001b[0m\n",
      "File \u001b[1;32mpandas\\_libs\\hashtable_class_helper.pxi:5206\u001b[0m, in \u001b[0;36mpandas._libs.hashtable.PyObjectHashTable.get_item\u001b[1;34m()\u001b[0m\n",
      "\u001b[1;31mKeyError\u001b[0m: 'vader_neg'",
      "\nThe above exception was the direct cause of the following exception:\n",
      "\u001b[1;31mKeyError\u001b[0m                                  Traceback (most recent call last)",
      "Input \u001b[1;32mIn [130]\u001b[0m, in \u001b[0;36m<cell line: 1>\u001b[1;34m()\u001b[0m\n\u001b[1;32m----> 1\u001b[0m \u001b[43msns\u001b[49m\u001b[38;5;241;43m.\u001b[39;49m\u001b[43mpairplot\u001b[49m\u001b[43m(\u001b[49m\u001b[43mdata\u001b[49m\u001b[38;5;241;43m=\u001b[39;49m\u001b[43mresults_df\u001b[49m\u001b[43m,\u001b[49m\n\u001b[0;32m      2\u001b[0m \u001b[43m             \u001b[49m\u001b[38;5;28;43mvars\u001b[39;49m\u001b[38;5;241;43m=\u001b[39;49m\u001b[43m[\u001b[49m\u001b[38;5;124;43m'\u001b[39;49m\u001b[38;5;124;43mvader_neg\u001b[39;49m\u001b[38;5;124;43m'\u001b[39;49m\u001b[43m,\u001b[49m\u001b[43m \u001b[49m\u001b[38;5;124;43m'\u001b[39;49m\u001b[38;5;124;43mvader_neu\u001b[39;49m\u001b[38;5;124;43m'\u001b[39;49m\u001b[43m,\u001b[49m\u001b[43m \u001b[49m\u001b[38;5;124;43m'\u001b[39;49m\u001b[38;5;124;43mvader_pos\u001b[39;49m\u001b[38;5;124;43m'\u001b[39;49m\u001b[43m,\u001b[49m\n\u001b[0;32m      3\u001b[0m \u001b[43m                  \u001b[49m\u001b[38;5;124;43m'\u001b[39;49m\u001b[38;5;124;43mroberta_neg\u001b[39;49m\u001b[38;5;124;43m'\u001b[39;49m\u001b[43m,\u001b[49m\u001b[43m \u001b[49m\u001b[38;5;124;43m'\u001b[39;49m\u001b[38;5;124;43mroberta_neu\u001b[39;49m\u001b[38;5;124;43m'\u001b[39;49m\u001b[43m,\u001b[49m\u001b[43m \u001b[49m\u001b[38;5;124;43m'\u001b[39;49m\u001b[38;5;124;43mroberta_pos\u001b[39;49m\u001b[38;5;124;43m'\u001b[39;49m\u001b[43m]\u001b[49m\u001b[43m,\u001b[49m\n\u001b[0;32m      4\u001b[0m \u001b[43m            \u001b[49m\u001b[43mhue\u001b[49m\u001b[38;5;241;43m=\u001b[39;49m\u001b[38;5;124;43m'\u001b[39;49m\u001b[38;5;124;43mScore\u001b[39;49m\u001b[38;5;124;43m'\u001b[39;49m\u001b[43m,\u001b[49m\n\u001b[0;32m      5\u001b[0m \u001b[43m            \u001b[49m\u001b[43mpalette\u001b[49m\u001b[38;5;241;43m=\u001b[39;49m\u001b[38;5;124;43m'\u001b[39;49m\u001b[38;5;124;43mtab10\u001b[39;49m\u001b[38;5;124;43m'\u001b[39;49m\u001b[43m)\u001b[49m\n\u001b[0;32m      6\u001b[0m plt\u001b[38;5;241m.\u001b[39mshow()\n",
      "File \u001b[1;32m~\\anaconda3\\lib\\site-packages\\seaborn\\_decorators.py:46\u001b[0m, in \u001b[0;36m_deprecate_positional_args.<locals>.inner_f\u001b[1;34m(*args, **kwargs)\u001b[0m\n\u001b[0;32m     36\u001b[0m     warnings\u001b[38;5;241m.\u001b[39mwarn(\n\u001b[0;32m     37\u001b[0m         \u001b[38;5;124m\"\u001b[39m\u001b[38;5;124mPass the following variable\u001b[39m\u001b[38;5;132;01m{}\u001b[39;00m\u001b[38;5;124m as \u001b[39m\u001b[38;5;132;01m{}\u001b[39;00m\u001b[38;5;124mkeyword arg\u001b[39m\u001b[38;5;132;01m{}\u001b[39;00m\u001b[38;5;124m: \u001b[39m\u001b[38;5;132;01m{}\u001b[39;00m\u001b[38;5;124m. \u001b[39m\u001b[38;5;124m\"\u001b[39m\n\u001b[0;32m     38\u001b[0m         \u001b[38;5;124m\"\u001b[39m\u001b[38;5;124mFrom version 0.12, the only valid positional argument \u001b[39m\u001b[38;5;124m\"\u001b[39m\n\u001b[1;32m   (...)\u001b[0m\n\u001b[0;32m     43\u001b[0m         \u001b[38;5;167;01mFutureWarning\u001b[39;00m\n\u001b[0;32m     44\u001b[0m     )\n\u001b[0;32m     45\u001b[0m kwargs\u001b[38;5;241m.\u001b[39mupdate({k: arg \u001b[38;5;28;01mfor\u001b[39;00m k, arg \u001b[38;5;129;01min\u001b[39;00m \u001b[38;5;28mzip\u001b[39m(sig\u001b[38;5;241m.\u001b[39mparameters, args)})\n\u001b[1;32m---> 46\u001b[0m \u001b[38;5;28;01mreturn\u001b[39;00m f(\u001b[38;5;241m*\u001b[39m\u001b[38;5;241m*\u001b[39mkwargs)\n",
      "File \u001b[1;32m~\\anaconda3\\lib\\site-packages\\seaborn\\axisgrid.py:2130\u001b[0m, in \u001b[0;36mpairplot\u001b[1;34m(data, hue, hue_order, palette, vars, x_vars, y_vars, kind, diag_kind, markers, height, aspect, corner, dropna, plot_kws, diag_kws, grid_kws, size)\u001b[0m\n\u001b[0;32m   2128\u001b[0m     diag_kws\u001b[38;5;241m.\u001b[39msetdefault(\u001b[38;5;124m\"\u001b[39m\u001b[38;5;124mfill\u001b[39m\u001b[38;5;124m\"\u001b[39m, \u001b[38;5;28;01mTrue\u001b[39;00m)\n\u001b[0;32m   2129\u001b[0m     diag_kws\u001b[38;5;241m.\u001b[39msetdefault(\u001b[38;5;124m\"\u001b[39m\u001b[38;5;124mwarn_singular\u001b[39m\u001b[38;5;124m\"\u001b[39m, \u001b[38;5;28;01mFalse\u001b[39;00m)\n\u001b[1;32m-> 2130\u001b[0m     grid\u001b[38;5;241m.\u001b[39mmap_diag(kdeplot, \u001b[38;5;241m*\u001b[39m\u001b[38;5;241m*\u001b[39mdiag_kws)\n\u001b[0;32m   2132\u001b[0m \u001b[38;5;66;03m# Maybe plot on the off-diagonals\u001b[39;00m\n\u001b[0;32m   2133\u001b[0m \u001b[38;5;28;01mif\u001b[39;00m diag_kind \u001b[38;5;129;01mis\u001b[39;00m \u001b[38;5;129;01mnot\u001b[39;00m \u001b[38;5;28;01mNone\u001b[39;00m:\n",
      "File \u001b[1;32m~\\anaconda3\\lib\\site-packages\\seaborn\\axisgrid.py:1461\u001b[0m, in \u001b[0;36mPairGrid.map_diag\u001b[1;34m(self, func, **kwargs)\u001b[0m\n\u001b[0;32m   1458\u001b[0m \u001b[38;5;28;01melse\u001b[39;00m:\n\u001b[0;32m   1459\u001b[0m     plt\u001b[38;5;241m.\u001b[39msca(ax)\n\u001b[1;32m-> 1461\u001b[0m vector \u001b[38;5;241m=\u001b[39m \u001b[38;5;28;43mself\u001b[39;49m\u001b[38;5;241;43m.\u001b[39;49m\u001b[43mdata\u001b[49m\u001b[43m[\u001b[49m\u001b[43mvar\u001b[49m\u001b[43m]\u001b[49m\n\u001b[0;32m   1462\u001b[0m \u001b[38;5;28;01mif\u001b[39;00m \u001b[38;5;28mself\u001b[39m\u001b[38;5;241m.\u001b[39m_hue_var \u001b[38;5;129;01mis\u001b[39;00m \u001b[38;5;129;01mnot\u001b[39;00m \u001b[38;5;28;01mNone\u001b[39;00m:\n\u001b[0;32m   1463\u001b[0m     hue \u001b[38;5;241m=\u001b[39m \u001b[38;5;28mself\u001b[39m\u001b[38;5;241m.\u001b[39mdata[\u001b[38;5;28mself\u001b[39m\u001b[38;5;241m.\u001b[39m_hue_var]\n",
      "File \u001b[1;32m~\\anaconda3\\lib\\site-packages\\pandas\\core\\frame.py:3505\u001b[0m, in \u001b[0;36mDataFrame.__getitem__\u001b[1;34m(self, key)\u001b[0m\n\u001b[0;32m   3503\u001b[0m \u001b[38;5;28;01mif\u001b[39;00m \u001b[38;5;28mself\u001b[39m\u001b[38;5;241m.\u001b[39mcolumns\u001b[38;5;241m.\u001b[39mnlevels \u001b[38;5;241m>\u001b[39m \u001b[38;5;241m1\u001b[39m:\n\u001b[0;32m   3504\u001b[0m     \u001b[38;5;28;01mreturn\u001b[39;00m \u001b[38;5;28mself\u001b[39m\u001b[38;5;241m.\u001b[39m_getitem_multilevel(key)\n\u001b[1;32m-> 3505\u001b[0m indexer \u001b[38;5;241m=\u001b[39m \u001b[38;5;28;43mself\u001b[39;49m\u001b[38;5;241;43m.\u001b[39;49m\u001b[43mcolumns\u001b[49m\u001b[38;5;241;43m.\u001b[39;49m\u001b[43mget_loc\u001b[49m\u001b[43m(\u001b[49m\u001b[43mkey\u001b[49m\u001b[43m)\u001b[49m\n\u001b[0;32m   3506\u001b[0m \u001b[38;5;28;01mif\u001b[39;00m is_integer(indexer):\n\u001b[0;32m   3507\u001b[0m     indexer \u001b[38;5;241m=\u001b[39m [indexer]\n",
      "File \u001b[1;32m~\\anaconda3\\lib\\site-packages\\pandas\\core\\indexes\\base.py:3623\u001b[0m, in \u001b[0;36mIndex.get_loc\u001b[1;34m(self, key, method, tolerance)\u001b[0m\n\u001b[0;32m   3621\u001b[0m     \u001b[38;5;28;01mreturn\u001b[39;00m \u001b[38;5;28mself\u001b[39m\u001b[38;5;241m.\u001b[39m_engine\u001b[38;5;241m.\u001b[39mget_loc(casted_key)\n\u001b[0;32m   3622\u001b[0m \u001b[38;5;28;01mexcept\u001b[39;00m \u001b[38;5;167;01mKeyError\u001b[39;00m \u001b[38;5;28;01mas\u001b[39;00m err:\n\u001b[1;32m-> 3623\u001b[0m     \u001b[38;5;28;01mraise\u001b[39;00m \u001b[38;5;167;01mKeyError\u001b[39;00m(key) \u001b[38;5;28;01mfrom\u001b[39;00m \u001b[38;5;21;01merr\u001b[39;00m\n\u001b[0;32m   3624\u001b[0m \u001b[38;5;28;01mexcept\u001b[39;00m \u001b[38;5;167;01mTypeError\u001b[39;00m:\n\u001b[0;32m   3625\u001b[0m     \u001b[38;5;66;03m# If we have a listlike key, _check_indexing_error will raise\u001b[39;00m\n\u001b[0;32m   3626\u001b[0m     \u001b[38;5;66;03m#  InvalidIndexError. Otherwise we fall through and re-raise\u001b[39;00m\n\u001b[0;32m   3627\u001b[0m     \u001b[38;5;66;03m#  the TypeError.\u001b[39;00m\n\u001b[0;32m   3628\u001b[0m     \u001b[38;5;28mself\u001b[39m\u001b[38;5;241m.\u001b[39m_check_indexing_error(key)\n",
      "\u001b[1;31mKeyError\u001b[0m: 'vader_neg'"
     ]
    },
    {
     "data": {
      "image/png": "[encoded data removed]",
      "text/plain": [
       "<Figure size 1080x1080 with 42 Axes>"
      ]
     },
     "metadata": {},
     "output_type": "display_data"
    }
   ],
   "source": [
    "sns.pairplot(data=results_df,\n",
    "             vars=['vader_neg', 'vader_neu', 'vader_pos',\n",
    "                  'roberta_neg', 'roberta_neu', 'roberta_pos'],\n",
    "            hue='Score',\n",
    "            palette='tab10')\n",
    "plt.show()"
   ]
  },
  {
   "cell_type": "markdown",
   "id": "5f7f6d7b",
   "metadata": {},
   "source": [
    "# Step 4: Review Examples:"
   ]
  },
  {
   "cell_type": "markdown",
   "id": "76d2b4ce",
   "metadata": {},
   "source": [
    "Step 4: Review Examples:\n",
    "Positive 1-Star and Negative 5-Star Reviews\n",
    "Lets look at some examples where the model scoring and review score differ the most."
   ]
  },
  {
   "cell_type": "code",
   "execution_count": 121,
   "id": "5bdcde96",
   "metadata": {},
   "outputs": [
    {
     "ename": "NameError",
     "evalue": "name 'results_df' is not defined",
     "output_type": "error",
     "traceback": [
      "\u001b[1;31m---------------------------------------------------------------------------\u001b[0m",
      "\u001b[1;31mNameError\u001b[0m                                 Traceback (most recent call last)",
      "Input \u001b[1;32mIn [121]\u001b[0m, in \u001b[0;36m<cell line: 1>\u001b[1;34m()\u001b[0m\n\u001b[1;32m----> 1\u001b[0m \u001b[43mresults_df\u001b[49m\u001b[38;5;241m.\u001b[39mquery(\u001b[38;5;124m'\u001b[39m\u001b[38;5;124mScore == 1\u001b[39m\u001b[38;5;124m'\u001b[39m) \\\n\u001b[0;32m      2\u001b[0m     \u001b[38;5;241m.\u001b[39msort_values(\u001b[38;5;124m'\u001b[39m\u001b[38;5;124mroberta_pos\u001b[39m\u001b[38;5;124m'\u001b[39m, ascending\u001b[38;5;241m=\u001b[39m\u001b[38;5;28;01mFalse\u001b[39;00m)[\u001b[38;5;124m'\u001b[39m\u001b[38;5;124mText\u001b[39m\u001b[38;5;124m'\u001b[39m]\u001b[38;5;241m.\u001b[39mvalues[\u001b[38;5;241m0\u001b[39m]\n",
      "\u001b[1;31mNameError\u001b[0m: name 'results_df' is not defined"
     ]
    }
   ],
   "source": [
    "results_df.query('Score == 1') \\\n",
    "    .sort_values('roberta_pos', ascending=False)['Text'].values[0]"
   ]
  },
  {
   "cell_type": "code",
   "execution_count": null,
   "id": "a1f5692f",
   "metadata": {},
   "outputs": [],
   "source": [
    "results_df.query('Score == 1') \\\n",
    "    .sort_values('vader_pos', ascending=False)['Text'].values[0]"
   ]
  },
  {
   "cell_type": "code",
   "execution_count": null,
   "id": "ff4fe361",
   "metadata": {},
   "outputs": [],
   "source": [
    "# nevative sentiment 5-Star view"
   ]
  },
  {
   "cell_type": "code",
   "execution_count": null,
   "id": "d649bcd8",
   "metadata": {},
   "outputs": [],
   "source": [
    "results_df.query('Score == 5') \\\n",
    "    .sort_values('roberta_neg', ascending=False)['Text'].values[0]"
   ]
  },
  {
   "cell_type": "markdown",
   "id": "2811f8b2",
   "metadata": {},
   "source": [
    "# Extra: The Transformers Pipeline\n"
   ]
  },
  {
   "cell_type": "code",
   "execution_count": null,
   "id": "2cfa370e",
   "metadata": {},
   "outputs": [],
   "source": [
    "# Quick & easy way to run sentiment predictions"
   ]
  },
  {
   "cell_type": "code",
   "execution_count": 131,
   "id": "35457327",
   "metadata": {},
   "outputs": [
    {
     "ename": "ModuleNotFoundError",
     "evalue": "No module named 'transformers'",
     "output_type": "error",
     "traceback": [
      "\u001b[1;31m---------------------------------------------------------------------------\u001b[0m",
      "\u001b[1;31mModuleNotFoundError\u001b[0m                       Traceback (most recent call last)",
      "Input \u001b[1;32mIn [131]\u001b[0m, in \u001b[0;36m<cell line: 1>\u001b[1;34m()\u001b[0m\n\u001b[1;32m----> 1\u001b[0m \u001b[38;5;28;01mfrom\u001b[39;00m \u001b[38;5;21;01mtransformers\u001b[39;00m \u001b[38;5;28;01mimport\u001b[39;00m pipeline\n\u001b[0;32m      3\u001b[0m sent_pipeline \u001b[38;5;241m=\u001b[39m pipeline(\u001b[38;5;124m\"\u001b[39m\u001b[38;5;124msentiment-analysis\u001b[39m\u001b[38;5;124m\"\u001b[39m)\n",
      "\u001b[1;31mModuleNotFoundError\u001b[0m: No module named 'transformers'"
     ]
    }
   ],
   "source": [
    "from transformers import pipeline\n",
    "\n",
    "sent_pipeline = pipeline(\"sentiment-analysis\")"
   ]
  },
  {
   "cell_type": "code",
   "execution_count": null,
   "id": "f6d18fad",
   "metadata": {},
   "outputs": [],
   "source": [
    "sent_pipeline('I love sentiment analysis!')"
   ]
  },
  {
   "cell_type": "code",
   "execution_count": null,
   "id": "93c260d5",
   "metadata": {},
   "outputs": [],
   "source": [
    "sent_pipeline('Make sure to like and subscribe!')"
   ]
  },
  {
   "cell_type": "code",
   "execution_count": null,
   "id": "f3dec7c8",
   "metadata": {},
   "outputs": [],
   "source": [
    "sent_pipeline('booo')"
   ]
  }
 ],
 "metadata": {
  "kernelspec": {
   "display_name": "Python 3 (ipykernel)",
   "language": "python",
   "name": "python3"
  },
  "language_info": {
   "codemirror_mode": {
    "name": "ipython",
    "version": 3
   },
   "file_extension": ".py",
   "mimetype": "text/x-python",
   "name": "python",
   "nbconvert_exporter": "python",
   "pygments_lexer": "ipython3",
   "version": "3.9.12"
  }
 },
 "nbformat": 4,
 "nbformat_minor": 5
}
